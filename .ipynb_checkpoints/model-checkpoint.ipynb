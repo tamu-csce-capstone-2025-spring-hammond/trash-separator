{
 "cells": [
  {
   "cell_type": "code",
   "execution_count": null,
   "metadata": {},
   "outputs": [],
   "source": [
    "import torch\n",
    "import torchvision\n",
    "import torch.nn as nn"
   ]
  },
  {
   "cell_type": "code",
   "execution_count": null,
   "metadata": {},
   "outputs": [],
   "source": [
    "class residual_block(nn.Module):\n",
    "    def __init__(self, width):\n",
    "      super(residual_block, self).__init__()\n",
    "\n",
    "      self.width = width\n",
    "      self.block = nn.Sequential(\n",
    "          nn.Conv2d(width, width, 3, padding = 1),\n",
    "          nn.ReLU(),\n",
    "          nn.Conv2d(width, width, 3, padding = 1),\n",
    "          nn.ReLU(),\n",
    "          nn.Conv2d(width, width, 3, padding = 1)\n",
    "      )\n",
    "    def forward(self, x):\n",
    "      return x + self.block(x)"
   ]
  },
  {
   "cell_type": "code",
   "execution_count": null,
   "metadata": {},
   "outputs": [],
   "source": [
    "class convnet(nn.Module):\n",
    "    def __init__(self):\n",
    "      super(convnet, self).__init__()\n",
    "\n",
    "      # input channels, output channels, conv size, padding, (etc.)\n",
    "      self.layer1 = nn.Conv2d(1, 8, 3, padding = 1)\n",
    "      self.layer2 = nn.Conv2d(8, 16, 3, padding = 1)\n",
    "      self.layer3 = residual_block(16)\n",
    "      self.layer4 = nn.Linear(16 * 2 * 2, 10)\n",
    "\n",
    "      self.pool = nn.MaxPool2d(2)\n",
    "      self.relu = nn.ReLU()\n",
    "      self.softmax = nn.Softmax(dim = 1)\n",
    "\n",
    "      self.batchnorm1 = nn.BatchNorm2d(8)\n",
    "      self.batchnorm2 = nn.BatchNorm2d(16)\n",
    "\n",
    "    def forward(self, x):\n",
    "      # layer 1\n",
    "      x = self.layer1(x)\n",
    "      x = self.batchnorm1(x)\n",
    "      x = self.pool(x)\n",
    "      x = self.relu(x)\n",
    "\n",
    "      # layer 2\n",
    "      x = self.layer2(x)\n",
    "      x = self.pool(x)\n",
    "      x = self.relu(x)\n",
    "\n",
    "      # layer 2\n",
    "      x = self.layer3(x)\n",
    "      x = self.batchnorm2(x)\n",
    "      x = self.relu(x)\n",
    "\n",
    "      # layer 4\n",
    "      x = x.reshape(-1, 16 * 2 * 2)\n",
    "      x = self.layer4(x)\n",
    "      x = self.softmax(x)\n",
    "      return x"
   ]
  }
 ],
 "metadata": {
  "kernelspec": {
   "display_name": "base",
   "language": "python",
   "name": "python3"
  },
  "language_info": {
   "name": "python",
   "version": "3.8.18"
  }
 },
 "nbformat": 4,
 "nbformat_minor": 2
}
