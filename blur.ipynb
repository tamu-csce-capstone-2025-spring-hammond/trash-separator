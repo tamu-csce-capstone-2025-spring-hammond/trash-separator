{
 "cells": [
  {
   "cell_type": "code",
   "execution_count": 1,
   "id": "ae648ff3",
   "metadata": {},
   "outputs": [],
   "source": [
    "from imutils import paths\n",
    "import cv2\n",
    "import sys\n",
    " \n",
    "def variance_of_laplacian(image):\n",
    "\t# compute the Laplacian of the image and then return the focus\n",
    "\t# measure, which is simply the variance of the Laplacian\n",
    "\treturn cv2.Laplacian(image, cv2.CV_64F).var()"
   ]
  },
  {
   "cell_type": "code",
   "execution_count": 2,
   "id": "972a80c1",
   "metadata": {},
   "outputs": [
    {
     "name": "stdout",
     "output_type": "stream",
     "text": [
      "custom-test-images/blurry.jpg - Blurry: 182.09365248813177\n"
     ]
    }
   ],
   "source": [
    "imagePath = \"custom-test-images/blurry.jpg\"\n",
    "image = cv2.imread(imagePath)\n",
    "gray = cv2.cvtColor(image, cv2.COLOR_BGR2GRAY)\n",
    "fm = variance_of_laplacian(gray)\n",
    "threshold = 600\n",
    "\n",
    "if fm > threshold:\n",
    "    text = imagePath+\" - Not Blurry: \"+str(fm)\n",
    "    print(imagePath+\" - Not Blurry: \"+str(fm))\n",
    "\n",
    "if fm < threshold:\n",
    "    text = imagePath+\" - Blurry: \"+str(fm)\n",
    "    print(imagePath+\" - Blurry: \"+str(fm))"
   ]
  }
 ],
 "metadata": {
  "kernelspec": {
   "display_name": "Python 3",
   "language": "python",
   "name": "python3"
  },
  "language_info": {
   "codemirror_mode": {
    "name": "ipython",
    "version": 3
   },
   "file_extension": ".py",
   "mimetype": "text/x-python",
   "name": "python",
   "nbconvert_exporter": "python",
   "pygments_lexer": "ipython3",
   "version": "3.13.3"
  }
 },
 "nbformat": 4,
 "nbformat_minor": 5
}
