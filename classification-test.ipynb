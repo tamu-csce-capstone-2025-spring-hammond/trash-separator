{
 "cells": [
  {
   "cell_type": "code",
   "execution_count": 1,
   "metadata": {},
   "outputs": [],
   "source": [
    "# %pip install torch torchvision matplotlib\n",
    "# CHECK CLASS NAMES BEFORE RUNNING NEW MODELS"
   ]
  },
  {
   "cell_type": "code",
   "execution_count": 2,
   "metadata": {},
   "outputs": [],
   "source": [
    "import torch\n",
    "import torchvision.transforms as transforms\n",
    "from torchvision import models\n",
    "from PIL import Image\n",
    "import os\n",
    "device = torch.device(\"cuda\" if torch.cuda.is_available() else \"cpu\")"
   ]
  },
  {
   "cell_type": "code",
   "execution_count": 10,
   "metadata": {},
   "outputs": [],
   "source": [
    "num_classes = 8  # DANGER\n",
    "model = models.resnet50()\n",
    "# model.fc = torch.nn.Linear(model.fc.in_features, num_classes)\n",
    "model.fc = torch.nn.Sequential(\n",
    "    torch.nn.Dropout(p=0.2),\n",
    "    torch.nn.Linear(model.fc.in_features, num_classes)\n",
    ") \n",
    "model.load_state_dict(torch.load(\"resnet50_model5.pth\", map_location=device))\n",
    "model.to(device)\n",
    "model.eval()  # Set model to evaluation mode\n",
    "class_names = ['battery', 'cardboard', 'glass', 'metal', 'paper', 'plastic', 'syringe', 'trash']\n",
    "\n",
    "model_dense = models.densenet121()\n",
    "# model.fc = torch.nn.Linear(model.fc.in_features, num_classes)\n",
    "model_dense.classifier = torch.nn.Sequential(\n",
    "    torch.nn.Dropout(p=0.2),  # Apply dropout for regularization\n",
    "    torch.nn.Linear(model_dense.classifier.in_features, num_classes)\n",
    ")\n",
    "model_dense.load_state_dict(torch.load(\"densenet121_model1.pth\", map_location=device))\n",
    "model_dense.to(device)\n",
    "model_dense.eval()  # Set model to evaluation mode\n",
    "class_names = ['battery', 'cardboard', 'glass', 'metal', 'paper', 'plastic', 'syringe', 'trash']\n",
    "\n",
    "num_classes_old = 6  # DANGER\n",
    "model_old = models.resnet50()\n",
    "model_old.fc = torch.nn.Linear(model_old.fc.in_features, num_classes_old)\n",
    "model_old.load_state_dict(torch.load(\"resnet50_model_old.pth\", map_location=device))\n",
    "model_old.to(device)\n",
    "model_old.eval()  # Set model to evaluation mode\n",
    "class_names_old = ['cardboard', 'glass', 'metal', 'paper', 'plastic', 'trash']\n",
    "\n",
    "num_classes_battery_soda = 2  # DANGER\n",
    "model_battery_soda = models.resnet50()\n",
    "model_battery_soda.fc = torch.nn.Linear(model_battery_soda.fc.in_features, num_classes_battery_soda)\n",
    "model_battery_soda.load_state_dict(torch.load(\"resnet50_battery_soda.pth\", map_location=device))\n",
    "model_battery_soda.to(device)\n",
    "model_battery_soda.eval()  # Set model to evaluation mode\n",
    "class_names_battery_soda = ['battery', 'soda']\n",
    "\n",
    "transform = transforms.Compose([\n",
    "    transforms.Resize((224, 224)),\n",
    "    transforms.ToTensor(),\n",
    "    transforms.Normalize(mean=[0.485, 0.456, 0.406], std=[0.229, 0.224, 0.225])\n",
    "])\n",
    "\n",
    "\n",
    "\n",
    "num_classes_vit = 9  # DANGER\n",
    "model_vit = models.vit_b_16()\n",
    "# model.fc = torch.nn.Linear(model.fc.in_features, num_classes)\n",
    "model_vit.heads.head = torch.nn.Linear(model_vit.heads.head.in_features, num_classes_vit)\n",
    "\n",
    "model_vit.load_state_dict(torch.load(\"vit_model.pth\", map_location=device))\n",
    "model_vit.to(device)\n",
    "model_vit.eval()  # Set model to evaluation mode\n",
    "class_names_vit = ['battery', 'cardboard', 'compost', 'glass', 'metal', 'paper', 'plastic', 'syringe', 'trash']\n",
    "\n",
    "\n"
   ]
  },
  {
   "cell_type": "code",
   "execution_count": null,
   "metadata": {},
   "outputs": [],
   "source": [
    "def classify_image(image_path):\n",
    "    image = Image.open(image_path).convert('RGB')\n",
    "    image = transform(image)\n",
    "    image = image.unsqueeze(0).to(device)  # Add batch dimension\n",
    "\n",
    "    # Predict\n",
    "    with torch.no_grad():\n",
    "        outputs = model(image)\n",
    "        _, predicted = torch.max(outputs, 1)\n",
    "        class_idx = predicted.item()\n",
    "        class_name = class_names[class_idx]\n",
    "\n",
    "    print(f\"Predicted Class: {class_name}\", end=' | ')\n",
    "\n",
    "def classify_image_old(image_path):\n",
    "    image = Image.open(image_path).convert('RGB')\n",
    "    image = transform(image)\n",
    "    image = image.unsqueeze(0).to(device)  # Add batch dimension\n",
    "\n",
    "    # Predict\n",
    "    with torch.no_grad():\n",
    "        outputs = model_old(image)\n",
    "        _, predicted = torch.max(outputs, 1)\n",
    "        class_idx = predicted.item()\n",
    "        class_name = class_names_old[class_idx]\n",
    "\n",
    "    print(f\"Old Predicted Class: {class_name}\", end=' | ')\n",
    "\n",
    "def classify_dense(image_path):\n",
    "    image = Image.open(image_path).convert('RGB')\n",
    "    image = transform(image)\n",
    "    image = image.unsqueeze(0).to(device)  # Add batch dimension\n",
    "\n",
    "    # Predict\n",
    "    with torch.no_grad():\n",
    "        outputs = model_old(image)\n",
    "        _, predicted = torch.max(outputs, 1)\n",
    "        class_idx = predicted.item()\n",
    "        class_name = class_names_old[class_idx]\n",
    "\n",
    "    print(f\"Dense Predicted Class: {class_name}\", end=' | ')\n",
    "\n",
    "def classify_battery_soda(image_path):\n",
    "    image = Image.open(image_path).convert('RGB')\n",
    "    image = transform(image)\n",
    "    image = image.unsqueeze(0).to(device)  # Add batch dimension\n",
    "\n",
    "    # Predict\n",
    "    with torch.no_grad():\n",
    "        outputs = model_battery_soda(image)\n",
    "        probabilities = torch.softmax(outputs, dim=1)\n",
    "        _, predicted = torch.max(outputs, 1)\n",
    "        class_idx = predicted.item()\n",
    "        class_name = class_names_battery_soda[class_idx]\n",
    "\n",
    "    # print(f\"probabilities: {probabilities}\")\n",
    "    # print(f\"Dense Predicted Class: {class_name}\", end=' | ')\n",
    "    return probabilities, class_name\n",
    "\n",
    "def classify_image_vit(image_path):\n",
    "    image = Image.open(image_path).convert('RGB')\n",
    "    image = transform(image)\n",
    "    image = image.unsqueeze(0).to(device)  # Add batch dimension\n",
    "    model_vit.to(device)\n",
    "    model_vit.eval()\n",
    "\n",
    "    # Predict\n",
    "    with torch.no_grad():\n",
    "        outputs = model_vit(image)\n",
    "        _, predicted = torch.max(outputs, 1)\n",
    "        class_idx = predicted.item()\n",
    "        class_name = class_names_vit[class_idx]\n",
    "\n",
    "    print(f\"Predicted VIT Class: {class_name}\", end=' | ')"
   ]
  },
  {
   "cell_type": "code",
   "execution_count": 13,
   "metadata": {},
   "outputs": [
    {
     "name": "stdout",
     "output_type": "stream",
     "text": [
      "Predicted Class: cardboard | Predicted Class: cardboard | Old Predicted Class: cardboard | Dense Predicted Class: cardboard | expected: cardboard\n"
     ]
    }
   ],
   "source": [
    "image_path = \"./custom-test-images/amazon-cardboard-box-03.jpg\"\n",
    "classify_image_vit(image_path)\n",
    "classify_image(image_path)\n",
    "classify_image_old(image_path)\n",
    "classify_dense(image_path)\n",
    "print('expected: cardboard')"
   ]
  },
  {
   "cell_type": "code",
   "execution_count": 5,
   "metadata": {},
   "outputs": [
    {
     "name": "stdout",
     "output_type": "stream",
     "text": [
      "Predicted Class: cardboard | Old Predicted Class: cardboard | Dense Predicted Class: cardboard | expected: cardboard\n"
     ]
    }
   ],
   "source": [
    "image_path = \"./custom-test-images/amazon-cardboard-box-03.jpg\"\n",
    "classify_image(image_path)\n",
    "classify_image_old(image_path)\n",
    "classify_dense(image_path)\n",
    "print('expected: cardboard')\n"
   ]
  },
  {
   "cell_type": "code",
   "execution_count": 43,
   "metadata": {},
   "outputs": [
    {
     "name": "stdout",
     "output_type": "stream",
     "text": [
      "Predicted Class: battery | Old Predicted Class: metal | Dense Predicted Class: metal | expected: metal\n"
     ]
    }
   ],
   "source": [
    "image_path = \"./custom-test-images/coke-real.jpg\"\n",
    "classify_image(image_path)\n",
    "classify_image_old(image_path)\n",
    "classify_dense(image_path)\n",
    "print('expected: metal')\n"
   ]
  },
  {
   "cell_type": "code",
   "execution_count": 7,
   "metadata": {},
   "outputs": [
    {
     "name": "stdout",
     "output_type": "stream",
     "text": [
      "Predicted Class: metal | Old Predicted Class: cardboard | Dense Predicted Class: cardboard | expected: metal\n"
     ]
    }
   ],
   "source": [
    "image_path = \"./custom-test-images/dietcoke.jpg\"\n",
    "classify_image(image_path)\n",
    "classify_image_old(image_path)\n",
    "classify_dense(image_path)\n",
    "print('expected: metal')\n"
   ]
  },
  {
   "cell_type": "code",
   "execution_count": 8,
   "metadata": {},
   "outputs": [
    {
     "name": "stdout",
     "output_type": "stream",
     "text": [
      "Predicted Class: battery | Old Predicted Class: metal | Dense Predicted Class: metal | expected: metal\n"
     ]
    }
   ],
   "source": [
    "image_path = \"./custom-test-images/dietcoke-removebg-preview.png\"\n",
    "classify_image(image_path)\n",
    "classify_image_old(image_path)\n",
    "classify_dense(image_path)\n",
    "print('expected: metal')\n"
   ]
  },
  {
   "cell_type": "code",
   "execution_count": 9,
   "metadata": {},
   "outputs": [
    {
     "name": "stdout",
     "output_type": "stream",
     "text": [
      "Predicted Class: battery | Old Predicted Class: glass | Dense Predicted Class: glass | expected: glass\n"
     ]
    }
   ],
   "source": [
    "image_path = \"./custom-test-images/mugs.jpg\"\n",
    "classify_image(image_path)\n",
    "classify_image_old(image_path)\n",
    "classify_dense(image_path)\n",
    "print('expected: glass')\n"
   ]
  },
  {
   "cell_type": "code",
   "execution_count": 10,
   "metadata": {},
   "outputs": [
    {
     "name": "stdout",
     "output_type": "stream",
     "text": [
      "Predicted Class: battery | Dense Predicted Class: metal | expected: battery\n"
     ]
    }
   ],
   "source": [
    "image_path = \"./custom-test-images/Duracell_AA__49529.jpg\"\n",
    "classify_image(image_path)\n",
    "classify_dense(image_path)\n",
    "print('expected: battery')"
   ]
  },
  {
   "cell_type": "code",
   "execution_count": 11,
   "metadata": {},
   "outputs": [
    {
     "name": "stdout",
     "output_type": "stream",
     "text": [
      "Predicted Class: glass | Old Predicted Class: glass | Dense Predicted Class: glass | expected: glass\n"
     ]
    }
   ],
   "source": [
    "image_path = \"./custom-test-images/wine-glass.jpg\"\n",
    "classify_image(image_path)\n",
    "classify_image_old(image_path)\n",
    "classify_dense(image_path)\n",
    "print('expected: glass')"
   ]
  },
  {
   "cell_type": "code",
   "execution_count": 12,
   "metadata": {},
   "outputs": [
    {
     "name": "stdout",
     "output_type": "stream",
     "text": [
      "Predicted Class: metal | Old Predicted Class: metal | Dense Predicted Class: metal | expected: glass\n"
     ]
    }
   ],
   "source": [
    "image_path = \"./custom-test-images/glass-container.jpg\"\n",
    "classify_image(image_path)\n",
    "classify_image_old(image_path)\n",
    "classify_dense(image_path)\n",
    "print('expected: glass')"
   ]
  },
  {
   "cell_type": "code",
   "execution_count": 13,
   "metadata": {},
   "outputs": [
    {
     "name": "stdout",
     "output_type": "stream",
     "text": [
      "Predicted Class: glass | Old Predicted Class: glass | Dense Predicted Class: glass | expected: glass\n"
     ]
    }
   ],
   "source": [
    "image_path = \"./custom-test-images/sprite.png\"\n",
    "classify_image(image_path)\n",
    "classify_image_old(image_path)\n",
    "classify_dense(image_path)\n",
    "print('expected: glass')"
   ]
  },
  {
   "cell_type": "code",
   "execution_count": 14,
   "metadata": {},
   "outputs": [
    {
     "name": "stdout",
     "output_type": "stream",
     "text": [
      "Predicted Class: battery | Old Predicted Class: metal | Dense Predicted Class: metal | expected: metal\n"
     ]
    }
   ],
   "source": [
    "image_path = \"./custom-test-images/fanta.webp\"\n",
    "classify_image(image_path)\n",
    "classify_image_old(image_path)\n",
    "classify_dense(image_path)\n",
    "print('expected: metal')"
   ]
  },
  {
   "cell_type": "code",
   "execution_count": 15,
   "metadata": {},
   "outputs": [
    {
     "name": "stdout",
     "output_type": "stream",
     "text": [
      "Predicted Class: metal | Old Predicted Class: metal | Dense Predicted Class: metal | expected: metal\n"
     ]
    }
   ],
   "source": [
    "image_path = \"./custom-test-images/pie.jpg\"\n",
    "classify_image(image_path)\n",
    "classify_image_old(image_path)\n",
    "classify_dense(image_path)\n",
    "print('expected: metal')"
   ]
  },
  {
   "cell_type": "code",
   "execution_count": 16,
   "metadata": {},
   "outputs": [
    {
     "name": "stdout",
     "output_type": "stream",
     "text": [
      "Predicted Class: glass | Old Predicted Class: glass | Dense Predicted Class: glass | expected: glass\n"
     ]
    }
   ],
   "source": [
    "image_path = \"./custom-test-images/root-beer.webp\"\n",
    "classify_image(image_path)\n",
    "classify_image_old(image_path)\n",
    "classify_dense(image_path)\n",
    "print('expected: glass')"
   ]
  },
  {
   "cell_type": "code",
   "execution_count": 17,
   "metadata": {},
   "outputs": [
    {
     "name": "stdout",
     "output_type": "stream",
     "text": [
      "Predicted Class: syringe | Old Predicted Class: glass | Dense Predicted Class: glass | expected: syringe\n"
     ]
    }
   ],
   "source": [
    "image_path = \"./custom-test-images/syringe.webp\"\n",
    "classify_image(image_path)\n",
    "classify_image_old(image_path)\n",
    "classify_dense(image_path)\n",
    "print('expected: syringe')"
   ]
  },
  {
   "cell_type": "code",
   "execution_count": 18,
   "metadata": {},
   "outputs": [
    {
     "name": "stdout",
     "output_type": "stream",
     "text": [
      "Predicted Class: syringe | Old Predicted Class: cardboard | Dense Predicted Class: cardboard | expected: syringe\n"
     ]
    }
   ],
   "source": [
    "image_path = \"./custom-test-images/syringe_with_bg.jpg\"\n",
    "classify_image(image_path)\n",
    "classify_image_old(image_path)\n",
    "classify_dense(image_path)\n",
    "print('expected: syringe')"
   ]
  },
  {
   "cell_type": "code",
   "execution_count": 19,
   "metadata": {},
   "outputs": [
    {
     "name": "stdout",
     "output_type": "stream",
     "text": [
      "Predicted Class: plastic | Old Predicted Class: metal | Dense Predicted Class: metal | expected: glass\n"
     ]
    }
   ],
   "source": [
    "image_path = \"./custom-test-images/water-glass-removebg-preview.png\"\n",
    "classify_image(image_path)\n",
    "classify_image_old(image_path)\n",
    "classify_dense(image_path)\n",
    "print('expected: glass')"
   ]
  },
  {
   "cell_type": "code",
   "execution_count": 20,
   "metadata": {},
   "outputs": [
    {
     "name": "stdout",
     "output_type": "stream",
     "text": [
      "Predicted Class: battery | Old Predicted Class: metal | Dense Predicted Class: metal | expected: plastic\n"
     ]
    }
   ],
   "source": [
    "image_path = \"./custom-test-images/plastic-cup.jpg\"\n",
    "classify_image(image_path)\n",
    "classify_image_old(image_path)\n",
    "classify_dense(image_path)\n",
    "print('expected: plastic')"
   ]
  },
  {
   "cell_type": "code",
   "execution_count": 34,
   "metadata": {},
   "outputs": [
    {
     "name": "stdout",
     "output_type": "stream",
     "text": [
      "Dense Predicted Class: battery | expected: battery\n"
     ]
    }
   ],
   "source": [
    "image_path = \"./custom-test-images/Duracell_AA__49529.jpg\"\n",
    "classify_battery_soda(image_path)\n",
    "print('expected: battery')"
   ]
  },
  {
   "cell_type": "code",
   "execution_count": 37,
   "metadata": {},
   "outputs": [
    {
     "name": "stdout",
     "output_type": "stream",
     "text": [
      "Dense Predicted Class: soda | expected: soda(metal)\n"
     ]
    }
   ],
   "source": [
    "image_path = \"./custom-test-images/dietcoke-removebg-preview.png\"\n",
    "classify_battery_soda(image_path)\n",
    "print('expected: soda(metal)')"
   ]
  },
  {
   "cell_type": "code",
   "execution_count": 49,
   "metadata": {},
   "outputs": [
    {
     "name": "stdout",
     "output_type": "stream",
     "text": [
      "Dense Predicted Class: battery | expected: soda(metal)\n",
      "Dense Predicted Class: soda | expected: soda(metal)\n"
     ]
    }
   ],
   "source": [
    "image_path = \"./custom-test-images/fanta.webp\"\n",
    "classify_battery_soda(image_path)\n",
    "print('expected: soda(metal)')\n",
    "\n",
    "image_path = \"./custom-test-images/fanta2-removebg-preview.png\"\n",
    "classify_battery_soda(image_path)\n",
    "print('expected: soda(metal)')"
   ]
  },
  {
   "cell_type": "code",
   "execution_count": 40,
   "metadata": {},
   "outputs": [
    {
     "name": "stdout",
     "output_type": "stream",
     "text": [
      "Dense Predicted Class: soda | expected: soda(metal)\n"
     ]
    }
   ],
   "source": [
    "image_path = \"./custom-test-images/gingerale2.jpg\"\n",
    "classify_battery_soda(image_path)\n",
    "print('expected: soda(metal)')"
   ]
  },
  {
   "cell_type": "code",
   "execution_count": 45,
   "metadata": {},
   "outputs": [
    {
     "name": "stdout",
     "output_type": "stream",
     "text": [
      "Dense Predicted Class: soda | expected: soda(metal)\n",
      "Dense Predicted Class: soda | expected: soda(metal)\n",
      "Dense Predicted Class: soda | expected: soda(metal)\n",
      "Dense Predicted Class: soda | expected: soda(metal)\n"
     ]
    }
   ],
   "source": [
    "image_path = \"./custom-test-images/fanta2.jpg\"\n",
    "classify_battery_soda(image_path)\n",
    "print('expected: soda(metal)')\n",
    "\n",
    "image_path = \"./custom-test-images/fanta3.jpg\"\n",
    "classify_battery_soda(image_path)\n",
    "print('expected: soda(metal)')\n",
    "\n",
    "image_path = \"./custom-test-images/coke-real-removebg-preview.png\"\n",
    "classify_battery_soda(image_path)\n",
    "print('expected: soda(metal)')\n",
    "\n",
    "image_path = \"./custom-test-images/coke2.webp\"\n",
    "classify_battery_soda(image_path)\n",
    "print('expected: soda(metal)')"
   ]
  },
  {
   "cell_type": "code",
   "execution_count": 51,
   "metadata": {},
   "outputs": [
    {
     "name": "stdout",
     "output_type": "stream",
     "text": [
      "probabilities: tensor([[0.9511, 0.0489]])\n",
      "Dense Predicted Class: battery | expected: battery\n",
      "probabilities: tensor([[0.0826, 0.9174]])\n",
      "Dense Predicted Class: soda | expected: soda(metal)\n",
      "probabilities: tensor([[0.0543, 0.9457]])\n",
      "Dense Predicted Class: soda | expected: soda(metal)\n"
     ]
    }
   ],
   "source": [
    "image_path = \"./custom-test-images/bluebattery.jpg\"\n",
    "classify_battery_soda(image_path)\n",
    "print('expected: battery')\n",
    "\n",
    "image_path = \"./custom-test-images/sunkist.jpg\"\n",
    "classify_battery_soda(image_path)\n",
    "print('expected: soda(metal)')\n",
    "\n",
    "image_path = \"./custom-test-images/sunkist-removebg-preview.png\"\n",
    "classify_battery_soda(image_path)\n",
    "print('expected: soda(metal)')"
   ]
  },
  {
   "cell_type": "code",
   "execution_count": 64,
   "metadata": {},
   "outputs": [
    {
     "name": "stdout",
     "output_type": "stream",
     "text": [
      "probabilities: tensor([[0.5628, 0.4372]])\n",
      "Dense Predicted Class: battery | battery score: 0.562760591506958 | soda score: 0.4372394382953644 | classification: battery\n"
     ]
    }
   ],
   "source": [
    "# image_path = \"./custom-test-images/pie.jpg\"\n",
    "# classify_battery_soda(image_path)\n",
    "\n",
    "image_path = \"./custom-test-images/metalcan.jpg\"\n",
    "scores, classification = classify_battery_soda(image_path)\n",
    "battery_score, soda_score = scores.squeeze().tolist()\n",
    "print(f'battery score: {battery_score} | soda score: {soda_score} | classification: {classification}')\n",
    "# note: must be 80% sure it's soda to be classifed as metal "
   ]
  }
 ],
 "metadata": {
  "kernelspec": {
   "display_name": "Python 3",
   "language": "python",
   "name": "python3"
  },
  "language_info": {
   "codemirror_mode": {
    "name": "ipython",
    "version": 3
   },
   "file_extension": ".py",
   "mimetype": "text/x-python",
   "name": "python",
   "nbconvert_exporter": "python",
   "pygments_lexer": "ipython3",
   "version": "3.8.0"
  }
 },
 "nbformat": 4,
 "nbformat_minor": 2
}
