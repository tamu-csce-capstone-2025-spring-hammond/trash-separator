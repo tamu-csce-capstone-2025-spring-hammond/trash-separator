{
 "cells": [
  {
   "cell_type": "code",
   "execution_count": null,
   "metadata": {},
   "outputs": [],
   "source": [
    "%pip install torch torchvision matplotlib"
   ]
  },
  {
   "cell_type": "code",
   "execution_count": 1,
   "metadata": {},
   "outputs": [],
   "source": [
    "import torch\n",
    "import torchvision.transforms as transforms\n",
    "from torchvision import models\n",
    "from PIL import Image\n",
    "import os\n",
    "device = torch.device(\"cuda\" if torch.cuda.is_available() else \"cpu\")"
   ]
  },
  {
   "cell_type": "code",
   "execution_count": 2,
   "metadata": {},
   "outputs": [],
   "source": [
    "num_classes = 7  # DANGER\n",
    "model = models.resnet50()\n",
    "model.fc = torch.nn.Linear(model.fc.in_features, num_classes)\n",
    "model.load_state_dict(torch.load(\"resnet50_model.pth\", map_location=device))\n",
    "model.to(device)\n",
    "model.eval()  # Set model to evaluation mode\n",
    "class_names = ['battery', 'cardboard', 'glass', 'metal', 'paper', 'plastic', 'trash']\n",
    "\n",
    "num_classes_old = 6  # DANGER\n",
    "model_old = models.resnet50()\n",
    "model_old.fc = torch.nn.Linear(model_old.fc.in_features, num_classes_old)\n",
    "model_old.load_state_dict(torch.load(\"resnet50_model_old.pth\", map_location=device))\n",
    "model_old.to(device)\n",
    "model_old.eval()  # Set model to evaluation mode\n",
    "class_names_old = ['cardboard', 'glass', 'metal', 'paper', 'plastic', 'trash']\n",
    "\n",
    "transform = transforms.Compose([\n",
    "    transforms.Resize((224, 224)),\n",
    "    transforms.ToTensor(),\n",
    "    transforms.Normalize(mean=[0.485, 0.456, 0.406], std=[0.229, 0.224, 0.225])\n",
    "])"
   ]
  },
  {
   "cell_type": "code",
   "execution_count": 3,
   "metadata": {},
   "outputs": [],
   "source": [
    "def classify_image(image_path):\n",
    "    image = Image.open(image_path).convert('RGB')\n",
    "    image = transform(image)\n",
    "    image = image.unsqueeze(0).to(device)  # Add batch dimension\n",
    "\n",
    "    # Predict\n",
    "    with torch.no_grad():\n",
    "        outputs = model(image)\n",
    "        _, predicted = torch.max(outputs, 1)\n",
    "        class_idx = predicted.item()\n",
    "        class_name = class_names[class_idx]\n",
    "\n",
    "    print(f\"Predicted Class: {class_name}\", end=' | ')\n",
    "\n",
    "def classify_image_old(image_path):\n",
    "    image = Image.open(image_path).convert('RGB')\n",
    "    image = transform(image)\n",
    "    image = image.unsqueeze(0).to(device)  # Add batch dimension\n",
    "\n",
    "    # Predict\n",
    "    with torch.no_grad():\n",
    "        outputs = model_old(image)\n",
    "        _, predicted = torch.max(outputs, 1)\n",
    "        class_idx = predicted.item()\n",
    "        class_name = class_names_old[class_idx]\n",
    "\n",
    "    print(f\"Old Predicted Class: {class_name}\", end=' | ')"
   ]
  },
  {
   "cell_type": "code",
   "execution_count": 10,
   "metadata": {},
   "outputs": [
    {
     "name": "stdout",
     "output_type": "stream",
     "text": [
      "Predicted Class: cardboard | Old Predicted Class: cardboard | expected: cardboard\n"
     ]
    }
   ],
   "source": [
    "image_path = \"./custom-test-images/amazon-cardboard-box-03.jpg\"\n",
    "classify_image(image_path)\n",
    "classify_image_old(image_path)\n",
    "print('expected: cardboard')\n"
   ]
  },
  {
   "cell_type": "code",
   "execution_count": 5,
   "metadata": {},
   "outputs": [
    {
     "name": "stdout",
     "output_type": "stream",
     "text": [
      "Predicted Class: battery | Old Predicted Class: metal | expected: metal\n"
     ]
    }
   ],
   "source": [
    "image_path = \"./custom-test-images/coke2.webp\"\n",
    "classify_image(image_path)\n",
    "classify_image_old(image_path)\n",
    "print('expected: metal')\n"
   ]
  },
  {
   "cell_type": "code",
   "execution_count": 6,
   "metadata": {},
   "outputs": [
    {
     "name": "stdout",
     "output_type": "stream",
     "text": [
      "Predicted Class: cardboard | Old Predicted Class: cardboard | expected: metal\n"
     ]
    }
   ],
   "source": [
    "image_path = \"./custom-test-images/dietcoke.jpg\"\n",
    "classify_image(image_path)\n",
    "classify_image_old(image_path)\n",
    "print('expected: metal')\n"
   ]
  },
  {
   "cell_type": "code",
   "execution_count": 7,
   "metadata": {},
   "outputs": [
    {
     "name": "stdout",
     "output_type": "stream",
     "text": [
      "Predicted Class: metal | Old Predicted Class: metal | expected: metal\n"
     ]
    }
   ],
   "source": [
    "image_path = \"./custom-test-images/dietcoke-removebg-preview.png\"\n",
    "classify_image(image_path)\n",
    "classify_image_old(image_path)\n",
    "print('expected: metal')\n"
   ]
  },
  {
   "cell_type": "code",
   "execution_count": 8,
   "metadata": {},
   "outputs": [
    {
     "name": "stdout",
     "output_type": "stream",
     "text": [
      "Predicted Class: battery | Old Predicted Class: glass | expected: glass\n"
     ]
    }
   ],
   "source": [
    "image_path = \"./custom-test-images/mugs.jpg\"\n",
    "classify_image(image_path)\n",
    "classify_image_old(image_path)\n",
    "print('expected: glass')\n"
   ]
  },
  {
   "cell_type": "code",
   "execution_count": 11,
   "metadata": {},
   "outputs": [
    {
     "name": "stdout",
     "output_type": "stream",
     "text": [
      "Predicted Class: battery | expected: battery\n"
     ]
    }
   ],
   "source": [
    "image_path = \"./custom-test-images/Duracell_AA__49529.jpg\"\n",
    "classify_image(image_path)\n",
    "print('expected: battery')"
   ]
  }
 ],
 "metadata": {
  "kernelspec": {
   "display_name": "base",
   "language": "python",
   "name": "python3"
  },
  "language_info": {
   "codemirror_mode": {
    "name": "ipython",
    "version": 3
   },
   "file_extension": ".py",
   "mimetype": "text/x-python",
   "name": "python",
   "nbconvert_exporter": "python",
   "pygments_lexer": "ipython3",
   "version": "3.11.5"
  }
 },
 "nbformat": 4,
 "nbformat_minor": 2
}
