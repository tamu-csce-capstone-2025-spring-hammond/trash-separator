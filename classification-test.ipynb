{
 "cells": [
  {
   "cell_type": "code",
   "execution_count": 3,
   "metadata": {},
   "outputs": [],
   "source": [
    "# %pip install torch torchvision matplotlib\n",
    "# CHECK CLASS NAMES BEFORE RUNNING NEW MODELS"
   ]
  },
  {
   "cell_type": "code",
   "execution_count": 1,
   "metadata": {},
   "outputs": [
    {
     "name": "stderr",
     "output_type": "stream",
     "text": [
      "c:\\Users\\civip\\anaconda3\\Lib\\site-packages\\paramiko\\transport.py:219: CryptographyDeprecationWarning: Blowfish has been deprecated\n",
      "  \"class\": algorithms.Blowfish,\n"
     ]
    }
   ],
   "source": [
    "import torch\n",
    "import torchvision.transforms as transforms\n",
    "from torchvision import models\n",
    "from PIL import Image\n",
    "from IPython.display import Image as Ipimage, display\n",
    "import os\n",
    "os.environ[\"KMP_DUPLICATE_LIB_OK\"] = \"TRUE\"\n",
    "device = torch.device(\"cuda\" if torch.cuda.is_available() else \"cpu\")\n",
    "import easyocr\n",
    "import numpy as np\n",
    "import difflib"
   ]
  },
  {
   "cell_type": "code",
   "execution_count": 2,
   "metadata": {},
   "outputs": [],
   "source": [
    "num_classes = 8  # DANGER\n",
    "model = models.resnet50()\n",
    "# model.fc = torch.nn.Linear(model.fc.in_features, num_classes)\n",
    "model.fc = torch.nn.Sequential(\n",
    "    torch.nn.Dropout(p=0.2),\n",
    "    torch.nn.Linear(model.fc.in_features, num_classes)\n",
    ") \n",
    "model.load_state_dict(torch.load(\"resnet50_model5.pth\", map_location=device))\n",
    "model.to(device)\n",
    "model.eval()  # Set model to evaluation mode\n",
    "class_names = ['battery', 'cardboard', 'glass', 'metal', 'paper', 'plastic', 'syringe', 'trash']\n",
    "\n",
    "model_dense = models.densenet121()\n",
    "# model.fc = torch.nn.Linear(model.fc.in_features, num_classes)\n",
    "model_dense.classifier = torch.nn.Sequential(\n",
    "    torch.nn.Dropout(p=0.2),  # Apply dropout for regularization\n",
    "    torch.nn.Linear(model_dense.classifier.in_features, num_classes)\n",
    ")\n",
    "model_dense.load_state_dict(torch.load(\"densenet121_model1.pth\", map_location=device))\n",
    "model_dense.to(device)\n",
    "model_dense.eval()  # Set model to evaluation mode\n",
    "class_names = ['battery', 'cardboard', 'glass', 'metal', 'paper', 'plastic', 'syringe', 'trash']\n",
    "\n",
    "num_classes_old = 6  # DANGER\n",
    "model_old = models.resnet50()\n",
    "model_old.fc = torch.nn.Linear(model_old.fc.in_features, num_classes_old)\n",
    "model_old.load_state_dict(torch.load(\"resnet50_model_old.pth\", map_location=device))\n",
    "model_old.to(device)\n",
    "model_old.eval()  # Set model to evaluation mode\n",
    "class_names_old = ['cardboard', 'glass', 'metal', 'paper', 'plastic', 'trash']\n",
    "\n",
    "num_classes_battery_soda = 2  # DANGER\n",
    "model_battery_soda = models.resnet50()\n",
    "model_battery_soda.fc = torch.nn.Linear(model_battery_soda.fc.in_features, num_classes_battery_soda)\n",
    "model_battery_soda.load_state_dict(torch.load(\"resnet50_battery_soda.pth\", map_location=device))\n",
    "model_battery_soda.to(device)\n",
    "model_battery_soda.eval()  # Set model to evaluation mode\n",
    "class_names_battery_soda = ['battery', 'soda']\n",
    "\n",
    "transform = transforms.Compose([\n",
    "    transforms.Resize((224, 224)),\n",
    "    transforms.ToTensor(),\n",
    "    transforms.Normalize(mean=[0.485, 0.456, 0.406], std=[0.229, 0.224, 0.225])\n",
    "])\n",
    "\n",
    "\n",
    "\n",
    "num_classes_vit = 9  # DANGER\n",
    "model_vit = models.vit_b_16()\n",
    "# model.fc = torch.nn.Linear(model.fc.in_features, num_classes)\n",
    "model_vit.heads.head = torch.nn.Linear(model_vit.heads.head.in_features, num_classes_vit)\n",
    "\n",
    "model_vit.load_state_dict(torch.load(\"vit_model.pth\", map_location=device))\n",
    "model_vit.to(device)\n",
    "model_vit.eval()  # Set model to evaluation mode\n",
    "class_names_vit = ['battery', 'cardboard', 'compost', 'glass', 'metal', 'paper', 'plastic', 'syringe', 'trash']\n",
    "\n",
    "\n"
   ]
  },
  {
   "cell_type": "code",
   "execution_count": 4,
   "metadata": {},
   "outputs": [],
   "source": [
    "def classify_image(image_path):\n",
    "    image = Image.open(image_path).convert('RGB')\n",
    "    image = transform(image)\n",
    "    image = image.unsqueeze(0).to(device)  # Add batch dimension\n",
    "\n",
    "    # Predict\n",
    "    with torch.no_grad():\n",
    "        outputs = model(image)\n",
    "        _, predicted = torch.max(outputs, 1)\n",
    "        class_idx = predicted.item()\n",
    "        class_name = class_names[class_idx]\n",
    "\n",
    "    print(f\"Resnet Predicted Class: {class_name}\", end=' | ')\n",
    "\n",
    "def classify_image_old(image_path):\n",
    "    image = Image.open(image_path).convert('RGB')\n",
    "    image = transform(image)\n",
    "    image = image.unsqueeze(0).to(device)  # Add batch dimension\n",
    "\n",
    "    # Predict\n",
    "    with torch.no_grad():\n",
    "        outputs = model_old(image)\n",
    "        _, predicted = torch.max(outputs, 1)\n",
    "        class_idx = predicted.item()\n",
    "        class_name = class_names_old[class_idx]\n",
    "\n",
    "    print(f\"Old Predicted Class: {class_name}\", end=' | ')\n",
    "\n",
    "def classify_dense(image_path):\n",
    "    image = Image.open(image_path).convert('RGB')\n",
    "    image = transform(image)\n",
    "    image = image.unsqueeze(0).to(device)  # Add batch dimension\n",
    "\n",
    "    # Predict\n",
    "    with torch.no_grad():\n",
    "        outputs = model_old(image)\n",
    "        _, predicted = torch.max(outputs, 1)\n",
    "        class_idx = predicted.item()\n",
    "        class_name = class_names_old[class_idx]\n",
    "\n",
    "    print(f\"Dense Predicted Class: {class_name}\", end=' | ')\n",
    "\n",
    "def classify_battery_soda(image_path):\n",
    "    image = Image.open(image_path).convert('RGB')\n",
    "    image = transform(image)\n",
    "    image = image.unsqueeze(0).to(device)  # Add batch dimension\n",
    "\n",
    "    # Predict\n",
    "    with torch.no_grad():\n",
    "        outputs = model_battery_soda(image)\n",
    "        probabilities = torch.softmax(outputs, dim=1)\n",
    "        _, predicted = torch.max(outputs, 1)\n",
    "        class_idx = predicted.item()\n",
    "        class_name = class_names_battery_soda[class_idx]\n",
    "\n",
    "    # print(f\"probabilities: {probabilities}\")\n",
    "    # print(f\"Dense Predicted Class: {class_name}\", end=' | ')\n",
    "    return probabilities, class_name\n",
    "\n",
    "def classify_image_vit(image_path):\n",
    "    image = Image.open(image_path).convert('RGB')\n",
    "    image = transform(image)\n",
    "    image = image.unsqueeze(0).to(device)  # Add batch dimension\n",
    "    model_vit.to(device)\n",
    "    model_vit.eval()\n",
    "\n",
    "    # Predict\n",
    "    with torch.no_grad():\n",
    "        outputs = model_vit(image)\n",
    "        probs = torch.softmax(outputs, dim=1)\n",
    "        _, predicted = torch.max(outputs, 1)\n",
    "        class_idx = predicted.item()\n",
    "        class_name = class_names_vit[class_idx]\n",
    "\n",
    "    probs = probs.squeeze(0)\n",
    "    scores = {}\n",
    "    for i in range(len(class_names_vit)):\n",
    "        scores[class_names_vit[i]] = round(probs[i].item(), 4)\n",
    "    return scores, class_name\n",
    "\n",
    "def ocr_score(image_path):\n",
    "    look_up = {\n",
    "        'battery': ['battery'],\n",
    "        'AA' : ['battery'],\n",
    "        'AAA' : ['battery'],\n",
    "        'mah' : ['battery'],\n",
    "        'duracell': ['battery'],\n",
    "        'energizer': ['battery'],\n",
    "        'dr pepper' : ['metal', 'glass'],\n",
    "        'sprite' : ['metal', 'glass'],\n",
    "        'pepsi' : ['metal', 'glass'],\n",
    "        'coca cola' : ['metal', 'glass'],\n",
    "        'fanta' : ['metal', 'glass'],\n",
    "        'coke' : ['metal', 'glass'],\n",
    "        'campbell' : ['metal'],\n",
    "        'soup' : ['metal', 'plastic', 'glass'],\n",
    "        'ml' : ['metal', 'plastic', 'glass'],\n",
    "        'soda' : ['metal', 'plastic', 'glass']\n",
    "    }\n",
    "    reader = easyocr.Reader(['en'], gpu=True)\n",
    "    original_img = Image.open(image_path)\n",
    "    rotations = [original_img] + [original_img.rotate(angle, expand=True) for angle in [90, 180, 270]]\n",
    "    output = set()\n",
    "    for i, img in enumerate(rotations):\n",
    "        print(f\"\\n--- OCR for rotation {i * 90}° ---\")\n",
    "        out = []\n",
    "        img_np = np.array(img)\n",
    "        results = reader.readtext(img_np)\n",
    "        for detection in results:\n",
    "            out.append(detection[1])\n",
    "        \n",
    "        for word in out:\n",
    "            for key, val in look_up.items():\n",
    "                ratio = difflib.SequenceMatcher(None, word, key).ratio()\n",
    "                if ratio > 0.7:\n",
    "                    print(f'scanned word: {word} | look up word: {key} | likely classes: {val} | confidence score: {ratio}')\n",
    "                    for v in val:\n",
    "                        output.add(v)\n",
    "    return list(output)\n",
    "\n",
    "def display_image(image_path):\n",
    "    img = Image.open(image_path)\n",
    "    max_width = 300\n",
    "    max_height = 200\n",
    "    img.thumbnail((max_width, max_height))\n",
    "    display(img)"
   ]
  },
  {
   "cell_type": "code",
   "execution_count": null,
   "metadata": {},
   "outputs": [],
   "source": [
    "image_path = f\"./custom-test-images/Duracell_AA__49529.jpg\"\n",
    "display_image(image_path)\n",
    "scores, class_name = classify_image_vit(image_path)\n",
    "print(scores)\n",
    "print(class_name)\n",
    "ocr_score(image_path)"
   ]
  },
  {
   "cell_type": "code",
   "execution_count": 5,
   "metadata": {},
   "outputs": [
    {
     "data": {
      "image/png": "[encoded data removed]",
      "text/plain": [
       "<PIL.JpegImagePlugin.JpegImageFile image mode=RGB size=300x169>"
      ]
     },
     "metadata": {},
     "output_type": "display_data"
    },
    {
     "name": "stderr",
     "output_type": "stream",
     "text": [
      "Neither CUDA nor MPS are available - defaulting to CPU. Note: This module is much faster with a GPU.\n"
     ]
    },
    {
     "name": "stdout",
     "output_type": "stream",
     "text": [
      "\n",
      "--- OCR for rotation 0° ---\n",
      "\n",
      "--- OCR for rotation 90° ---\n",
      "\n",
      "--- OCR for rotation 180° ---\n"
     ]
    },
    {
     "ename": "KeyboardInterrupt",
     "evalue": "",
     "output_type": "error",
     "traceback": [
      "\u001b[1;31m---------------------------------------------------------------------------\u001b[0m",
      "\u001b[1;31mKeyboardInterrupt\u001b[0m                         Traceback (most recent call last)",
      "Cell \u001b[1;32mIn[5], line 5\u001b[0m\n\u001b[0;32m      3\u001b[0m display_image(image_path)\n\u001b[0;32m      4\u001b[0m scores, class_name \u001b[38;5;241m=\u001b[39m classify_image_vit(image_path)\n\u001b[1;32m----> 5\u001b[0m ocr_score(image_path)\n\u001b[0;32m      6\u001b[0m \u001b[38;5;28mprint\u001b[39m(scores)\n\u001b[0;32m      7\u001b[0m \u001b[38;5;28mprint\u001b[39m(class_name)\n",
      "Cell \u001b[1;32mIn[4], line 108\u001b[0m, in \u001b[0;36mocr_score\u001b[1;34m(image_path)\u001b[0m\n\u001b[0;32m    106\u001b[0m out \u001b[38;5;241m=\u001b[39m []\n\u001b[0;32m    107\u001b[0m img_np \u001b[38;5;241m=\u001b[39m np\u001b[38;5;241m.\u001b[39marray(img)\n\u001b[1;32m--> 108\u001b[0m results \u001b[38;5;241m=\u001b[39m reader\u001b[38;5;241m.\u001b[39mreadtext(img_np)\n\u001b[0;32m    109\u001b[0m \u001b[38;5;28;01mfor\u001b[39;00m detection \u001b[38;5;129;01min\u001b[39;00m results:\n\u001b[0;32m    110\u001b[0m     out\u001b[38;5;241m.\u001b[39mappend(detection[\u001b[38;5;241m1\u001b[39m])\n",
      "File \u001b[1;32mc:\\Users\\civip\\anaconda3\\Lib\\site-packages\\easyocr\\easyocr.py:456\u001b[0m, in \u001b[0;36mReader.readtext\u001b[1;34m(self, image, decoder, beamWidth, batch_size, workers, allowlist, blocklist, detail, rotation_info, paragraph, min_size, contrast_ths, adjust_contrast, filter_ths, text_threshold, low_text, link_threshold, canvas_size, mag_ratio, slope_ths, ycenter_ths, height_ths, width_ths, y_ths, x_ths, add_margin, threshold, bbox_min_score, bbox_min_size, max_candidates, output_format)\u001b[0m\n\u001b[0;32m    450\u001b[0m \u001b[38;5;250m\u001b[39m\u001b[38;5;124;03m'''\u001b[39;00m\n\u001b[0;32m    451\u001b[0m \u001b[38;5;124;03mParameters:\u001b[39;00m\n\u001b[0;32m    452\u001b[0m \u001b[38;5;124;03mimage: file path or numpy-array or a byte stream object\u001b[39;00m\n\u001b[0;32m    453\u001b[0m \u001b[38;5;124;03m'''\u001b[39;00m\n\u001b[0;32m    454\u001b[0m img, img_cv_grey \u001b[38;5;241m=\u001b[39m reformat_input(image)\n\u001b[1;32m--> 456\u001b[0m horizontal_list, free_list \u001b[38;5;241m=\u001b[39m \u001b[38;5;28mself\u001b[39m\u001b[38;5;241m.\u001b[39mdetect(img, \n\u001b[0;32m    457\u001b[0m                                          min_size \u001b[38;5;241m=\u001b[39m min_size, text_threshold \u001b[38;5;241m=\u001b[39m text_threshold,\\\n\u001b[0;32m    458\u001b[0m                                          low_text \u001b[38;5;241m=\u001b[39m low_text, link_threshold \u001b[38;5;241m=\u001b[39m link_threshold,\\\n\u001b[0;32m    459\u001b[0m                                          canvas_size \u001b[38;5;241m=\u001b[39m canvas_size, mag_ratio \u001b[38;5;241m=\u001b[39m mag_ratio,\\\n\u001b[0;32m    460\u001b[0m                                          slope_ths \u001b[38;5;241m=\u001b[39m slope_ths, ycenter_ths \u001b[38;5;241m=\u001b[39m ycenter_ths,\\\n\u001b[0;32m    461\u001b[0m                                          height_ths \u001b[38;5;241m=\u001b[39m height_ths, width_ths\u001b[38;5;241m=\u001b[39m width_ths,\\\n\u001b[0;32m    462\u001b[0m                                          add_margin \u001b[38;5;241m=\u001b[39m add_margin, reformat \u001b[38;5;241m=\u001b[39m \u001b[38;5;28;01mFalse\u001b[39;00m,\\\n\u001b[0;32m    463\u001b[0m                                          threshold \u001b[38;5;241m=\u001b[39m threshold, bbox_min_score \u001b[38;5;241m=\u001b[39m bbox_min_score,\\\n\u001b[0;32m    464\u001b[0m                                          bbox_min_size \u001b[38;5;241m=\u001b[39m bbox_min_size, max_candidates \u001b[38;5;241m=\u001b[39m max_candidates\n\u001b[0;32m    465\u001b[0m                                          )\n\u001b[0;32m    466\u001b[0m \u001b[38;5;66;03m# get the 1st result from hor & free list as self.detect returns a list of depth 3\u001b[39;00m\n\u001b[0;32m    467\u001b[0m horizontal_list, free_list \u001b[38;5;241m=\u001b[39m horizontal_list[\u001b[38;5;241m0\u001b[39m], free_list[\u001b[38;5;241m0\u001b[39m]\n",
      "File \u001b[1;32mc:\\Users\\civip\\anaconda3\\Lib\\site-packages\\easyocr\\easyocr.py:321\u001b[0m, in \u001b[0;36mReader.detect\u001b[1;34m(self, img, min_size, text_threshold, low_text, link_threshold, canvas_size, mag_ratio, slope_ths, ycenter_ths, height_ths, width_ths, add_margin, reformat, optimal_num_chars, threshold, bbox_min_score, bbox_min_size, max_candidates)\u001b[0m\n\u001b[0;32m    318\u001b[0m \u001b[38;5;28;01mif\u001b[39;00m reformat:\n\u001b[0;32m    319\u001b[0m     img, img_cv_grey \u001b[38;5;241m=\u001b[39m reformat_input(img)\n\u001b[1;32m--> 321\u001b[0m text_box_list \u001b[38;5;241m=\u001b[39m \u001b[38;5;28mself\u001b[39m\u001b[38;5;241m.\u001b[39mget_textbox(\u001b[38;5;28mself\u001b[39m\u001b[38;5;241m.\u001b[39mdetector, \n\u001b[0;32m    322\u001b[0m                             img, \n\u001b[0;32m    323\u001b[0m                             canvas_size \u001b[38;5;241m=\u001b[39m canvas_size, \n\u001b[0;32m    324\u001b[0m                             mag_ratio \u001b[38;5;241m=\u001b[39m mag_ratio,\n\u001b[0;32m    325\u001b[0m                             text_threshold \u001b[38;5;241m=\u001b[39m text_threshold, \n\u001b[0;32m    326\u001b[0m                             link_threshold \u001b[38;5;241m=\u001b[39m link_threshold, \n\u001b[0;32m    327\u001b[0m                             low_text \u001b[38;5;241m=\u001b[39m low_text,\n\u001b[0;32m    328\u001b[0m                             poly \u001b[38;5;241m=\u001b[39m \u001b[38;5;28;01mFalse\u001b[39;00m, \n\u001b[0;32m    329\u001b[0m                             device \u001b[38;5;241m=\u001b[39m \u001b[38;5;28mself\u001b[39m\u001b[38;5;241m.\u001b[39mdevice, \n\u001b[0;32m    330\u001b[0m                             optimal_num_chars \u001b[38;5;241m=\u001b[39m optimal_num_chars,\n\u001b[0;32m    331\u001b[0m                             threshold \u001b[38;5;241m=\u001b[39m threshold, \n\u001b[0;32m    332\u001b[0m                             bbox_min_score \u001b[38;5;241m=\u001b[39m bbox_min_score, \n\u001b[0;32m    333\u001b[0m                             bbox_min_size \u001b[38;5;241m=\u001b[39m bbox_min_size, \n\u001b[0;32m    334\u001b[0m                             max_candidates \u001b[38;5;241m=\u001b[39m max_candidates,\n\u001b[0;32m    335\u001b[0m                             )\n\u001b[0;32m    337\u001b[0m horizontal_list_agg, free_list_agg \u001b[38;5;241m=\u001b[39m [], []\n\u001b[0;32m    338\u001b[0m \u001b[38;5;28;01mfor\u001b[39;00m text_box \u001b[38;5;129;01min\u001b[39;00m text_box_list:\n",
      "File \u001b[1;32mc:\\Users\\civip\\anaconda3\\Lib\\site-packages\\easyocr\\detection.py:95\u001b[0m, in \u001b[0;36mget_textbox\u001b[1;34m(detector, image, canvas_size, mag_ratio, text_threshold, link_threshold, low_text, poly, device, optimal_num_chars, **kwargs)\u001b[0m\n\u001b[0;32m     93\u001b[0m result \u001b[38;5;241m=\u001b[39m []\n\u001b[0;32m     94\u001b[0m estimate_num_chars \u001b[38;5;241m=\u001b[39m optimal_num_chars \u001b[38;5;129;01mis\u001b[39;00m \u001b[38;5;129;01mnot\u001b[39;00m \u001b[38;5;28;01mNone\u001b[39;00m\n\u001b[1;32m---> 95\u001b[0m bboxes_list, polys_list \u001b[38;5;241m=\u001b[39m test_net(canvas_size, mag_ratio, detector,\n\u001b[0;32m     96\u001b[0m                                    image, text_threshold,\n\u001b[0;32m     97\u001b[0m                                    link_threshold, low_text, poly,\n\u001b[0;32m     98\u001b[0m                                    device, estimate_num_chars)\n\u001b[0;32m     99\u001b[0m \u001b[38;5;28;01mif\u001b[39;00m estimate_num_chars:\n\u001b[0;32m    100\u001b[0m     polys_list \u001b[38;5;241m=\u001b[39m [[p \u001b[38;5;28;01mfor\u001b[39;00m p, _ \u001b[38;5;129;01min\u001b[39;00m \u001b[38;5;28msorted\u001b[39m(polys, key\u001b[38;5;241m=\u001b[39m\u001b[38;5;28;01mlambda\u001b[39;00m x: \u001b[38;5;28mabs\u001b[39m(optimal_num_chars \u001b[38;5;241m-\u001b[39m x[\u001b[38;5;241m1\u001b[39m]))]\n\u001b[0;32m    101\u001b[0m                   \u001b[38;5;28;01mfor\u001b[39;00m polys \u001b[38;5;129;01min\u001b[39;00m polys_list]\n",
      "File \u001b[1;32mc:\\Users\\civip\\anaconda3\\Lib\\site-packages\\easyocr\\detection.py:46\u001b[0m, in \u001b[0;36mtest_net\u001b[1;34m(canvas_size, mag_ratio, net, image, text_threshold, link_threshold, low_text, poly, device, estimate_num_chars)\u001b[0m\n\u001b[0;32m     44\u001b[0m \u001b[38;5;66;03m# forward pass\u001b[39;00m\n\u001b[0;32m     45\u001b[0m \u001b[38;5;28;01mwith\u001b[39;00m torch\u001b[38;5;241m.\u001b[39mno_grad():\n\u001b[1;32m---> 46\u001b[0m     y, feature \u001b[38;5;241m=\u001b[39m net(x)\n\u001b[0;32m     48\u001b[0m boxes_list, polys_list \u001b[38;5;241m=\u001b[39m [], []\n\u001b[0;32m     49\u001b[0m \u001b[38;5;28;01mfor\u001b[39;00m out \u001b[38;5;129;01min\u001b[39;00m y:\n\u001b[0;32m     50\u001b[0m     \u001b[38;5;66;03m# make score and link map\u001b[39;00m\n",
      "File \u001b[1;32mc:\\Users\\civip\\anaconda3\\Lib\\site-packages\\torch\\nn\\modules\\module.py:1739\u001b[0m, in \u001b[0;36mModule._wrapped_call_impl\u001b[1;34m(self, *args, **kwargs)\u001b[0m\n\u001b[0;32m   1737\u001b[0m     \u001b[38;5;28;01mreturn\u001b[39;00m \u001b[38;5;28mself\u001b[39m\u001b[38;5;241m.\u001b[39m_compiled_call_impl(\u001b[38;5;241m*\u001b[39margs, \u001b[38;5;241m*\u001b[39m\u001b[38;5;241m*\u001b[39mkwargs)  \u001b[38;5;66;03m# type: ignore[misc]\u001b[39;00m\n\u001b[0;32m   1738\u001b[0m \u001b[38;5;28;01melse\u001b[39;00m:\n\u001b[1;32m-> 1739\u001b[0m     \u001b[38;5;28;01mreturn\u001b[39;00m \u001b[38;5;28mself\u001b[39m\u001b[38;5;241m.\u001b[39m_call_impl(\u001b[38;5;241m*\u001b[39margs, \u001b[38;5;241m*\u001b[39m\u001b[38;5;241m*\u001b[39mkwargs)\n",
      "File \u001b[1;32mc:\\Users\\civip\\anaconda3\\Lib\\site-packages\\torch\\nn\\modules\\module.py:1750\u001b[0m, in \u001b[0;36mModule._call_impl\u001b[1;34m(self, *args, **kwargs)\u001b[0m\n\u001b[0;32m   1745\u001b[0m \u001b[38;5;66;03m# If we don't have any hooks, we want to skip the rest of the logic in\u001b[39;00m\n\u001b[0;32m   1746\u001b[0m \u001b[38;5;66;03m# this function, and just call forward.\u001b[39;00m\n\u001b[0;32m   1747\u001b[0m \u001b[38;5;28;01mif\u001b[39;00m \u001b[38;5;129;01mnot\u001b[39;00m (\u001b[38;5;28mself\u001b[39m\u001b[38;5;241m.\u001b[39m_backward_hooks \u001b[38;5;129;01mor\u001b[39;00m \u001b[38;5;28mself\u001b[39m\u001b[38;5;241m.\u001b[39m_backward_pre_hooks \u001b[38;5;129;01mor\u001b[39;00m \u001b[38;5;28mself\u001b[39m\u001b[38;5;241m.\u001b[39m_forward_hooks \u001b[38;5;129;01mor\u001b[39;00m \u001b[38;5;28mself\u001b[39m\u001b[38;5;241m.\u001b[39m_forward_pre_hooks\n\u001b[0;32m   1748\u001b[0m         \u001b[38;5;129;01mor\u001b[39;00m _global_backward_pre_hooks \u001b[38;5;129;01mor\u001b[39;00m _global_backward_hooks\n\u001b[0;32m   1749\u001b[0m         \u001b[38;5;129;01mor\u001b[39;00m _global_forward_hooks \u001b[38;5;129;01mor\u001b[39;00m _global_forward_pre_hooks):\n\u001b[1;32m-> 1750\u001b[0m     \u001b[38;5;28;01mreturn\u001b[39;00m forward_call(\u001b[38;5;241m*\u001b[39margs, \u001b[38;5;241m*\u001b[39m\u001b[38;5;241m*\u001b[39mkwargs)\n\u001b[0;32m   1752\u001b[0m result \u001b[38;5;241m=\u001b[39m \u001b[38;5;28;01mNone\u001b[39;00m\n\u001b[0;32m   1753\u001b[0m called_always_called_hooks \u001b[38;5;241m=\u001b[39m \u001b[38;5;28mset\u001b[39m()\n",
      "File \u001b[1;32mc:\\Users\\civip\\anaconda3\\Lib\\site-packages\\easyocr\\craft.py:60\u001b[0m, in \u001b[0;36mCRAFT.forward\u001b[1;34m(self, x)\u001b[0m\n\u001b[0;32m     58\u001b[0m \u001b[38;5;28;01mdef\u001b[39;00m \u001b[38;5;21mforward\u001b[39m(\u001b[38;5;28mself\u001b[39m, x):\n\u001b[0;32m     59\u001b[0m \u001b[38;5;250m    \u001b[39m\u001b[38;5;124;03m\"\"\" Base network \"\"\"\u001b[39;00m\n\u001b[1;32m---> 60\u001b[0m     sources \u001b[38;5;241m=\u001b[39m \u001b[38;5;28mself\u001b[39m\u001b[38;5;241m.\u001b[39mbasenet(x)\n\u001b[0;32m     62\u001b[0m \u001b[38;5;250m    \u001b[39m\u001b[38;5;124;03m\"\"\" U network \"\"\"\u001b[39;00m\n\u001b[0;32m     63\u001b[0m     y \u001b[38;5;241m=\u001b[39m torch\u001b[38;5;241m.\u001b[39mcat([sources[\u001b[38;5;241m0\u001b[39m], sources[\u001b[38;5;241m1\u001b[39m]], dim\u001b[38;5;241m=\u001b[39m\u001b[38;5;241m1\u001b[39m)\n",
      "File \u001b[1;32mc:\\Users\\civip\\anaconda3\\Lib\\site-packages\\torch\\nn\\modules\\module.py:1739\u001b[0m, in \u001b[0;36mModule._wrapped_call_impl\u001b[1;34m(self, *args, **kwargs)\u001b[0m\n\u001b[0;32m   1737\u001b[0m     \u001b[38;5;28;01mreturn\u001b[39;00m \u001b[38;5;28mself\u001b[39m\u001b[38;5;241m.\u001b[39m_compiled_call_impl(\u001b[38;5;241m*\u001b[39margs, \u001b[38;5;241m*\u001b[39m\u001b[38;5;241m*\u001b[39mkwargs)  \u001b[38;5;66;03m# type: ignore[misc]\u001b[39;00m\n\u001b[0;32m   1738\u001b[0m \u001b[38;5;28;01melse\u001b[39;00m:\n\u001b[1;32m-> 1739\u001b[0m     \u001b[38;5;28;01mreturn\u001b[39;00m \u001b[38;5;28mself\u001b[39m\u001b[38;5;241m.\u001b[39m_call_impl(\u001b[38;5;241m*\u001b[39margs, \u001b[38;5;241m*\u001b[39m\u001b[38;5;241m*\u001b[39mkwargs)\n",
      "File \u001b[1;32mc:\\Users\\civip\\anaconda3\\Lib\\site-packages\\torch\\nn\\modules\\module.py:1750\u001b[0m, in \u001b[0;36mModule._call_impl\u001b[1;34m(self, *args, **kwargs)\u001b[0m\n\u001b[0;32m   1745\u001b[0m \u001b[38;5;66;03m# If we don't have any hooks, we want to skip the rest of the logic in\u001b[39;00m\n\u001b[0;32m   1746\u001b[0m \u001b[38;5;66;03m# this function, and just call forward.\u001b[39;00m\n\u001b[0;32m   1747\u001b[0m \u001b[38;5;28;01mif\u001b[39;00m \u001b[38;5;129;01mnot\u001b[39;00m (\u001b[38;5;28mself\u001b[39m\u001b[38;5;241m.\u001b[39m_backward_hooks \u001b[38;5;129;01mor\u001b[39;00m \u001b[38;5;28mself\u001b[39m\u001b[38;5;241m.\u001b[39m_backward_pre_hooks \u001b[38;5;129;01mor\u001b[39;00m \u001b[38;5;28mself\u001b[39m\u001b[38;5;241m.\u001b[39m_forward_hooks \u001b[38;5;129;01mor\u001b[39;00m \u001b[38;5;28mself\u001b[39m\u001b[38;5;241m.\u001b[39m_forward_pre_hooks\n\u001b[0;32m   1748\u001b[0m         \u001b[38;5;129;01mor\u001b[39;00m _global_backward_pre_hooks \u001b[38;5;129;01mor\u001b[39;00m _global_backward_hooks\n\u001b[0;32m   1749\u001b[0m         \u001b[38;5;129;01mor\u001b[39;00m _global_forward_hooks \u001b[38;5;129;01mor\u001b[39;00m _global_forward_pre_hooks):\n\u001b[1;32m-> 1750\u001b[0m     \u001b[38;5;28;01mreturn\u001b[39;00m forward_call(\u001b[38;5;241m*\u001b[39margs, \u001b[38;5;241m*\u001b[39m\u001b[38;5;241m*\u001b[39mkwargs)\n\u001b[0;32m   1752\u001b[0m result \u001b[38;5;241m=\u001b[39m \u001b[38;5;28;01mNone\u001b[39;00m\n\u001b[0;32m   1753\u001b[0m called_always_called_hooks \u001b[38;5;241m=\u001b[39m \u001b[38;5;28mset\u001b[39m()\n",
      "File \u001b[1;32mc:\\Users\\civip\\anaconda3\\Lib\\site-packages\\easyocr\\model\\modules.py:74\u001b[0m, in \u001b[0;36mvgg16_bn.forward\u001b[1;34m(self, X)\u001b[0m\n\u001b[0;32m     72\u001b[0m h \u001b[38;5;241m=\u001b[39m \u001b[38;5;28mself\u001b[39m\u001b[38;5;241m.\u001b[39mslice3(h)\n\u001b[0;32m     73\u001b[0m h_relu4_3 \u001b[38;5;241m=\u001b[39m h\n\u001b[1;32m---> 74\u001b[0m h \u001b[38;5;241m=\u001b[39m \u001b[38;5;28mself\u001b[39m\u001b[38;5;241m.\u001b[39mslice4(h)\n\u001b[0;32m     75\u001b[0m h_relu5_3 \u001b[38;5;241m=\u001b[39m h\n\u001b[0;32m     76\u001b[0m h \u001b[38;5;241m=\u001b[39m \u001b[38;5;28mself\u001b[39m\u001b[38;5;241m.\u001b[39mslice5(h)\n",
      "File \u001b[1;32mc:\\Users\\civip\\anaconda3\\Lib\\site-packages\\torch\\nn\\modules\\module.py:1739\u001b[0m, in \u001b[0;36mModule._wrapped_call_impl\u001b[1;34m(self, *args, **kwargs)\u001b[0m\n\u001b[0;32m   1737\u001b[0m     \u001b[38;5;28;01mreturn\u001b[39;00m \u001b[38;5;28mself\u001b[39m\u001b[38;5;241m.\u001b[39m_compiled_call_impl(\u001b[38;5;241m*\u001b[39margs, \u001b[38;5;241m*\u001b[39m\u001b[38;5;241m*\u001b[39mkwargs)  \u001b[38;5;66;03m# type: ignore[misc]\u001b[39;00m\n\u001b[0;32m   1738\u001b[0m \u001b[38;5;28;01melse\u001b[39;00m:\n\u001b[1;32m-> 1739\u001b[0m     \u001b[38;5;28;01mreturn\u001b[39;00m \u001b[38;5;28mself\u001b[39m\u001b[38;5;241m.\u001b[39m_call_impl(\u001b[38;5;241m*\u001b[39margs, \u001b[38;5;241m*\u001b[39m\u001b[38;5;241m*\u001b[39mkwargs)\n",
      "File \u001b[1;32mc:\\Users\\civip\\anaconda3\\Lib\\site-packages\\torch\\nn\\modules\\module.py:1750\u001b[0m, in \u001b[0;36mModule._call_impl\u001b[1;34m(self, *args, **kwargs)\u001b[0m\n\u001b[0;32m   1745\u001b[0m \u001b[38;5;66;03m# If we don't have any hooks, we want to skip the rest of the logic in\u001b[39;00m\n\u001b[0;32m   1746\u001b[0m \u001b[38;5;66;03m# this function, and just call forward.\u001b[39;00m\n\u001b[0;32m   1747\u001b[0m \u001b[38;5;28;01mif\u001b[39;00m \u001b[38;5;129;01mnot\u001b[39;00m (\u001b[38;5;28mself\u001b[39m\u001b[38;5;241m.\u001b[39m_backward_hooks \u001b[38;5;129;01mor\u001b[39;00m \u001b[38;5;28mself\u001b[39m\u001b[38;5;241m.\u001b[39m_backward_pre_hooks \u001b[38;5;129;01mor\u001b[39;00m \u001b[38;5;28mself\u001b[39m\u001b[38;5;241m.\u001b[39m_forward_hooks \u001b[38;5;129;01mor\u001b[39;00m \u001b[38;5;28mself\u001b[39m\u001b[38;5;241m.\u001b[39m_forward_pre_hooks\n\u001b[0;32m   1748\u001b[0m         \u001b[38;5;129;01mor\u001b[39;00m _global_backward_pre_hooks \u001b[38;5;129;01mor\u001b[39;00m _global_backward_hooks\n\u001b[0;32m   1749\u001b[0m         \u001b[38;5;129;01mor\u001b[39;00m _global_forward_hooks \u001b[38;5;129;01mor\u001b[39;00m _global_forward_pre_hooks):\n\u001b[1;32m-> 1750\u001b[0m     \u001b[38;5;28;01mreturn\u001b[39;00m forward_call(\u001b[38;5;241m*\u001b[39margs, \u001b[38;5;241m*\u001b[39m\u001b[38;5;241m*\u001b[39mkwargs)\n\u001b[0;32m   1752\u001b[0m result \u001b[38;5;241m=\u001b[39m \u001b[38;5;28;01mNone\u001b[39;00m\n\u001b[0;32m   1753\u001b[0m called_always_called_hooks \u001b[38;5;241m=\u001b[39m \u001b[38;5;28mset\u001b[39m()\n",
      "File \u001b[1;32mc:\\Users\\civip\\anaconda3\\Lib\\site-packages\\torch\\nn\\modules\\container.py:250\u001b[0m, in \u001b[0;36mSequential.forward\u001b[1;34m(self, input)\u001b[0m\n\u001b[0;32m    248\u001b[0m \u001b[38;5;28;01mdef\u001b[39;00m \u001b[38;5;21mforward\u001b[39m(\u001b[38;5;28mself\u001b[39m, \u001b[38;5;28minput\u001b[39m):\n\u001b[0;32m    249\u001b[0m     \u001b[38;5;28;01mfor\u001b[39;00m module \u001b[38;5;129;01min\u001b[39;00m \u001b[38;5;28mself\u001b[39m:\n\u001b[1;32m--> 250\u001b[0m         \u001b[38;5;28minput\u001b[39m \u001b[38;5;241m=\u001b[39m module(\u001b[38;5;28minput\u001b[39m)\n\u001b[0;32m    251\u001b[0m     \u001b[38;5;28;01mreturn\u001b[39;00m \u001b[38;5;28minput\u001b[39m\n",
      "File \u001b[1;32mc:\\Users\\civip\\anaconda3\\Lib\\site-packages\\torch\\nn\\modules\\module.py:1739\u001b[0m, in \u001b[0;36mModule._wrapped_call_impl\u001b[1;34m(self, *args, **kwargs)\u001b[0m\n\u001b[0;32m   1737\u001b[0m     \u001b[38;5;28;01mreturn\u001b[39;00m \u001b[38;5;28mself\u001b[39m\u001b[38;5;241m.\u001b[39m_compiled_call_impl(\u001b[38;5;241m*\u001b[39margs, \u001b[38;5;241m*\u001b[39m\u001b[38;5;241m*\u001b[39mkwargs)  \u001b[38;5;66;03m# type: ignore[misc]\u001b[39;00m\n\u001b[0;32m   1738\u001b[0m \u001b[38;5;28;01melse\u001b[39;00m:\n\u001b[1;32m-> 1739\u001b[0m     \u001b[38;5;28;01mreturn\u001b[39;00m \u001b[38;5;28mself\u001b[39m\u001b[38;5;241m.\u001b[39m_call_impl(\u001b[38;5;241m*\u001b[39margs, \u001b[38;5;241m*\u001b[39m\u001b[38;5;241m*\u001b[39mkwargs)\n",
      "File \u001b[1;32mc:\\Users\\civip\\anaconda3\\Lib\\site-packages\\torch\\nn\\modules\\module.py:1750\u001b[0m, in \u001b[0;36mModule._call_impl\u001b[1;34m(self, *args, **kwargs)\u001b[0m\n\u001b[0;32m   1745\u001b[0m \u001b[38;5;66;03m# If we don't have any hooks, we want to skip the rest of the logic in\u001b[39;00m\n\u001b[0;32m   1746\u001b[0m \u001b[38;5;66;03m# this function, and just call forward.\u001b[39;00m\n\u001b[0;32m   1747\u001b[0m \u001b[38;5;28;01mif\u001b[39;00m \u001b[38;5;129;01mnot\u001b[39;00m (\u001b[38;5;28mself\u001b[39m\u001b[38;5;241m.\u001b[39m_backward_hooks \u001b[38;5;129;01mor\u001b[39;00m \u001b[38;5;28mself\u001b[39m\u001b[38;5;241m.\u001b[39m_backward_pre_hooks \u001b[38;5;129;01mor\u001b[39;00m \u001b[38;5;28mself\u001b[39m\u001b[38;5;241m.\u001b[39m_forward_hooks \u001b[38;5;129;01mor\u001b[39;00m \u001b[38;5;28mself\u001b[39m\u001b[38;5;241m.\u001b[39m_forward_pre_hooks\n\u001b[0;32m   1748\u001b[0m         \u001b[38;5;129;01mor\u001b[39;00m _global_backward_pre_hooks \u001b[38;5;129;01mor\u001b[39;00m _global_backward_hooks\n\u001b[0;32m   1749\u001b[0m         \u001b[38;5;129;01mor\u001b[39;00m _global_forward_hooks \u001b[38;5;129;01mor\u001b[39;00m _global_forward_pre_hooks):\n\u001b[1;32m-> 1750\u001b[0m     \u001b[38;5;28;01mreturn\u001b[39;00m forward_call(\u001b[38;5;241m*\u001b[39margs, \u001b[38;5;241m*\u001b[39m\u001b[38;5;241m*\u001b[39mkwargs)\n\u001b[0;32m   1752\u001b[0m result \u001b[38;5;241m=\u001b[39m \u001b[38;5;28;01mNone\u001b[39;00m\n\u001b[0;32m   1753\u001b[0m called_always_called_hooks \u001b[38;5;241m=\u001b[39m \u001b[38;5;28mset\u001b[39m()\n",
      "File \u001b[1;32mc:\\Users\\civip\\anaconda3\\Lib\\site-packages\\torch\\nn\\modules\\conv.py:554\u001b[0m, in \u001b[0;36mConv2d.forward\u001b[1;34m(self, input)\u001b[0m\n\u001b[0;32m    553\u001b[0m \u001b[38;5;28;01mdef\u001b[39;00m \u001b[38;5;21mforward\u001b[39m(\u001b[38;5;28mself\u001b[39m, \u001b[38;5;28minput\u001b[39m: Tensor) \u001b[38;5;241m-\u001b[39m\u001b[38;5;241m>\u001b[39m Tensor:\n\u001b[1;32m--> 554\u001b[0m     \u001b[38;5;28;01mreturn\u001b[39;00m \u001b[38;5;28mself\u001b[39m\u001b[38;5;241m.\u001b[39m_conv_forward(\u001b[38;5;28minput\u001b[39m, \u001b[38;5;28mself\u001b[39m\u001b[38;5;241m.\u001b[39mweight, \u001b[38;5;28mself\u001b[39m\u001b[38;5;241m.\u001b[39mbias)\n",
      "File \u001b[1;32mc:\\Users\\civip\\anaconda3\\Lib\\site-packages\\torch\\nn\\modules\\conv.py:549\u001b[0m, in \u001b[0;36mConv2d._conv_forward\u001b[1;34m(self, input, weight, bias)\u001b[0m\n\u001b[0;32m    537\u001b[0m \u001b[38;5;28;01mif\u001b[39;00m \u001b[38;5;28mself\u001b[39m\u001b[38;5;241m.\u001b[39mpadding_mode \u001b[38;5;241m!=\u001b[39m \u001b[38;5;124m\"\u001b[39m\u001b[38;5;124mzeros\u001b[39m\u001b[38;5;124m\"\u001b[39m:\n\u001b[0;32m    538\u001b[0m     \u001b[38;5;28;01mreturn\u001b[39;00m F\u001b[38;5;241m.\u001b[39mconv2d(\n\u001b[0;32m    539\u001b[0m         F\u001b[38;5;241m.\u001b[39mpad(\n\u001b[0;32m    540\u001b[0m             \u001b[38;5;28minput\u001b[39m, \u001b[38;5;28mself\u001b[39m\u001b[38;5;241m.\u001b[39m_reversed_padding_repeated_twice, mode\u001b[38;5;241m=\u001b[39m\u001b[38;5;28mself\u001b[39m\u001b[38;5;241m.\u001b[39mpadding_mode\n\u001b[1;32m   (...)\u001b[0m\n\u001b[0;32m    547\u001b[0m         \u001b[38;5;28mself\u001b[39m\u001b[38;5;241m.\u001b[39mgroups,\n\u001b[0;32m    548\u001b[0m     )\n\u001b[1;32m--> 549\u001b[0m \u001b[38;5;28;01mreturn\u001b[39;00m F\u001b[38;5;241m.\u001b[39mconv2d(\n\u001b[0;32m    550\u001b[0m     \u001b[38;5;28minput\u001b[39m, weight, bias, \u001b[38;5;28mself\u001b[39m\u001b[38;5;241m.\u001b[39mstride, \u001b[38;5;28mself\u001b[39m\u001b[38;5;241m.\u001b[39mpadding, \u001b[38;5;28mself\u001b[39m\u001b[38;5;241m.\u001b[39mdilation, \u001b[38;5;28mself\u001b[39m\u001b[38;5;241m.\u001b[39mgroups\n\u001b[0;32m    551\u001b[0m )\n",
      "\u001b[1;31mKeyboardInterrupt\u001b[0m: "
     ]
    }
   ],
   "source": [
    "for test_image_path in os.listdir('custom-test-images'):\n",
    "    image_path = f\"./custom-test-images/{test_image_path}\"\n",
    "    display_image(image_path)\n",
    "    scores, class_name = classify_image_vit(image_path)\n",
    "    ocr_score(image_path)\n",
    "    print(scores)\n",
    "    print(class_name)\n",
    "    # print('expected: cardboard\\n')\n",
    "    \n",
    "    # classify_image(image_path)\n",
    "    # classify_image_old(image_path)\n",
    "    # classify_dense(image_path)\n",
    "    print('\\n-----------------------------------------------------------\\n\\n')\n"
   ]
  },
  {
   "cell_type": "code",
   "execution_count": 5,
   "metadata": {},
   "outputs": [
    {
     "name": "stdout",
     "output_type": "stream",
     "text": [
      "Predicted Class: cardboard | Old Predicted Class: cardboard | Dense Predicted Class: cardboard | expected: cardboard\n"
     ]
    }
   ],
   "source": [
    "image_path = \"./custom-test-images/amazon-cardboard-box-03.jpg\"\n",
    "classify_image(image_path)\n",
    "classify_image_old(image_path)\n",
    "classify_dense(image_path)\n",
    "print('expected: cardboard')\n"
   ]
  },
  {
   "cell_type": "code",
   "execution_count": 43,
   "metadata": {},
   "outputs": [
    {
     "name": "stdout",
     "output_type": "stream",
     "text": [
      "Predicted Class: battery | Old Predicted Class: metal | Dense Predicted Class: metal | expected: metal\n"
     ]
    }
   ],
   "source": [
    "image_path = \"./custom-test-images/coke-real.jpg\"\n",
    "classify_image(image_path)\n",
    "classify_image_old(image_path)\n",
    "classify_dense(image_path)\n",
    "print('expected: metal')\n"
   ]
  },
  {
   "cell_type": "code",
   "execution_count": 7,
   "metadata": {},
   "outputs": [
    {
     "name": "stdout",
     "output_type": "stream",
     "text": [
      "Predicted Class: metal | Old Predicted Class: cardboard | Dense Predicted Class: cardboard | expected: metal\n"
     ]
    }
   ],
   "source": [
    "image_path = \"./custom-test-images/dietcoke.jpg\"\n",
    "classify_image(image_path)\n",
    "classify_image_old(image_path)\n",
    "classify_dense(image_path)\n",
    "print('expected: metal')\n"
   ]
  },
  {
   "cell_type": "code",
   "execution_count": 8,
   "metadata": {},
   "outputs": [
    {
     "name": "stdout",
     "output_type": "stream",
     "text": [
      "Predicted Class: battery | Old Predicted Class: metal | Dense Predicted Class: metal | expected: metal\n"
     ]
    }
   ],
   "source": [
    "image_path = \"./custom-test-images/dietcoke-removebg-preview.png\"\n",
    "classify_image(image_path)\n",
    "classify_image_old(image_path)\n",
    "classify_dense(image_path)\n",
    "print('expected: metal')\n"
   ]
  },
  {
   "cell_type": "code",
   "execution_count": 9,
   "metadata": {},
   "outputs": [
    {
     "name": "stdout",
     "output_type": "stream",
     "text": [
      "Predicted Class: battery | Old Predicted Class: glass | Dense Predicted Class: glass | expected: glass\n"
     ]
    }
   ],
   "source": [
    "image_path = \"./custom-test-images/mugs.jpg\"\n",
    "classify_image(image_path)\n",
    "classify_image_old(image_path)\n",
    "classify_dense(image_path)\n",
    "print('expected: glass')\n"
   ]
  },
  {
   "cell_type": "code",
   "execution_count": 10,
   "metadata": {},
   "outputs": [
    {
     "name": "stdout",
     "output_type": "stream",
     "text": [
      "Predicted Class: battery | Dense Predicted Class: metal | expected: battery\n"
     ]
    }
   ],
   "source": [
    "image_path = \"./custom-test-images/Duracell_AA__49529.jpg\"\n",
    "classify_image(image_path)\n",
    "classify_dense(image_path)\n",
    "print('expected: battery')"
   ]
  },
  {
   "cell_type": "code",
   "execution_count": 11,
   "metadata": {},
   "outputs": [
    {
     "name": "stdout",
     "output_type": "stream",
     "text": [
      "Predicted Class: glass | Old Predicted Class: glass | Dense Predicted Class: glass | expected: glass\n"
     ]
    }
   ],
   "source": [
    "image_path = \"./custom-test-images/wine-glass.jpg\"\n",
    "classify_image(image_path)\n",
    "classify_image_old(image_path)\n",
    "classify_dense(image_path)\n",
    "print('expected: glass')"
   ]
  },
  {
   "cell_type": "code",
   "execution_count": 12,
   "metadata": {},
   "outputs": [
    {
     "name": "stdout",
     "output_type": "stream",
     "text": [
      "Predicted Class: metal | Old Predicted Class: metal | Dense Predicted Class: metal | expected: glass\n"
     ]
    }
   ],
   "source": [
    "image_path = \"./custom-test-images/glass-container.jpg\"\n",
    "classify_image(image_path)\n",
    "classify_image_old(image_path)\n",
    "classify_dense(image_path)\n",
    "print('expected: glass')"
   ]
  },
  {
   "cell_type": "code",
   "execution_count": 13,
   "metadata": {},
   "outputs": [
    {
     "name": "stdout",
     "output_type": "stream",
     "text": [
      "Predicted Class: glass | Old Predicted Class: glass | Dense Predicted Class: glass | expected: glass\n"
     ]
    }
   ],
   "source": [
    "image_path = \"./custom-test-images/sprite.png\"\n",
    "classify_image(image_path)\n",
    "classify_image_old(image_path)\n",
    "classify_dense(image_path)\n",
    "print('expected: glass')"
   ]
  },
  {
   "cell_type": "code",
   "execution_count": 14,
   "metadata": {},
   "outputs": [
    {
     "name": "stdout",
     "output_type": "stream",
     "text": [
      "Predicted Class: battery | Old Predicted Class: metal | Dense Predicted Class: metal | expected: metal\n"
     ]
    }
   ],
   "source": [
    "image_path = \"./custom-test-images/fanta.webp\"\n",
    "classify_image(image_path)\n",
    "classify_image_old(image_path)\n",
    "classify_dense(image_path)\n",
    "print('expected: metal')"
   ]
  },
  {
   "cell_type": "code",
   "execution_count": 15,
   "metadata": {},
   "outputs": [
    {
     "name": "stdout",
     "output_type": "stream",
     "text": [
      "Predicted Class: metal | Old Predicted Class: metal | Dense Predicted Class: metal | expected: metal\n"
     ]
    }
   ],
   "source": [
    "image_path = \"./custom-test-images/pie.jpg\"\n",
    "classify_image(image_path)\n",
    "classify_image_old(image_path)\n",
    "classify_dense(image_path)\n",
    "print('expected: metal')"
   ]
  },
  {
   "cell_type": "code",
   "execution_count": 16,
   "metadata": {},
   "outputs": [
    {
     "name": "stdout",
     "output_type": "stream",
     "text": [
      "Predicted Class: glass | Old Predicted Class: glass | Dense Predicted Class: glass | expected: glass\n"
     ]
    }
   ],
   "source": [
    "image_path = \"./custom-test-images/root-beer.webp\"\n",
    "classify_image(image_path)\n",
    "classify_image_old(image_path)\n",
    "classify_dense(image_path)\n",
    "print('expected: glass')"
   ]
  },
  {
   "cell_type": "code",
   "execution_count": 17,
   "metadata": {},
   "outputs": [
    {
     "name": "stdout",
     "output_type": "stream",
     "text": [
      "Predicted Class: syringe | Old Predicted Class: glass | Dense Predicted Class: glass | expected: syringe\n"
     ]
    }
   ],
   "source": [
    "image_path = \"./custom-test-images/syringe.webp\"\n",
    "classify_image(image_path)\n",
    "classify_image_old(image_path)\n",
    "classify_dense(image_path)\n",
    "print('expected: syringe')"
   ]
  },
  {
   "cell_type": "code",
   "execution_count": 18,
   "metadata": {},
   "outputs": [
    {
     "name": "stdout",
     "output_type": "stream",
     "text": [
      "Predicted Class: syringe | Old Predicted Class: cardboard | Dense Predicted Class: cardboard | expected: syringe\n"
     ]
    }
   ],
   "source": [
    "image_path = \"./custom-test-images/syringe_with_bg.jpg\"\n",
    "classify_image(image_path)\n",
    "classify_image_old(image_path)\n",
    "classify_dense(image_path)\n",
    "print('expected: syringe')"
   ]
  },
  {
   "cell_type": "code",
   "execution_count": 19,
   "metadata": {},
   "outputs": [
    {
     "name": "stdout",
     "output_type": "stream",
     "text": [
      "Predicted Class: plastic | Old Predicted Class: metal | Dense Predicted Class: metal | expected: glass\n"
     ]
    }
   ],
   "source": [
    "image_path = \"./custom-test-images/water-glass-removebg-preview.png\"\n",
    "classify_image(image_path)\n",
    "classify_image_old(image_path)\n",
    "classify_dense(image_path)\n",
    "print('expected: glass')"
   ]
  },
  {
   "cell_type": "code",
   "execution_count": 20,
   "metadata": {},
   "outputs": [
    {
     "name": "stdout",
     "output_type": "stream",
     "text": [
      "Predicted Class: battery | Old Predicted Class: metal | Dense Predicted Class: metal | expected: plastic\n"
     ]
    }
   ],
   "source": [
    "image_path = \"./custom-test-images/plastic-cup.jpg\"\n",
    "classify_image(image_path)\n",
    "classify_image_old(image_path)\n",
    "classify_dense(image_path)\n",
    "print('expected: plastic')"
   ]
  },
  {
   "cell_type": "code",
   "execution_count": 34,
   "metadata": {},
   "outputs": [
    {
     "name": "stdout",
     "output_type": "stream",
     "text": [
      "Dense Predicted Class: battery | expected: battery\n"
     ]
    }
   ],
   "source": [
    "image_path = \"./custom-test-images/Duracell_AA__49529.jpg\"\n",
    "classify_battery_soda(image_path)\n",
    "print('expected: battery')"
   ]
  },
  {
   "cell_type": "code",
   "execution_count": 37,
   "metadata": {},
   "outputs": [
    {
     "name": "stdout",
     "output_type": "stream",
     "text": [
      "Dense Predicted Class: soda | expected: soda(metal)\n"
     ]
    }
   ],
   "source": [
    "image_path = \"./custom-test-images/dietcoke-removebg-preview.png\"\n",
    "classify_battery_soda(image_path)\n",
    "print('expected: soda(metal)')"
   ]
  },
  {
   "cell_type": "code",
   "execution_count": 49,
   "metadata": {},
   "outputs": [
    {
     "name": "stdout",
     "output_type": "stream",
     "text": [
      "Dense Predicted Class: battery | expected: soda(metal)\n",
      "Dense Predicted Class: soda | expected: soda(metal)\n"
     ]
    }
   ],
   "source": [
    "image_path = \"./custom-test-images/fanta.webp\"\n",
    "classify_battery_soda(image_path)\n",
    "print('expected: soda(metal)')\n",
    "\n",
    "image_path = \"./custom-test-images/fanta2-removebg-preview.png\"\n",
    "classify_battery_soda(image_path)\n",
    "print('expected: soda(metal)')"
   ]
  },
  {
   "cell_type": "code",
   "execution_count": 40,
   "metadata": {},
   "outputs": [
    {
     "name": "stdout",
     "output_type": "stream",
     "text": [
      "Dense Predicted Class: soda | expected: soda(metal)\n"
     ]
    }
   ],
   "source": [
    "image_path = \"./custom-test-images/gingerale2.jpg\"\n",
    "classify_battery_soda(image_path)\n",
    "print('expected: soda(metal)')"
   ]
  },
  {
   "cell_type": "code",
   "execution_count": 45,
   "metadata": {},
   "outputs": [
    {
     "name": "stdout",
     "output_type": "stream",
     "text": [
      "Dense Predicted Class: soda | expected: soda(metal)\n",
      "Dense Predicted Class: soda | expected: soda(metal)\n",
      "Dense Predicted Class: soda | expected: soda(metal)\n",
      "Dense Predicted Class: soda | expected: soda(metal)\n"
     ]
    }
   ],
   "source": [
    "image_path = \"./custom-test-images/fanta2.jpg\"\n",
    "classify_battery_soda(image_path)\n",
    "print('expected: soda(metal)')\n",
    "\n",
    "image_path = \"./custom-test-images/fanta3.jpg\"\n",
    "classify_battery_soda(image_path)\n",
    "print('expected: soda(metal)')\n",
    "\n",
    "image_path = \"./custom-test-images/coke-real-removebg-preview.png\"\n",
    "classify_battery_soda(image_path)\n",
    "print('expected: soda(metal)')\n",
    "\n",
    "image_path = \"./custom-test-images/coke2.webp\"\n",
    "classify_battery_soda(image_path)\n",
    "print('expected: soda(metal)')"
   ]
  },
  {
   "cell_type": "code",
   "execution_count": 51,
   "metadata": {},
   "outputs": [
    {
     "name": "stdout",
     "output_type": "stream",
     "text": [
      "probabilities: tensor([[0.9511, 0.0489]])\n",
      "Dense Predicted Class: battery | expected: battery\n",
      "probabilities: tensor([[0.0826, 0.9174]])\n",
      "Dense Predicted Class: soda | expected: soda(metal)\n",
      "probabilities: tensor([[0.0543, 0.9457]])\n",
      "Dense Predicted Class: soda | expected: soda(metal)\n"
     ]
    }
   ],
   "source": [
    "image_path = \"./custom-test-images/bluebattery.jpg\"\n",
    "classify_battery_soda(image_path)\n",
    "print('expected: battery')\n",
    "\n",
    "image_path = \"./custom-test-images/sunkist.jpg\"\n",
    "classify_battery_soda(image_path)\n",
    "print('expected: soda(metal)')\n",
    "\n",
    "image_path = \"./custom-test-images/sunkist-removebg-preview.png\"\n",
    "classify_battery_soda(image_path)\n",
    "print('expected: soda(metal)')"
   ]
  },
  {
   "cell_type": "code",
   "execution_count": 64,
   "metadata": {},
   "outputs": [
    {
     "name": "stdout",
     "output_type": "stream",
     "text": [
      "probabilities: tensor([[0.5628, 0.4372]])\n",
      "Dense Predicted Class: battery | battery score: 0.562760591506958 | soda score: 0.4372394382953644 | classification: battery\n"
     ]
    }
   ],
   "source": [
    "# image_path = \"./custom-test-images/pie.jpg\"\n",
    "# classify_battery_soda(image_path)\n",
    "\n",
    "image_path = \"./custom-test-images/metalcan.jpg\"\n",
    "scores, classification = classify_battery_soda(image_path)\n",
    "battery_score, soda_score = scores.squeeze().tolist()\n",
    "print(f'battery score: {battery_score} | soda score: {soda_score} | classification: {classification}')\n",
    "# note: must be 80% sure it's soda to be classifed as metal "
   ]
  }
 ],
 "metadata": {
  "kernelspec": {
   "display_name": "base",
   "language": "python",
   "name": "python3"
  },
  "language_info": {
   "codemirror_mode": {
    "name": "ipython",
    "version": 3
   },
   "file_extension": ".py",
   "mimetype": "text/x-python",
   "name": "python",
   "nbconvert_exporter": "python",
   "pygments_lexer": "ipython3",
   "version": "3.11.5"
  }
 },
 "nbformat": 4,
 "nbformat_minor": 2
}
