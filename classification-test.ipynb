{
 "cells": [
  {
   "cell_type": "code",
   "execution_count": null,
   "metadata": {},
   "outputs": [],
   "source": [
    "#%pip install torch torchvision matplotlib\n",
    "# CHECK CLASS NAMES BEFORE RUNNING NEW MODELS\n",
    "# push comment"
   ]
  },
  {
   "cell_type": "code",
   "execution_count": 89,
   "metadata": {},
   "outputs": [],
   "source": [
    "import torch\n",
    "import torchvision.transforms as transforms\n",
    "from torchvision import models\n",
    "from PIL import Image\n",
    "import os\n",
    "device = torch.device(\"cuda\" if torch.cuda.is_available() else \"cpu\")"
   ]
  },
  {
   "cell_type": "code",
   "execution_count": 92,
   "metadata": {},
   "outputs": [],
   "source": [
    "num_classes = 8  # DANGER\n",
    "model = models.resnet50()\n",
    "# model.fc = torch.nn.Linear(model.fc.in_features, num_classes)\n",
    "model.fc = torch.nn.Sequential(\n",
    "    torch.nn.Dropout(p=0.2),\n",
    "    torch.nn.Linear(model.fc.in_features, num_classes)\n",
    ") \n",
    "model.load_state_dict(torch.load(\"resnet50_model5.pth\", map_location=device))\n",
    "model.to(device)\n",
    "model.eval()  # Set model to evaluation mode\n",
    "class_names = ['battery', 'cardboard', 'glass', 'metal', 'paper', 'plastic', 'syringe', 'trash']\n",
    "\n",
    "model_dense = models.densenet121()\n",
    "# model.fc = torch.nn.Linear(model.fc.in_features, num_classes)\n",
    "model_dense.classifier = torch.nn.Sequential(\n",
    "    torch.nn.Dropout(p=0.2),  # Apply dropout for regularization\n",
    "    torch.nn.Linear(model_dense.classifier.in_features, num_classes)\n",
    ")\n",
    "model_dense.load_state_dict(torch.load(\"densenet121_model1.pth\", map_location=device))\n",
    "model_dense.to(device)\n",
    "model_dense.eval()  # Set model to evaluation mode\n",
    "class_names = ['battery', 'cardboard', 'glass', 'metal', 'paper', 'plastic', 'syringe', 'trash']\n",
    "\n",
    "num_classes_old = 6  # DANGER\n",
    "model_old = models.resnet50()\n",
    "model_old.fc = torch.nn.Linear(model_old.fc.in_features, num_classes_old)\n",
    "model_old.load_state_dict(torch.load(\"resnet50_model_old.pth\", map_location=device))\n",
    "model_old.to(device)\n",
    "model_old.eval()  # Set model to evaluation mode\n",
    "class_names_old = ['cardboard', 'glass', 'metal', 'paper', 'plastic', 'trash']\n",
    "\n",
    "transform = transforms.Compose([\n",
    "    transforms.Resize((224, 224)),\n",
    "    transforms.ToTensor(),\n",
    "    transforms.Normalize(mean=[0.485, 0.456, 0.406], std=[0.229, 0.224, 0.225])\n",
    "])\n",
    "\n"
   ]
  },
  {
   "cell_type": "code",
   "execution_count": 94,
   "metadata": {},
   "outputs": [],
   "source": [
    "def classify_image(image_path):\n",
    "    image = Image.open(image_path).convert('RGB')\n",
    "    image = transform(image)\n",
    "    image = image.unsqueeze(0).to(device)  # Add batch dimension\n",
    "\n",
    "    # Predict\n",
    "    with torch.no_grad():\n",
    "        outputs = model(image)\n",
    "        _, predicted = torch.max(outputs, 1)\n",
    "        class_idx = predicted.item()\n",
    "        class_name = class_names[class_idx]\n",
    "\n",
    "    print(f\"Predicted Class: {class_name}\", end=' | ')\n",
    "\n",
    "def classify_image_old(image_path):\n",
    "    image = Image.open(image_path).convert('RGB')\n",
    "    image = transform(image)\n",
    "    image = image.unsqueeze(0).to(device)  # Add batch dimension\n",
    "\n",
    "    # Predict\n",
    "    with torch.no_grad():\n",
    "        outputs = model_old(image)\n",
    "        _, predicted = torch.max(outputs, 1)\n",
    "        class_idx = predicted.item()\n",
    "        class_name = class_names_old[class_idx]\n",
    "\n",
    "    print(f\"Old Predicted Class: {class_name}\", end=' | ')\n",
    "\n",
    "def classify_dense(image_path):\n",
    "    image = Image.open(image_path).convert('RGB')\n",
    "    image = transform(image)\n",
    "    image = image.unsqueeze(0).to(device)  # Add batch dimension\n",
    "\n",
    "    # Predict\n",
    "    with torch.no_grad():\n",
    "        outputs = model_old(image)\n",
    "        _, predicted = torch.max(outputs, 1)\n",
    "        class_idx = predicted.item()\n",
    "        class_name = class_names_old[class_idx]\n",
    "\n",
    "    print(f\"Dense Predicted Class: {class_name}\", end=' | ')"
   ]
  },
  {
   "cell_type": "code",
   "execution_count": 96,
   "metadata": {},
   "outputs": [
    {
     "name": "stdout",
     "output_type": "stream",
     "text": [
      "Predicted Class: cardboard | Old Predicted Class: cardboard | Dense Predicted Class: cardboard | expected: cardboard\n"
     ]
    }
   ],
   "source": [
    "image_path = \"./custom-test-images/amazon-cardboard-box-03.jpg\"\n",
    "classify_image(image_path)\n",
    "classify_image_old(image_path)\n",
    "classify_dense(image_path)\n",
    "print('expected: cardboard')\n"
   ]
  },
  {
   "cell_type": "code",
   "execution_count": 97,
   "metadata": {},
   "outputs": [
    {
     "name": "stdout",
     "output_type": "stream",
     "text": [
      "Predicted Class: battery | Old Predicted Class: metal | Dense Predicted Class: metal | expected: metal\n"
     ]
    }
   ],
   "source": [
    "image_path = \"./custom-test-images/coke2.webp\"\n",
    "classify_image(image_path)\n",
    "classify_image_old(image_path)\n",
    "classify_dense(image_path)\n",
    "print('expected: metal')\n"
   ]
  },
  {
   "cell_type": "code",
   "execution_count": 98,
   "metadata": {},
   "outputs": [
    {
     "name": "stdout",
     "output_type": "stream",
     "text": [
      "Predicted Class: metal | Old Predicted Class: cardboard | Dense Predicted Class: cardboard | expected: metal\n"
     ]
    }
   ],
   "source": [
    "image_path = \"./custom-test-images/dietcoke.jpg\"\n",
    "classify_image(image_path)\n",
    "classify_image_old(image_path)\n",
    "classify_dense(image_path)\n",
    "print('expected: metal')\n"
   ]
  },
  {
   "cell_type": "code",
   "execution_count": 99,
   "metadata": {},
   "outputs": [
    {
     "name": "stdout",
     "output_type": "stream",
     "text": [
      "Predicted Class: battery | Old Predicted Class: metal | Dense Predicted Class: metal | expected: metal\n"
     ]
    }
   ],
   "source": [
    "image_path = \"./custom-test-images/dietcoke-removebg-preview.png\"\n",
    "classify_image(image_path)\n",
    "classify_image_old(image_path)\n",
    "classify_dense(image_path)\n",
    "print('expected: metal')\n"
   ]
  },
  {
   "cell_type": "code",
   "execution_count": 100,
   "metadata": {},
   "outputs": [
    {
     "name": "stdout",
     "output_type": "stream",
     "text": [
      "Predicted Class: battery | Old Predicted Class: glass | Dense Predicted Class: glass | expected: glass\n"
     ]
    }
   ],
   "source": [
    "image_path = \"./custom-test-images/mugs.jpg\"\n",
    "classify_image(image_path)\n",
    "classify_image_old(image_path)\n",
    "classify_dense(image_path)\n",
    "print('expected: glass')\n"
   ]
  },
  {
   "cell_type": "code",
   "execution_count": 101,
   "metadata": {},
   "outputs": [
    {
     "name": "stdout",
     "output_type": "stream",
     "text": [
      "Predicted Class: battery | Dense Predicted Class: metal | expected: battery\n"
     ]
    }
   ],
   "source": [
    "image_path = \"./custom-test-images/Duracell_AA__49529.jpg\"\n",
    "classify_image(image_path)\n",
    "classify_dense(image_path)\n",
    "print('expected: battery')"
   ]
  },
  {
   "cell_type": "code",
   "execution_count": 102,
   "metadata": {},
   "outputs": [
    {
     "name": "stdout",
     "output_type": "stream",
     "text": [
      "Predicted Class: glass | Old Predicted Class: glass | Dense Predicted Class: glass | expected: glass\n"
     ]
    }
   ],
   "source": [
    "image_path = \"./custom-test-images/wine-glass.jpg\"\n",
    "classify_image(image_path)\n",
    "classify_image_old(image_path)\n",
    "classify_dense(image_path)\n",
    "print('expected: glass')"
   ]
  },
  {
   "cell_type": "code",
   "execution_count": 103,
   "metadata": {},
   "outputs": [
    {
     "name": "stdout",
     "output_type": "stream",
     "text": [
      "Predicted Class: metal | Old Predicted Class: metal | Dense Predicted Class: metal | expected: glass\n"
     ]
    }
   ],
   "source": [
    "image_path = \"./custom-test-images/glass-container.jpg\"\n",
    "classify_image(image_path)\n",
    "classify_image_old(image_path)\n",
    "classify_dense(image_path)\n",
    "print('expected: glass')"
   ]
  },
  {
   "cell_type": "code",
   "execution_count": 104,
   "metadata": {},
   "outputs": [
    {
     "name": "stdout",
     "output_type": "stream",
     "text": [
      "Predicted Class: glass | Old Predicted Class: glass | Dense Predicted Class: glass | expected: glass\n"
     ]
    }
   ],
   "source": [
    "image_path = \"./custom-test-images/sprite.png\"\n",
    "classify_image(image_path)\n",
    "classify_image_old(image_path)\n",
    "classify_dense(image_path)\n",
    "print('expected: glass')"
   ]
  },
  {
   "cell_type": "code",
   "execution_count": 105,
   "metadata": {},
   "outputs": [
    {
     "name": "stdout",
     "output_type": "stream",
     "text": [
      "Predicted Class: battery | Old Predicted Class: metal | Dense Predicted Class: metal | expected: metal\n"
     ]
    }
   ],
   "source": [
    "image_path = \"./custom-test-images/fanta.webp\"\n",
    "classify_image(image_path)\n",
    "classify_image_old(image_path)\n",
    "classify_dense(image_path)\n",
    "print('expected: metal')"
   ]
  },
  {
   "cell_type": "code",
   "execution_count": 106,
   "metadata": {},
   "outputs": [
    {
     "name": "stdout",
     "output_type": "stream",
     "text": [
      "Predicted Class: metal | Old Predicted Class: metal | Dense Predicted Class: metal | expected: metal\n"
     ]
    }
   ],
   "source": [
    "image_path = \"./custom-test-images/pie.jpg\"\n",
    "classify_image(image_path)\n",
    "classify_image_old(image_path)\n",
    "classify_dense(image_path)\n",
    "print('expected: metal')"
   ]
  },
  {
   "cell_type": "code",
   "execution_count": 107,
   "metadata": {},
   "outputs": [
    {
     "name": "stdout",
     "output_type": "stream",
     "text": [
      "Predicted Class: glass | Old Predicted Class: glass | Dense Predicted Class: glass | expected: glass\n"
     ]
    }
   ],
   "source": [
    "image_path = \"./custom-test-images/root-beer.webp\"\n",
    "classify_image(image_path)\n",
    "classify_image_old(image_path)\n",
    "classify_dense(image_path)\n",
    "print('expected: glass')"
   ]
  },
  {
   "cell_type": "code",
   "execution_count": 108,
   "metadata": {},
   "outputs": [
    {
     "name": "stdout",
     "output_type": "stream",
     "text": [
      "Predicted Class: syringe | Old Predicted Class: glass | Dense Predicted Class: glass | expected: syringe\n"
     ]
    }
   ],
   "source": [
    "image_path = \"./custom-test-images/syringe.webp\"\n",
    "classify_image(image_path)\n",
    "classify_image_old(image_path)\n",
    "classify_dense(image_path)\n",
    "print('expected: syringe')"
   ]
  },
  {
   "cell_type": "code",
   "execution_count": 109,
   "metadata": {},
   "outputs": [
    {
     "name": "stdout",
     "output_type": "stream",
     "text": [
      "Predicted Class: syringe | Old Predicted Class: cardboard | Dense Predicted Class: cardboard | expected: syringe\n"
     ]
    }
   ],
   "source": [
    "image_path = \"./custom-test-images/syringe_with_bg.jpg\"\n",
    "classify_image(image_path)\n",
    "classify_image_old(image_path)\n",
    "classify_dense(image_path)\n",
    "print('expected: syringe')"
   ]
  },
  {
   "cell_type": "code",
   "execution_count": 110,
   "metadata": {},
   "outputs": [
    {
     "name": "stdout",
     "output_type": "stream",
     "text": [
      "Predicted Class: plastic | Old Predicted Class: metal | Dense Predicted Class: metal | expected: glass\n"
     ]
    }
   ],
   "source": [
    "image_path = \"./custom-test-images/water-glass-removebg-preview.png\"\n",
    "classify_image(image_path)\n",
    "classify_image_old(image_path)\n",
    "classify_dense(image_path)\n",
    "print('expected: glass')"
   ]
  }
 ],
 "metadata": {
  "kernelspec": {
   "display_name": "Python 3",
   "language": "python",
   "name": "python3"
  },
  "language_info": {
   "codemirror_mode": {
    "name": "ipython",
    "version": 3
   },
   "file_extension": ".py",
   "mimetype": "text/x-python",
   "name": "python",
   "nbconvert_exporter": "python",
   "pygments_lexer": "ipython3",
   "version": "3.8.0"
  }
 },
 "nbformat": 4,
 "nbformat_minor": 2
}
