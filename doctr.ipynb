{
 "cells": [
  {
   "cell_type": "code",
   "execution_count": null,
   "metadata": {},
   "outputs": [],
   "source": [
    "# %pip install doctr\n",
    "# %pip install python-doctr[torch]"
   ]
  },
  {
   "cell_type": "code",
   "execution_count": 8,
   "metadata": {},
   "outputs": [],
   "source": [
    "from doctr.models import ocr_predictor\n",
    "from doctr.io import DocumentFile\n",
    "import torch"
   ]
  },
  {
   "cell_type": "code",
   "execution_count": 9,
   "metadata": {},
   "outputs": [
    {
     "name": "stdout",
     "output_type": "stream",
     "text": [
      "CAFFEINE \n",
      "FREE \n",
      "100 \n",
      "NATUA \n",
      "FLAOS \n",
      "9 - \n",
      "9 \n",
      "- - \n",
      "OPANGE \n",
      "ORANGE SODA \n",
      "NATURALLY \n",
      "FLAVORED \n",
      "75FLOZ (222 2ml) \n"
     ]
    }
   ],
   "source": [
    "device = 'cuda' if torch.cuda.is_available() else 'cpu'\n",
    "\n",
    "# Load OCR model and move to device\n",
    "model = ocr_predictor(det_arch='db_resnet50', reco_arch='crnn_vgg16_bn', pretrained=True)\n",
    "model = model.to(device)\n",
    "\n",
    "# Load image\n",
    "image_path = \"custom-test-images/fanta.webp\"\n",
    "single_img_doc = DocumentFile.from_images(image_path)\n",
    "\n",
    "# Run OCR\n",
    "result = model(single_img_doc)\n",
    "\n",
    "# Print recognized words\n",
    "for item in result.export()['pages']:\n",
    "    for block in item['blocks']:\n",
    "        for line in block['lines']:\n",
    "            for word in line['words']:\n",
    "                print(word['value'], end=\" \")\n",
    "            print()"
   ]
  }
 ],
 "metadata": {
  "kernelspec": {
   "display_name": "base",
   "language": "python",
   "name": "python3"
  },
  "language_info": {
   "codemirror_mode": {
    "name": "ipython",
    "version": 3
   },
   "file_extension": ".py",
   "mimetype": "text/x-python",
   "name": "python",
   "nbconvert_exporter": "python",
   "pygments_lexer": "ipython3",
   "version": "3.11.5"
  }
 },
 "nbformat": 4,
 "nbformat_minor": 2
}
