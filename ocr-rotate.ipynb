{
 "cells": [
  {
   "cell_type": "code",
   "execution_count": null,
   "metadata": {},
   "outputs": [],
   "source": [
    "import tesserocr\n",
    "from PIL import Image"
   ]
  },
  {
   "cell_type": "code",
   "execution_count": null,
   "metadata": {},
   "outputs": [],
   "source": [
    "tessdata_path = \"C:/Program Files/Tesseract-OCR/tessdata\"\n",
    "image_path = \"custom-test-images/soup.jpg\"\n",
    "\n",
    "with tesserocr.PyTessBaseAPI(path=tessdata_path) as api:\n",
    "    image = Image.open(image_path)\n",
    "    api.SetImage(image)\n",
    "    text = api.GetUTF8Text()\n",
    "    print(text)"
   ]
  },
  {
   "cell_type": "code",
   "execution_count": null,
   "metadata": {},
   "outputs": [
    {
     "name": "stdout",
     "output_type": "stream",
     "text": [
      "1\n",
      "2\n",
      "1\n",
      "1\n",
      "0\n",
      "0\n",
      "SLTOA $ [\n",
      "X8a1Lv8 aNITVMTV\n",
      "a133vuna\n",
      "VV\n",
      "AA\n",
      "DURACELL?\n",
      "ALKALINE BATTERY\n",
      "1.5 VOLTS\n"
     ]
    }
   ],
   "source": [
    "# easy ocr\n",
    "# %pip install easyocr\n",
    "import easyocr\n",
    "from PIL import Image\n",
    "\n",
    "# Load and rotate the image 90 degrees to the right (clockwise)\n",
    "image_path = \"custom-test-images/Duracell_AA__49529.jpg\"\n",
    "image = Image.open(image_path)\n",
    "rotated_right = image.rotate(-90, expand=True)  # Negative for clockwise rotation\n",
    "\n",
    "# Save the rotated image temporarily (optional step)\n",
    "rotated_image_right = \"ocr_test/battery_rotated_right.jpg\"\n",
    "rotated_right.save(rotated_image_right)\n",
    "\n",
    "rotated_left = image.rotate(90, expand=True)\n",
    "\n",
    "# Save the rotated image temporarily (optional step)\n",
    "rotated_image_left = \"ocr_test/battery_rotated_left.jpg\"\n",
    "rotated_left.save(rotated_image_left)\n",
    "\n",
    "# Perform OCR on the rotated image\n",
    "reader = easyocr.Reader(['en'], gpu=True)\n",
    "result = reader.readtext(image_path)\n",
    "result1 = reader.readtext(rotated_image_right)\n",
    "result2 = reader.readtext(rotated_image_left)\n",
    "\n",
    "# Print detected text\n",
    "for detection in result:\n",
    "    text = detection[1]\n",
    "    print(text)\n",
    "\n",
    "for detection in result1:\n",
    "    text = detection[1]\n",
    "    print(text)\n",
    "\n",
    "for detection in result2:\n",
    "    text = detection[1]\n",
    "    print(text)"
   ]
  },
  {
   "cell_type": "code",
   "execution_count": 7,
   "metadata": {},
   "outputs": [
    {
     "name": "stdout",
     "output_type": "stream",
     "text": [
      "FrEE \n",
      "Fu\n",
      "ORANGE SODA\n",
      "NATURALLY\n",
      "FLAVORED\n",
      "15FL 0Z (222 mL)\n",
      "CAFFEINE\n",
      "1004\n",
      "(awja\n",
      "@RANGE\n",
      "40\n",
      "8\n",
      "1\n",
      "2\n",
      "g\n",
      "0\n",
      "1\n",
      "382\n",
      "8\n",
      "04\n",
      "2\n",
      "3\n",
      "8\n",
      "J\n"
     ]
    }
   ],
   "source": [
    "# coke-real-removebg-preview\n",
    "# easy ocr\n",
    "# %pip install easyocr\n",
    "import easyocr\n",
    "from PIL import Image\n",
    "\n",
    "# Load and rotate the image 90 degrees to the right (clockwise)\n",
    "image_path = \"custom-test-images/fanta.webp\"\n",
    "image = Image.open(image_path)\n",
    "rotated_right = image.rotate(-90, expand=True)  # Negative for clockwise rotation\n",
    "\n",
    "# Save the rotated image temporarily (optional step)\n",
    "rotated_image_right = \"ocr_test/can_rotated_right.webp\"\n",
    "rotated_right.save(rotated_image_right)\n",
    "\n",
    "rotated_left = image.rotate(90, expand=True)\n",
    "\n",
    "# Save the rotated image temporarily (optional step)\n",
    "rotated_image_left = \"ocr_test/can_rotated_left.webp\"\n",
    "rotated_left.save(rotated_image_left)\n",
    "\n",
    "# Perform OCR on the rotated image\n",
    "reader = easyocr.Reader(['en'], gpu=True)\n",
    "result = reader.readtext(image_path)\n",
    "result1 = reader.readtext(rotated_image_right)\n",
    "result2 = reader.readtext(rotated_image_left)\n",
    "\n",
    "# Print detected text\n",
    "for detection in result:\n",
    "    text = detection[1]\n",
    "    print(text)\n",
    "\n",
    "for detection in result1:\n",
    "    text = detection[1]\n",
    "    print(text)\n",
    "\n",
    "for detection in result2:\n",
    "    text = detection[1]\n",
    "    print(text)"
   ]
  },
  {
   "cell_type": "code",
   "execution_count": null,
   "metadata": {},
   "outputs": [],
   "source": []
  }
 ],
 "metadata": {
  "kernelspec": {
   "display_name": "Python 3",
   "language": "python",
   "name": "python3"
  },
  "language_info": {
   "codemirror_mode": {
    "name": "ipython",
    "version": 3
   },
   "file_extension": ".py",
   "mimetype": "text/x-python",
   "name": "python",
   "nbconvert_exporter": "python",
   "pygments_lexer": "ipython3",
   "version": "3.8.0"
  }
 },
 "nbformat": 4,
 "nbformat_minor": 2
}
