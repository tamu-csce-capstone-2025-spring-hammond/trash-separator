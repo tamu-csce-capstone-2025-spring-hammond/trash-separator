{
 "cells": [
  {
   "cell_type": "code",
   "execution_count": 1,
   "metadata": {},
   "outputs": [],
   "source": [
    "import tesserocr\n",
    "from PIL import Image"
   ]
  },
  {
   "cell_type": "code",
   "execution_count": null,
   "metadata": {},
   "outputs": [
    {
     "name": "stdout",
     "output_type": "stream",
     "text": [
      "\n"
     ]
    }
   ],
   "source": [
    "tessdata_path = \"C:/Program Files/Tesseract-OCR/tessdata\"\n",
    "image_path = \"custom-test-images/soup.jpg\"\n",
    "\n",
    "with tesserocr.PyTessBaseAPI(path=tessdata_path) as api:\n",
    "    image = Image.open(image_path)\n",
    "    api.SetImage(image)\n",
    "    text = api.GetUTF8Text()\n",
    "    print(text)"
   ]
  },
  {
   "cell_type": "code",
   "execution_count": 10,
   "metadata": {},
   "outputs": [
    {
     "name": "stderr",
     "output_type": "stream",
     "text": [
      "Neither CUDA nor MPS are available - defaulting to CPU. Note: This module is much faster with a GPU.\n"
     ]
    },
    {
     "name": "stdout",
     "output_type": "stream",
     "text": [
      "3,7V -\n",
      "1200mAh =\n",
      "Li-16500\n"
     ]
    }
   ],
   "source": [
    "# easy ocr\n",
    "import easyocr\n",
    "\n",
    "image_path = \"custom-test-images/bluebattery.jpg\"\n",
    "reader = easyocr.Reader(['en'], gpu=False)\n",
    "result = reader.readtext(image_path)\n",
    "for detection in result:\n",
    "    text = detection[1]  # The detected text is in the second element of the tuple\n",
    "    print(text)"
   ]
  }
 ],
 "metadata": {
  "kernelspec": {
   "display_name": "Python 3",
   "language": "python",
   "name": "python3"
  },
  "language_info": {
   "codemirror_mode": {
    "name": "ipython",
    "version": 3
   },
   "file_extension": ".py",
   "mimetype": "text/x-python",
   "name": "python",
   "nbconvert_exporter": "python",
   "pygments_lexer": "ipython3",
   "version": "3.12.0"
  }
 },
 "nbformat": 4,
 "nbformat_minor": 2
}
