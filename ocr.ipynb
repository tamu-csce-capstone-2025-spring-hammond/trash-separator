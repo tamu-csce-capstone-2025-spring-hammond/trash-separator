{
 "cells": [
  {
   "cell_type": "code",
   "execution_count": null,
   "metadata": {},
   "outputs": [],
   "source": [
    "import tesserocr\n",
    "from PIL import Image"
   ]
  },
  {
   "cell_type": "code",
   "execution_count": null,
   "metadata": {},
   "outputs": [
    {
     "name": "stdout",
     "output_type": "stream",
     "text": [
      "Vegetable ‘\n",
      "Beef\n",
      "itm le SOUP: x\n",
      "——s\n",
      "\n",
      "=\n",
      "\n"
     ]
    }
   ],
   "source": [
    "tessdata_path = \"C:/Program Files/Tesseract-OCR/tessdata\"\n",
    "\n",
    "with tesserocr.PyTessBaseAPI(path=tessdata_path) as api:\n",
    "    image_path = \"custom-test-images/soup.jpg\"\n",
    "    image = Image.open(image_path)\n",
    "    api.SetImage(image)\n",
    "    text = api.GetUTF8Text()\n",
    "    print(text)"
   ]
  }
 ],
 "metadata": {
  "kernelspec": {
   "display_name": "base",
   "language": "python",
   "name": "python3"
  },
  "language_info": {
   "codemirror_mode": {
    "name": "ipython",
    "version": 3
   },
   "file_extension": ".py",
   "mimetype": "text/x-python",
   "name": "python",
   "nbconvert_exporter": "python",
   "pygments_lexer": "ipython3",
   "version": "3.8.18"
  }
 },
 "nbformat": 4,
 "nbformat_minor": 2
}
