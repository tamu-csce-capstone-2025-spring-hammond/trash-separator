{
 "cells": [
  {
   "cell_type": "code",
   "execution_count": null,
   "metadata": {},
   "outputs": [
    {
     "name": "stdout",
     "output_type": "stream",
     "text": [
      "\n"
     ]
    }
   ],
   "source": [
    "# tesseract\n",
    "import tesserocr\n",
    "from PIL import Image\n",
    "\n",
    "tessdata_path = \"C:/Program Files/Tesseract-OCR/tessdata\"\n",
    "image_path = \"custom-test-images/soup.jpg\"\n",
    "\n",
    "with tesserocr.PyTessBaseAPI(path=tessdata_path) as api:\n",
    "    image = Image.open(image_path)\n",
    "    api.SetImage(image)\n",
    "    text = api.GetUTF8Text()\n",
    "    print(text)"
   ]
  },
  {
   "cell_type": "code",
   "execution_count": null,
   "metadata": {},
   "outputs": [
    {
     "name": "stderr",
     "output_type": "stream",
     "text": [
      "Using CPU. Note: This module is much faster with a GPU.\n"
     ]
    },
    {
     "name": "stdout",
     "output_type": "stream",
     "text": [
      "3,7V -\n",
      "1200mAh =\n",
      "Li-16500\n"
     ]
    }
   ],
   "source": [
    "# easyocr\n",
    "import easyocr\n",
    "\n",
    "image_path = \"custom-test-images/bluebattery.jpg\"\n",
    "reader = easyocr.Reader(['en'], gpu=False)\n",
    "result = reader.readtext(image_path)\n",
    "for detection in result:\n",
    "    text = detection[1]  # The detected text is in the second element of the tuple\n",
    "    print(text)"
   ]
  },
  {
   "cell_type": "code",
   "execution_count": 2,
   "metadata": {},
   "outputs": [
    {
     "name": "stdout",
     "output_type": "stream",
     "text": [
      "Collecting python-doctr\n",
      "  Downloading python_doctr-0.8.1-py3-none-any.whl.metadata (33 kB)\n",
      "Requirement already satisfied: importlib-metadata in c:\\users\\danym\\appdata\\roaming\\python\\python38\\site-packages (from python-doctr) (7.0.1)\n",
      "Requirement already satisfied: numpy<2.0.0,>=1.16.0 in c:\\users\\danym\\appdata\\local\\programs\\python\\python38\\lib\\site-packages (from python-doctr) (1.24.4)\n",
      "Requirement already satisfied: scipy<2.0.0,>=1.4.0 in c:\\users\\danym\\appdata\\local\\programs\\python\\python38\\lib\\site-packages (from python-doctr) (1.10.1)\n",
      "Collecting h5py<4.0.0,>=3.1.0 (from python-doctr)\n",
      "  Downloading h5py-3.11.0-cp38-cp38-win_amd64.whl.metadata (2.5 kB)\n",
      "Requirement already satisfied: opencv-python<5.0.0,>=4.5.0 in c:\\users\\danym\\appdata\\local\\programs\\python\\python38\\lib\\site-packages (from python-doctr) (4.9.0.80)\n",
      "Requirement already satisfied: pypdfium2<5.0.0,>=4.0.0 in c:\\users\\danym\\appdata\\local\\programs\\python\\python38\\lib\\site-packages (from python-doctr) (4.27.0)\n",
      "Requirement already satisfied: pyclipper<2.0.0,>=1.2.0 in c:\\users\\danym\\appdata\\local\\programs\\python\\python38\\lib\\site-packages (from python-doctr) (1.3.0.post6)\n",
      "Requirement already satisfied: shapely<3.0.0,>=1.6.0 in c:\\users\\danym\\appdata\\local\\programs\\python\\python38\\lib\\site-packages (from python-doctr) (2.0.7)\n",
      "Collecting langdetect<2.0.0,>=1.0.9 (from python-doctr)\n",
      "  Using cached langdetect-1.0.9.tar.gz (981 kB)\n",
      "  Installing build dependencies: started\n",
      "  Installing build dependencies: finished with status 'done'\n",
      "  Getting requirements to build wheel: started\n",
      "  Getting requirements to build wheel: finished with status 'done'\n",
      "  Preparing metadata (pyproject.toml): started\n",
      "  Preparing metadata (pyproject.toml): finished with status 'done'\n",
      "Collecting rapidfuzz<4.0.0,>=3.0.0 (from python-doctr)\n",
      "  Downloading rapidfuzz-3.9.7-cp38-cp38-win_amd64.whl.metadata (12 kB)\n",
      "Requirement already satisfied: huggingface-hub<1.0.0,>=0.20.0 in c:\\users\\danym\\appdata\\local\\programs\\python\\python38\\lib\\site-packages (from python-doctr) (0.29.3)\n",
      "Requirement already satisfied: matplotlib>=3.1.0 in c:\\users\\danym\\appdata\\local\\programs\\python\\python38\\lib\\site-packages (from python-doctr) (3.7.5)\n",
      "Collecting weasyprint>=55.0 (from python-doctr)\n",
      "  Downloading weasyprint-61.2-py3-none-any.whl.metadata (3.7 kB)\n",
      "Requirement already satisfied: Pillow>=9.2.0 in c:\\users\\danym\\appdata\\local\\programs\\python\\python38\\lib\\site-packages (from python-doctr) (10.2.0)\n",
      "Collecting defusedxml>=0.7.0 (from python-doctr)\n",
      "  Using cached defusedxml-0.7.1-py2.py3-none-any.whl.metadata (32 kB)\n",
      "Collecting mplcursors>=0.3 (from python-doctr)\n",
      "  Downloading mplcursors-0.6-py3-none-any.whl.metadata (3.0 kB)\n",
      "Collecting unidecode>=1.0.0 (from python-doctr)\n",
      "  Downloading Unidecode-1.3.8-py3-none-any.whl.metadata (13 kB)\n",
      "Requirement already satisfied: tqdm>=4.30.0 in c:\\users\\danym\\appdata\\local\\programs\\python\\python38\\lib\\site-packages (from python-doctr) (4.66.2)\n",
      "Requirement already satisfied: filelock in c:\\users\\danym\\appdata\\local\\programs\\python\\python38\\lib\\site-packages (from huggingface-hub<1.0.0,>=0.20.0->python-doctr) (3.14.0)\n",
      "Requirement already satisfied: fsspec>=2023.5.0 in c:\\users\\danym\\appdata\\local\\programs\\python\\python38\\lib\\site-packages (from huggingface-hub<1.0.0,>=0.20.0->python-doctr) (2024.3.1)\n",
      "Requirement already satisfied: packaging>=20.9 in c:\\users\\danym\\appdata\\roaming\\python\\python38\\site-packages (from huggingface-hub<1.0.0,>=0.20.0->python-doctr) (23.2)\n",
      "Requirement already satisfied: pyyaml>=5.1 in c:\\users\\danym\\appdata\\local\\programs\\python\\python38\\lib\\site-packages (from huggingface-hub<1.0.0,>=0.20.0->python-doctr) (6.0.2)\n",
      "Requirement already satisfied: requests in c:\\users\\danym\\appdata\\local\\programs\\python\\python38\\lib\\site-packages (from huggingface-hub<1.0.0,>=0.20.0->python-doctr) (2.31.0)\n",
      "Requirement already satisfied: typing-extensions>=3.7.4.3 in c:\\users\\danym\\appdata\\roaming\\python\\python38\\site-packages (from huggingface-hub<1.0.0,>=0.20.0->python-doctr) (4.9.0)\n",
      "Requirement already satisfied: six in c:\\users\\danym\\appdata\\roaming\\python\\python38\\site-packages (from langdetect<2.0.0,>=1.0.9->python-doctr) (1.16.0)\n",
      "Requirement already satisfied: contourpy>=1.0.1 in c:\\users\\danym\\appdata\\local\\programs\\python\\python38\\lib\\site-packages (from matplotlib>=3.1.0->python-doctr) (1.1.1)\n",
      "Requirement already satisfied: cycler>=0.10 in c:\\users\\danym\\appdata\\local\\programs\\python\\python38\\lib\\site-packages (from matplotlib>=3.1.0->python-doctr) (0.12.1)\n",
      "Requirement already satisfied: fonttools>=4.22.0 in c:\\users\\danym\\appdata\\local\\programs\\python\\python38\\lib\\site-packages (from matplotlib>=3.1.0->python-doctr) (4.49.0)\n",
      "Requirement already satisfied: kiwisolver>=1.0.1 in c:\\users\\danym\\appdata\\local\\programs\\python\\python38\\lib\\site-packages (from matplotlib>=3.1.0->python-doctr) (1.4.5)\n",
      "Requirement already satisfied: pyparsing>=2.3.1 in c:\\users\\danym\\appdata\\local\\programs\\python\\python38\\lib\\site-packages (from matplotlib>=3.1.0->python-doctr) (3.1.1)\n",
      "Requirement already satisfied: python-dateutil>=2.7 in c:\\users\\danym\\appdata\\roaming\\python\\python38\\site-packages (from matplotlib>=3.1.0->python-doctr) (2.8.2)\n",
      "Requirement already satisfied: importlib-resources>=3.2.0 in c:\\users\\danym\\appdata\\local\\programs\\python\\python38\\lib\\site-packages (from matplotlib>=3.1.0->python-doctr) (6.1.2)\n",
      "Requirement already satisfied: colorama in c:\\users\\danym\\appdata\\roaming\\python\\python38\\site-packages (from tqdm>=4.30.0->python-doctr) (0.4.6)\n",
      "Collecting pydyf>=0.8.0 (from weasyprint>=55.0->python-doctr)\n",
      "  Downloading pydyf-0.11.0-py3-none-any.whl.metadata (2.5 kB)\n",
      "Requirement already satisfied: cffi>=0.6 in c:\\users\\danym\\appdata\\local\\programs\\python\\python38\\lib\\site-packages (from weasyprint>=55.0->python-doctr) (1.16.0)\n",
      "Collecting html5lib>=1.1 (from weasyprint>=55.0->python-doctr)\n",
      "  Downloading html5lib-1.1-py2.py3-none-any.whl.metadata (16 kB)\n",
      "Collecting tinycss2>=1.0.0 (from weasyprint>=55.0->python-doctr)\n",
      "  Downloading tinycss2-1.4.0-py3-none-any.whl.metadata (3.0 kB)\n",
      "Collecting cssselect2>=0.1 (from weasyprint>=55.0->python-doctr)\n",
      "  Downloading cssselect2-0.7.0-py3-none-any.whl.metadata (2.9 kB)\n",
      "Collecting Pyphen>=0.9.1 (from weasyprint>=55.0->python-doctr)\n",
      "  Downloading pyphen-0.16.0-py3-none-any.whl.metadata (3.2 kB)\n",
      "Requirement already satisfied: zipp>=0.5 in c:\\users\\danym\\appdata\\roaming\\python\\python38\\site-packages (from importlib-metadata->python-doctr) (3.17.0)\n",
      "Requirement already satisfied: pycparser in c:\\users\\danym\\appdata\\local\\programs\\python\\python38\\lib\\site-packages (from cffi>=0.6->weasyprint>=55.0->python-doctr) (2.21)\n",
      "Collecting webencodings (from cssselect2>=0.1->weasyprint>=55.0->python-doctr)\n",
      "  Downloading webencodings-0.5.1-py2.py3-none-any.whl.metadata (2.1 kB)\n",
      "Collecting zopfli>=0.1.4 (from fonttools[woff]>=4.0.0->weasyprint>=55.0->python-doctr)\n",
      "  Downloading zopfli-0.2.3.post1-cp38-cp38-win_amd64.whl.metadata (3.0 kB)\n",
      "Collecting brotli>=1.0.1 (from fonttools[woff]>=4.0.0->weasyprint>=55.0->python-doctr)\n",
      "  Downloading Brotli-1.1.0-cp38-cp38-win_amd64.whl.metadata (5.6 kB)\n",
      "Requirement already satisfied: charset-normalizer<4,>=2 in c:\\users\\danym\\appdata\\local\\programs\\python\\python38\\lib\\site-packages (from requests->huggingface-hub<1.0.0,>=0.20.0->python-doctr) (3.3.2)\n",
      "Requirement already satisfied: idna<4,>=2.5 in c:\\users\\danym\\appdata\\local\\programs\\python\\python38\\lib\\site-packages (from requests->huggingface-hub<1.0.0,>=0.20.0->python-doctr) (3.6)\n",
      "Requirement already satisfied: urllib3<3,>=1.21.1 in c:\\users\\danym\\appdata\\local\\programs\\python\\python38\\lib\\site-packages (from requests->huggingface-hub<1.0.0,>=0.20.0->python-doctr) (2.2.1)\n",
      "Requirement already satisfied: certifi>=2017.4.17 in c:\\users\\danym\\appdata\\local\\programs\\python\\python38\\lib\\site-packages (from requests->huggingface-hub<1.0.0,>=0.20.0->python-doctr) (2024.2.2)\n",
      "Downloading python_doctr-0.8.1-py3-none-any.whl (295 kB)\n",
      "Using cached defusedxml-0.7.1-py2.py3-none-any.whl (25 kB)\n",
      "Downloading h5py-3.11.0-cp38-cp38-win_amd64.whl (3.0 MB)\n",
      "   ---------------------------------------- 0.0/3.0 MB ? eta -:--:--\n",
      "   ---------------------------------------- 3.0/3.0 MB 21.8 MB/s eta 0:00:00\n",
      "Downloading mplcursors-0.6-py3-none-any.whl (20 kB)\n",
      "Downloading rapidfuzz-3.9.7-cp38-cp38-win_amd64.whl (1.7 MB)\n",
      "   ---------------------------------------- 0.0/1.7 MB ? eta -:--:--\n",
      "   ---------------------------------------- 1.7/1.7 MB 22.7 MB/s eta 0:00:00\n",
      "Downloading Unidecode-1.3.8-py3-none-any.whl (235 kB)\n",
      "Downloading weasyprint-61.2-py3-none-any.whl (271 kB)\n",
      "Downloading cssselect2-0.7.0-py3-none-any.whl (15 kB)\n",
      "Downloading html5lib-1.1-py2.py3-none-any.whl (112 kB)\n",
      "Downloading pydyf-0.11.0-py3-none-any.whl (8.1 kB)\n",
      "Downloading pyphen-0.16.0-py3-none-any.whl (2.1 MB)\n",
      "   ---------------------------------------- 0.0/2.1 MB ? eta -:--:--\n",
      "   ---------------------------------------- 2.1/2.1 MB 19.5 MB/s eta 0:00:00\n",
      "Downloading tinycss2-1.4.0-py3-none-any.whl (26 kB)\n",
      "Downloading Brotli-1.1.0-cp38-cp38-win_amd64.whl (357 kB)\n",
      "Downloading webencodings-0.5.1-py2.py3-none-any.whl (11 kB)\n",
      "Downloading zopfli-0.2.3.post1-cp38-cp38-win_amd64.whl (99 kB)\n",
      "Building wheels for collected packages: langdetect\n",
      "  Building wheel for langdetect (pyproject.toml): started\n",
      "  Building wheel for langdetect (pyproject.toml): finished with status 'done'\n",
      "  Created wheel for langdetect: filename=langdetect-1.0.9-py3-none-any.whl size=993250 sha256=30db025abcf585bad4361a648bc3a3b4d0c0dbde868f0cf04951060796300471\n",
      "  Stored in directory: c:\\users\\danym\\appdata\\local\\pip\\cache\\wheels\\13\\c7\\b0\\79f66658626032e78fc1a83103690ef6797d551cb22e56e734\n",
      "Successfully built langdetect\n",
      "Installing collected packages: webencodings, brotli, zopfli, unidecode, tinycss2, rapidfuzz, Pyphen, pydyf, langdetect, html5lib, h5py, defusedxml, cssselect2, weasyprint, mplcursors, python-doctr\n",
      "Successfully installed Pyphen-0.16.0 brotli-1.1.0 cssselect2-0.7.0 defusedxml-0.7.1 h5py-3.11.0 html5lib-1.1 langdetect-1.0.9 mplcursors-0.6 pydyf-0.11.0 python-doctr-0.8.1 rapidfuzz-3.9.7 tinycss2-1.4.0 unidecode-1.3.8 weasyprint-61.2 webencodings-0.5.1 zopfli-0.2.3.post1\n",
      "Note: you may need to restart the kernel to use updated packages.\n"
     ]
    }
   ],
   "source": [
    "%pip install python-doctr"
   ]
  },
  {
   "cell_type": "code",
   "execution_count": 2,
   "metadata": {},
   "outputs": [
    {
     "name": "stdout",
     "output_type": "stream",
     "text": [
      "CAFFEINE \n",
      "FREE \n",
      "100 \n",
      "NATUA \n",
      "FLAOS \n",
      "9 - \n",
      "9 \n",
      "- - \n",
      "OPANGE \n",
      "ORANGE SODA \n",
      "NATURALLY \n",
      "FLAVORED \n",
      "75FLOZ (222 2ml) \n"
     ]
    }
   ],
   "source": [
    "# doctr\n",
    "from doctr.models import ocr_predictor\n",
    "from doctr.io import DocumentFile\n",
    "\n",
    "model = (ocr_predictor(det_arch='db_resnet50', reco_arch='crnn_vgg16_bn', pretrained=True))\n",
    "image_path = \"custom-test-images/fanta.webp\"\n",
    "single_img_doc = DocumentFile.from_images(image_path)\n",
    "result = model(single_img_doc)\n",
    "\n",
    "for item in result.export()['pages']:\n",
    "    for block in item['blocks']:\n",
    "        for line in block['lines']:\n",
    "            for word in line['words']:\n",
    "                print(word['value'], end=\" \")\n",
    "            print()"
   ]
  },
  {
   "cell_type": "code",
   "execution_count": 6,
   "metadata": {},
   "outputs": [
    {
     "data": {
      "text/plain": [
       "False"
      ]
     },
     "execution_count": 6,
     "metadata": {},
     "output_type": "execute_result"
    }
   ],
   "source": [
    "import torch\n",
    "torch.cuda.is_available()"
   ]
  },
  {
   "cell_type": "code",
   "execution_count": null,
   "metadata": {},
   "outputs": [
    {
     "name": "stderr",
     "output_type": "stream",
     "text": [
      "Config of the encoder: <class 'transformers.models.vit.modeling_vit.ViTModel'> is overwritten by shared encoder config: ViTConfig {\n",
      "  \"attention_probs_dropout_prob\": 0.0,\n",
      "  \"encoder_stride\": 16,\n",
      "  \"hidden_act\": \"gelu\",\n",
      "  \"hidden_dropout_prob\": 0.0,\n",
      "  \"hidden_size\": 768,\n",
      "  \"image_size\": 384,\n",
      "  \"initializer_range\": 0.02,\n",
      "  \"intermediate_size\": 3072,\n",
      "  \"layer_norm_eps\": 1e-12,\n",
      "  \"model_type\": \"vit\",\n",
      "  \"num_attention_heads\": 12,\n",
      "  \"num_channels\": 3,\n",
      "  \"num_hidden_layers\": 12,\n",
      "  \"patch_size\": 16,\n",
      "  \"pooler_act\": \"tanh\",\n",
      "  \"pooler_output_size\": 768,\n",
      "  \"qkv_bias\": false,\n",
      "  \"torch_dtype\": \"float32\",\n",
      "  \"transformers_version\": \"4.51.1\"\n",
      "}\n",
      "\n",
      "Config of the decoder: <class 'transformers.models.trocr.modeling_trocr.TrOCRForCausalLM'> is overwritten by shared decoder config: TrOCRConfig {\n",
      "  \"activation_dropout\": 0.0,\n",
      "  \"activation_function\": \"gelu\",\n",
      "  \"add_cross_attention\": true,\n",
      "  \"attention_dropout\": 0.0,\n",
      "  \"bos_token_id\": 0,\n",
      "  \"classifier_dropout\": 0.0,\n",
      "  \"cross_attention_hidden_size\": 768,\n",
      "  \"d_model\": 1024,\n",
      "  \"decoder_attention_heads\": 16,\n",
      "  \"decoder_ffn_dim\": 4096,\n",
      "  \"decoder_layerdrop\": 0.0,\n",
      "  \"decoder_layers\": 12,\n",
      "  \"decoder_start_token_id\": 2,\n",
      "  \"dropout\": 0.1,\n",
      "  \"eos_token_id\": 2,\n",
      "  \"init_std\": 0.02,\n",
      "  \"is_decoder\": true,\n",
      "  \"layernorm_embedding\": true,\n",
      "  \"max_position_embeddings\": 512,\n",
      "  \"model_type\": \"trocr\",\n",
      "  \"pad_token_id\": 1,\n",
      "  \"scale_embedding\": false,\n",
      "  \"torch_dtype\": \"float32\",\n",
      "  \"transformers_version\": \"4.51.1\",\n",
      "  \"use_cache\": false,\n",
      "  \"use_learned_position_embeddings\": true,\n",
      "  \"vocab_size\": 50265\n",
      "}\n",
      "\n",
      "Some weights of VisionEncoderDecoderModel were not initialized from the model checkpoint at microsoft/trocr-base-handwritten and are newly initialized: ['encoder.pooler.dense.bias', 'encoder.pooler.dense.weight']\n",
      "You should probably TRAIN this model on a down-stream task to be able to use it for predictions and inference.\n"
     ]
    },
    {
     "data": {
      "text/plain": [
       "'0 1'"
      ]
     },
     "execution_count": 4,
     "metadata": {},
     "output_type": "execute_result"
    }
   ],
   "source": [
    "# trOCR\n",
    "from transformers import TrOCRProcessor, VisionEncoderDecoderModel\n",
    "from PIL import Image\n",
    "\n",
    "processor = TrOCRProcessor.from_pretrained(\"microsoft/trocr-base-handwritten\")\n",
    "model = VisionEncoderDecoderModel.from_pretrained(\"microsoft/trocr-base-handwritten\")\n",
    "\n",
    "image_path = \"custom-test-images/fanta.webp\"\n",
    "image = Image.open(image_path).convert(\"RGB\")\n",
    "\n",
    "pixel_values = processor(image, return_tensors=\"pt\").pixel_values\n",
    "generated_ids = model.generate(pixel_values)\n",
    "\n",
    "generated_text = processor.batch_decode(generated_ids, skip_special_tokens=True)[0]\n",
    "generated_text"
   ]
  }
 ],
 "metadata": {
  "kernelspec": {
   "display_name": "Python 3",
   "language": "python",
   "name": "python3"
  },
  "language_info": {
   "codemirror_mode": {
    "name": "ipython",
    "version": 3
   },
   "file_extension": ".py",
   "mimetype": "text/x-python",
   "name": "python",
   "nbconvert_exporter": "python",
   "pygments_lexer": "ipython3",
   "version": "3.13.1"
  }
 },
 "nbformat": 4,
 "nbformat_minor": 2
}
