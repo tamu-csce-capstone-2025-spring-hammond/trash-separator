{
 "cells": [
  {
   "cell_type": "code",
   "execution_count": null,
   "metadata": {},
   "outputs": [],
   "source": [
    "# easy ocr\n",
    "# %pip install easyocr\n",
    "import os\n",
    "os.environ[\"KMP_DUPLICATE_LIB_OK\"] = \"TRUE\"\n",
    "import easyocr\n",
    "from PIL import Image\n",
    "import numpy as np\n",
    "import difflib"
   ]
  },
  {
   "cell_type": "code",
   "execution_count": 8,
   "metadata": {},
   "outputs": [
    {
     "name": "stderr",
     "output_type": "stream",
     "text": [
      "Neither CUDA nor MPS are available - defaulting to CPU. Note: This module is much faster with a GPU.\n"
     ]
    },
    {
     "name": "stdout",
     "output_type": "stream",
     "text": [
      "\n",
      "--- OCR for rotation 0° ---\n",
      "1\n",
      "2\n",
      "1\n",
      "1\n",
      "0\n",
      "(\n",
      "\n",
      "--- OCR for rotation 90° ---\n",
      "AA\n",
      "DURACELL?\n",
      "ALKALINE BATTERY\n",
      "15 VOLTS\n",
      "\n",
      "--- OCR for rotation 180° ---\n",
      "1\n",
      "1\n",
      "1\n",
      "3\n",
      "3\n",
      "0\n",
      "\n",
      "--- OCR for rotation 270° ---\n",
      "SLTOA $ !\n",
      "X8a11v9 3NI7VMTV\n",
      "a133vuna\n",
      "WV\n"
     ]
    }
   ],
   "source": [
    "image_path = \"custom-test-images/Duracell_AA__49529.jpg\"\n",
    "reader = easyocr.Reader(['en'], gpu=True)\n",
    "\n",
    "# Load the image\n",
    "original_img = Image.open(image_path)\n",
    "\n",
    "# Store all rotations: 0°, 90°, 180°, 270°\n",
    "rotations = [original_img] + [original_img.rotate(angle, expand=True) for angle in [90, 180, 270]]\n",
    "\n",
    "# Run OCR on each rotated image\n",
    "for i, img in enumerate(rotations):\n",
    "    print(f\"\\n--- OCR for rotation {i * 90}° ---\")\n",
    "    img_np = np.array(img)\n",
    "    results = reader.readtext(img_np)\n",
    "    for detection in results:\n",
    "        text = detection[1]\n",
    "        print(text)"
   ]
  }
 ],
 "metadata": {
  "kernelspec": {
   "display_name": "base",
   "language": "python",
   "name": "python3"
  },
  "language_info": {
   "codemirror_mode": {
    "name": "ipython",
    "version": 3
   },
   "file_extension": ".py",
   "mimetype": "text/x-python",
   "name": "python",
   "nbconvert_exporter": "python",
   "pygments_lexer": "ipython3",
   "version": "3.11.5"
  }
 },
 "nbformat": 4,
 "nbformat_minor": 2
}
