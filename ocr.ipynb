{
 "cells": [
  {
   "cell_type": "code",
   "execution_count": 11,
   "metadata": {},
   "outputs": [],
   "source": [
    "# easy ocr\n",
    "# %pip install easyocr\n",
    "import os\n",
    "os.environ[\"KMP_DUPLICATE_LIB_OK\"] = \"TRUE\"\n",
    "import easyocr\n",
    "from PIL import Image\n",
    "import numpy as np\n",
    "import difflib\n",
    "\n",
    "look_up = {\n",
    "    'battery': ['battery'],\n",
    "    'AA' : ['battery'],\n",
    "    'AAA' : ['battery'],\n",
    "    'mah' : ['battery'],\n",
    "    'duracell': ['battery'],\n",
    "    'energizer': ['battery'],\n",
    "    'dr pepper' : ['metal', 'glass'],\n",
    "    'sprite' : ['metal', 'glass'],\n",
    "    'pepsi' : ['metal', 'glass'],\n",
    "    'coca cola' : ['metal', 'glass'],\n",
    "    'fanta' : ['metal', 'glass'],\n",
    "    'coke' : ['metal', 'glass'],\n",
    "    'campbell' : ['metal'],\n",
    "    'soup' : ['metal', 'plastic', 'glass'],\n",
    "    'ml' : ['metal', 'plastic', 'glass'],\n",
    "    'soda' : ['metal', 'plastic', 'glass']\n",
    "}"
   ]
  },
  {
   "cell_type": "code",
   "execution_count": 14,
   "metadata": {},
   "outputs": [
    {
     "name": "stderr",
     "output_type": "stream",
     "text": [
      "Neither CUDA nor MPS are available - defaulting to CPU. Note: This module is much faster with a GPU.\n"
     ]
    },
    {
     "name": "stdout",
     "output_type": "stream",
     "text": [
      "\n",
      "--- OCR for rotation 0° ---\n",
      "\n",
      "--- OCR for rotation 90° ---\n",
      "scanned word: AA | look up word: AA | likely classes: ['battery'] | confidence score: 1.0\n",
      "scanned word: AA | look up word: AAA | likely classes: ['battery'] | confidence score: 0.8\n",
      "\n",
      "--- OCR for rotation 180° ---\n",
      "\n",
      "--- OCR for rotation 270° ---\n"
     ]
    }
   ],
   "source": [
    "image_path = \"custom-test-images/Duracell_AA__49529.jpg\"\n",
    "reader = easyocr.Reader(['en'], gpu=True)\n",
    "\n",
    "# Load the image\n",
    "original_img = Image.open(image_path)\n",
    "\n",
    "# Store all rotations: 0°, 90°, 180°, 270°\n",
    "rotations = [original_img] + [original_img.rotate(angle, expand=True) for angle in [90, 180, 270]]\n",
    "\n",
    "# Run OCR on each rotated image\n",
    "for i, img in enumerate(rotations):\n",
    "    print(f\"\\n--- OCR for rotation {i * 90}° ---\")\n",
    "    out = []\n",
    "    img_np = np.array(img)\n",
    "    results = reader.readtext(img_np)\n",
    "    for detection in results:\n",
    "        out.append(detection[1])\n",
    "    \n",
    "    for word in out:\n",
    "        for key, val in look_up.items():\n",
    "            ratio = difflib.SequenceMatcher(None, word, key).ratio()\n",
    "            if ratio > 0.7:\n",
    "                print(f'scanned word: {word} | look up word: {key} | likely classes: {val} | confidence score: {ratio}')"
   ]
  }
 ],
 "metadata": {
  "kernelspec": {
   "display_name": "base",
   "language": "python",
   "name": "python3"
  },
  "language_info": {
   "codemirror_mode": {
    "name": "ipython",
    "version": 3
   },
   "file_extension": ".py",
   "mimetype": "text/x-python",
   "name": "python",
   "nbconvert_exporter": "python",
   "pygments_lexer": "ipython3",
   "version": "3.11.5"
  }
 },
 "nbformat": 4,
 "nbformat_minor": 2
}
