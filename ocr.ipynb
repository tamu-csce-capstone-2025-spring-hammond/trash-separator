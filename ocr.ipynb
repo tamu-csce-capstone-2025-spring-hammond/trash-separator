{
 "cells": [
  {
   "cell_type": "code",
   "execution_count": null,
   "metadata": {},
   "outputs": [
    {
     "name": "stdout",
     "output_type": "stream",
     "text": [
      "\n"
     ]
    }
   ],
   "source": [
    "import tesserocr\n",
    "from PIL import Image\n",
    "\n",
    "tessdata_path = \"C:/Program Files/Tesseract-OCR/tessdata\"\n",
    "image_path = \"custom-test-images/soup.jpg\"\n",
    "\n",
    "with tesserocr.PyTessBaseAPI(path=tessdata_path) as api:\n",
    "    image = Image.open(image_path)\n",
    "    api.SetImage(image)\n",
    "    text = api.GetUTF8Text()\n",
    "    print(text)"
   ]
  },
  {
   "cell_type": "code",
   "execution_count": 1,
   "metadata": {},
   "outputs": [
    {
     "name": "stderr",
     "output_type": "stream",
     "text": [
      "Using CPU. Note: This module is much faster with a GPU.\n"
     ]
    },
    {
     "name": "stdout",
     "output_type": "stream",
     "text": [
      "3,7V -\n",
      "1200mAh =\n",
      "Li-16500\n"
     ]
    }
   ],
   "source": [
    "# easy ocr\n",
    "import easyocr\n",
    "\n",
    "image_path = \"custom-test-images/bluebattery.jpg\"\n",
    "reader = easyocr.Reader(['en'], gpu=False)\n",
    "result = reader.readtext(image_path)\n",
    "for detection in result:\n",
    "    text = detection[1]  # The detected text is in the second element of the tuple\n",
    "    print(text)"
   ]
  },
  {
   "cell_type": "code",
   "execution_count": null,
   "metadata": {},
   "outputs": [
    {
     "name": "stdout",
     "output_type": "stream",
     "text": [
      "Collecting python-doctrNote: you may need to restart the kernel to use updated packages.\n"
     ]
    },
    {
     "name": "stderr",
     "output_type": "stream",
     "text": [
      "\n",
      "[notice] A new release of pip is available: 23.3.1 -> 25.0.1\n",
      "[notice] To update, run: python.exe -m pip install --upgrade pip\n"
     ]
    },
    {
     "name": "stdout",
     "output_type": "stream",
     "text": [
      "\n",
      "  Using cached python_doctr-0.11.0-py3-none-any.whl.metadata (33 kB)\n",
      "Requirement already satisfied: numpy<3.0.0,>=1.16.0 in c:\\python312\\lib\\site-packages (from python-doctr) (2.1.0)\n",
      "Requirement already satisfied: scipy<2.0.0,>=1.4.0 in c:\\python312\\lib\\site-packages (from python-doctr) (1.14.1)\n",
      "Requirement already satisfied: h5py<4.0.0,>=3.1.0 in c:\\python312\\lib\\site-packages (from python-doctr) (3.13.0)\n",
      "Requirement already satisfied: opencv-python<5.0.0,>=4.5.0 in c:\\python312\\lib\\site-packages (from python-doctr) (4.11.0.86)\n",
      "Requirement already satisfied: pypdfium2<5.0.0,>=4.11.0 in c:\\python312\\lib\\site-packages (from python-doctr) (4.30.1)\n",
      "Requirement already satisfied: pyclipper<2.0.0,>=1.2.0 in c:\\python312\\lib\\site-packages (from python-doctr) (1.3.0.post6)\n",
      "Requirement already satisfied: shapely<3.0.0,>=1.6.0 in c:\\python312\\lib\\site-packages (from python-doctr) (2.1.0)\n",
      "Requirement already satisfied: langdetect<2.0.0,>=1.0.9 in c:\\python312\\lib\\site-packages (from python-doctr) (1.0.9)\n",
      "Requirement already satisfied: rapidfuzz<4.0.0,>=3.0.0 in c:\\python312\\lib\\site-packages (from python-doctr) (3.13.0)\n",
      "Requirement already satisfied: huggingface-hub<1.0.0,>=0.20.0 in c:\\python312\\lib\\site-packages (from python-doctr) (0.30.2)\n",
      "Requirement already satisfied: Pillow>=9.2.0 in c:\\python312\\lib\\site-packages (from python-doctr) (10.4.0)\n",
      "Requirement already satisfied: defusedxml>=0.7.0 in c:\\python312\\lib\\site-packages (from python-doctr) (0.7.1)\n",
      "Requirement already satisfied: anyascii>=0.3.2 in c:\\python312\\lib\\site-packages (from python-doctr) (0.3.2)\n",
      "Requirement already satisfied: tqdm>=4.30.0 in c:\\python312\\lib\\site-packages (from python-doctr) (4.67.1)\n",
      "Requirement already satisfied: filelock in c:\\python312\\lib\\site-packages (from huggingface-hub<1.0.0,>=0.20.0->python-doctr) (3.17.0)\n",
      "Requirement already satisfied: fsspec>=2023.5.0 in c:\\python312\\lib\\site-packages (from huggingface-hub<1.0.0,>=0.20.0->python-doctr) (2025.2.0)\n",
      "Requirement already satisfied: packaging>=20.9 in c:\\users\\yisye\\appdata\\roaming\\python\\python312\\site-packages (from huggingface-hub<1.0.0,>=0.20.0->python-doctr) (24.1)\n",
      "Requirement already satisfied: pyyaml>=5.1 in c:\\python312\\lib\\site-packages (from huggingface-hub<1.0.0,>=0.20.0->python-doctr) (6.0.2)\n",
      "Requirement already satisfied: requests in c:\\users\\yisye\\appdata\\roaming\\python\\python312\\site-packages (from huggingface-hub<1.0.0,>=0.20.0->python-doctr) (2.31.0)\n",
      "Requirement already satisfied: typing-extensions>=3.7.4.3 in c:\\python312\\lib\\site-packages (from huggingface-hub<1.0.0,>=0.20.0->python-doctr) (4.12.2)\n",
      "Requirement already satisfied: six in c:\\python312\\lib\\site-packages (from langdetect<2.0.0,>=1.0.9->python-doctr) (1.16.0)\n",
      "Requirement already satisfied: colorama in c:\\python312\\lib\\site-packages (from tqdm>=4.30.0->python-doctr) (0.4.6)\n",
      "Requirement already satisfied: charset-normalizer<4,>=2 in c:\\users\\yisye\\appdata\\roaming\\python\\python312\\site-packages (from requests->huggingface-hub<1.0.0,>=0.20.0->python-doctr) (3.3.2)\n",
      "Requirement already satisfied: idna<4,>=2.5 in c:\\users\\yisye\\appdata\\roaming\\python\\python312\\site-packages (from requests->huggingface-hub<1.0.0,>=0.20.0->python-doctr) (3.6)\n",
      "Requirement already satisfied: urllib3<3,>=1.21.1 in c:\\users\\yisye\\appdata\\roaming\\python\\python312\\site-packages (from requests->huggingface-hub<1.0.0,>=0.20.0->python-doctr) (2.1.0)\n",
      "Requirement already satisfied: certifi>=2017.4.17 in c:\\users\\yisye\\appdata\\roaming\\python\\python312\\site-packages (from requests->huggingface-hub<1.0.0,>=0.20.0->python-doctr) (2023.11.17)\n",
      "Using cached python_doctr-0.11.0-py3-none-any.whl (304 kB)\n",
      "Installing collected packages: python-doctr\n",
      "Successfully installed python-doctr-0.11.0\n"
     ]
    }
   ],
   "source": [
    "%pip install python-doctr"
   ]
  },
  {
   "cell_type": "code",
   "execution_count": 30,
   "metadata": {},
   "outputs": [
    {
     "name": "stdout",
     "output_type": "stream",
     "text": [
      "CAFFEINE \n",
      "FREE \n",
      "100 \n",
      "NATUA \n",
      "FLAOS \n",
      "9 - \n",
      "9 \n",
      "- - \n",
      "OPANGE \n",
      "ORANGE SODA \n",
      "NATURALLY \n",
      "FLAVORED \n",
      "75FLOZ (222 2ml) \n"
     ]
    }
   ],
   "source": [
    "from doctr.models import ocr_predictor\n",
    "from doctr.io import DocumentFile\n",
    "\n",
    "model = (ocr_predictor(det_arch='db_resnet50', reco_arch='crnn_vgg16_bn', pretrained=True)).cuda()\n",
    "image_path = \"custom-test-images/fanta.webp\"\n",
    "single_img_doc = DocumentFile.from_images(image_path)\n",
    "result = model(single_img_doc)\n",
    "\n",
    "for item in result.export()['pages']:\n",
    "    for block in item['blocks']:\n",
    "        for line in block['lines']:\n",
    "            for word in line['words']:\n",
    "                print(word['value'], end=\" \")\n",
    "            print()"
   ]
  }
 ],
 "metadata": {
  "kernelspec": {
   "display_name": "Python 3",
   "language": "python",
   "name": "python3"
  },
  "language_info": {
   "codemirror_mode": {
    "name": "ipython",
    "version": 3
   },
   "file_extension": ".py",
   "mimetype": "text/x-python",
   "name": "python",
   "nbconvert_exporter": "python",
   "pygments_lexer": "ipython3",
   "version": "3.12.0"
  }
 },
 "nbformat": 4,
 "nbformat_minor": 2
}
