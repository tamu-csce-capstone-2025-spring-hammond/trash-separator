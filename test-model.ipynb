{
 "cells": [
  {
   "cell_type": "code",
   "execution_count": null,
   "metadata": {},
   "outputs": [],
   "source": [
    "# testing pretrained model\n",
    "# %pip install torch torchvision matplotlib\n",
    "# %pip install lime\n",
    "# %pip install opencv-python"
   ]
  },
  {
   "cell_type": "code",
   "execution_count": 1,
   "metadata": {},
   "outputs": [],
   "source": [
    "import torch\n",
    "import torchvision\n",
    "import torchvision.transforms as transforms\n",
    "import torch.nn as nn\n",
    "import torch.optim as optim\n",
    "from torchvision import models, datasets\n",
    "from torchvision.models import resnet50\n",
    "from torch.utils.data import random_split, DataLoader, Subset\n",
    "import matplotlib.pyplot as plt\n",
    "from sklearn.metrics import f1_score\n",
    "from sklearn.model_selection import StratifiedShuffleSplit\n",
    "import numpy as np\n",
    "import torchvision.transforms.functional as F\n",
    "import cv2\n",
    "import random\n",
    "import os\n",
    "from PIL import Image"
   ]
  },
  {
   "cell_type": "code",
   "execution_count": 2,
   "metadata": {},
   "outputs": [
    {
     "name": "stdout",
     "output_type": "stream",
     "text": [
      "Classes: ['battery', 'cardboard', 'compost', 'glass', 'metal', 'paper', 'plastic', 'syringe', 'trash']\n"
     ]
    }
   ],
   "source": [
    "class EdgeEnhancementTransform:\n",
    "    def __call__(self, img):\n",
    "        img = np.array(F.to_grayscale(img))  # Convert to grayscale\n",
    "        img = cv2.GaussianBlur(img, (3, 3), 0)  # Reduce noise\n",
    "        edges = cv2.Laplacian(img, cv2.CV_64F)  # Edge detection\n",
    "        edges = np.clip((edges - edges.min()) / (edges.max() - edges.min()) * 255, 0, 255).astype(np.uint8)\n",
    "        edges = Image.fromarray(edges).convert('RGB')  # Convert back to PIL Image\n",
    "        return edges\n",
    "\n",
    "# image transformations\n",
    "transform = transforms.Compose([\n",
    "    transforms.Resize((224, 224)),\n",
    "    transforms.RandomApply([EdgeEnhancementTransform()], p=0.5),  # Apply edge emphasis randomly\n",
    "    transforms.RandomHorizontalFlip(),\n",
    "    transforms.RandomRotation(10),\n",
    "    transforms.ToTensor(),\n",
    "    transforms.Normalize(mean=[0.5, 0.5, 0.5], std=[0.5, 0.5, 0.5])  # Adjusted normalization\n",
    "])\n",
    "\n",
    "# load the datasets\n",
    "dataset_path = './dataset'\n",
    "full_dataset = datasets.ImageFolder(root=dataset_path, transform=transform)\n",
    "class_names = full_dataset.classes\n",
    "print(f'Classes: {class_names}')"
   ]
  },
  {
   "cell_type": "code",
   "execution_count": 3,
   "metadata": {},
   "outputs": [
    {
     "name": "stdout",
     "output_type": "stream",
     "text": [
      "Number of training samples: 3410\n",
      "Number of testing samples: 853\n"
     ]
    }
   ],
   "source": [
    "# split dataset into train and test\n",
    "# train_size = int(0.8 * len(full_dataset))\n",
    "# test_size = len(full_dataset) - train_size\n",
    "# train_dataset, test_dataset = random_split(full_dataset, [train_size, test_size])\n",
    "\n",
    "labels = [label for _, label in full_dataset]\n",
    "labels = np.array(labels)\n",
    "splitter = StratifiedShuffleSplit(n_splits=1, test_size=0.2, random_state=42)\n",
    "for train_idx, test_idx in splitter.split(np.zeros(len(labels)), labels):\n",
    "    train_dataset = Subset(full_dataset, train_idx)\n",
    "    test_dataset = Subset(full_dataset, test_idx)\n",
    "\n",
    "print(f'Number of training samples: {len(train_dataset)}')\n",
    "print(f'Number of testing samples: {len(test_dataset)}')"
   ]
  },
  {
   "cell_type": "code",
   "execution_count": 4,
   "metadata": {},
   "outputs": [],
   "source": [
    "# data loaders\n",
    "batch_size = 32\n",
    "train_loader = DataLoader(train_dataset, batch_size=batch_size, shuffle=True)\n",
    "test_loader = DataLoader(test_dataset, batch_size=batch_size, shuffle=False)"
   ]
  },
  {
   "cell_type": "code",
   "execution_count": 5,
   "metadata": {},
   "outputs": [
    {
     "name": "stdout",
     "output_type": "stream",
     "text": [
      "cuda\n"
     ]
    }
   ],
   "source": [
    "# loading ResNet50 (pretrained model for transfer learning)\n",
    "model = models.resnet50(weights=\"DEFAULT\")\n",
    "for param in model.parameters():\n",
    "    param.requires_grad = False\n",
    "\n",
    "num_classes = len(class_names)\n",
    "model.fc = nn.Linear(model.fc.in_features, num_classes)\n",
    "device = torch.device(\"cuda\" if torch.cuda.is_available() else \"cpu\")\n",
    "model = model.to(device)\n",
    "print(device)"
   ]
  },
  {
   "cell_type": "code",
   "execution_count": 6,
   "metadata": {},
   "outputs": [],
   "source": [
    "# loss function and optimizer\n",
    "criterion = nn.CrossEntropyLoss()\n",
    "optimizer = optim.Adam(model.fc.parameters(), lr = 0.001)"
   ]
  },
  {
   "cell_type": "code",
   "execution_count": 7,
   "metadata": {},
   "outputs": [
    {
     "name": "stdout",
     "output_type": "stream",
     "text": [
      "Training started...\n",
      "Epoch 1/50, Loss: 1.5401\n",
      "Epoch 2/50, Loss: 1.0931\n",
      "Epoch 3/50, Loss: 0.9531\n",
      "Epoch 4/50, Loss: 0.8694\n",
      "Epoch 5/50, Loss: 0.8239\n",
      "Epoch 6/50, Loss: 0.7639\n",
      "Epoch 7/50, Loss: 0.7455\n",
      "Epoch 8/50, Loss: 0.7082\n",
      "Epoch 9/50, Loss: 0.6955\n",
      "Epoch 10/50, Loss: 0.6775\n",
      "Epoch 11/50, Loss: 0.6623\n",
      "Epoch 12/50, Loss: 0.6554\n",
      "Epoch 13/50, Loss: 0.6244\n",
      "Epoch 14/50, Loss: 0.6060\n",
      "Epoch 15/50, Loss: 0.5994\n",
      "Epoch 16/50, Loss: 0.6085\n",
      "Epoch 17/50, Loss: 0.5671\n",
      "Epoch 18/50, Loss: 0.5633\n",
      "Epoch 19/50, Loss: 0.5675\n",
      "Epoch 20/50, Loss: 0.5556\n",
      "Epoch 21/50, Loss: 0.5590\n",
      "Epoch 22/50, Loss: 0.5559\n",
      "Epoch 23/50, Loss: 0.5348\n",
      "Epoch 24/50, Loss: 0.5415\n",
      "Epoch 25/50, Loss: 0.5263\n",
      "Epoch 26/50, Loss: 0.5214\n",
      "Epoch 27/50, Loss: 0.5131\n",
      "Epoch 28/50, Loss: 0.5061\n",
      "Epoch 29/50, Loss: 0.4898\n",
      "Epoch 30/50, Loss: 0.5016\n",
      "Epoch 31/50, Loss: 0.4881\n",
      "Epoch 32/50, Loss: 0.4997\n",
      "Epoch 33/50, Loss: 0.4925\n",
      "Epoch 34/50, Loss: 0.4892\n",
      "Epoch 35/50, Loss: 0.4752\n",
      "Epoch 36/50, Loss: 0.4822\n",
      "Epoch 37/50, Loss: 0.4707\n",
      "Epoch 38/50, Loss: 0.4655\n",
      "Epoch 39/50, Loss: 0.4944\n",
      "Epoch 40/50, Loss: 0.4540\n",
      "Epoch 41/50, Loss: 0.4655\n",
      "Epoch 42/50, Loss: 0.4728\n",
      "Epoch 43/50, Loss: 0.4629\n",
      "Epoch 44/50, Loss: 0.4472\n",
      "Epoch 45/50, Loss: 0.4725\n",
      "Epoch 46/50, Loss: 0.4442\n",
      "Epoch 47/50, Loss: 0.4494\n",
      "Epoch 48/50, Loss: 0.4450\n",
      "Epoch 49/50, Loss: 0.4450\n",
      "Epoch 50/50, Loss: 0.4619\n",
      "Training complete.\n"
     ]
    }
   ],
   "source": [
    "# Training loop\n",
    "epochs = 50\n",
    "print(\"Training started...\")\n",
    "\n",
    "loss_trace = []\n",
    "for epoch in range(epochs):\n",
    "    model.train()\n",
    "    running_loss = 0.0\n",
    "    \n",
    "    for images, labels in train_loader:\n",
    "        images, labels = images.to(device), labels.to(device)\n",
    "        \n",
    "        optimizer.zero_grad()\n",
    "        outputs = model(images)\n",
    "        loss = criterion(outputs, labels)\n",
    "        loss.backward()\n",
    "        optimizer.step()\n",
    "        \n",
    "        running_loss += loss.item()\n",
    "    \n",
    "    print(f\"Epoch {epoch+1}/{epochs}, Loss: {running_loss/len(train_loader):.4f}\")\n",
    "    loss_trace.append(running_loss/len(train_loader))\n",
    "\n",
    "print(\"Training complete.\")"
   ]
  },
  {
   "cell_type": "code",
   "execution_count": 8,
   "metadata": {},
   "outputs": [
    {
     "data": {
      "text/plain": [
       "[<matplotlib.lines.Line2D at 0x28361822490>]"
      ]
     },
     "execution_count": 8,
     "metadata": {},
     "output_type": "execute_result"
    },
    {
     "data": {
      "image/png": "[encoded data removed]",
      "text/plain": [
       "<Figure size 640x480 with 1 Axes>"
      ]
     },
     "metadata": {},
     "output_type": "display_data"
    }
   ],
   "source": [
    "plt.plot(loss_trace)"
   ]
  },
  {
   "cell_type": "code",
   "execution_count": 9,
   "metadata": {},
   "outputs": [
    {
     "name": "stdout",
     "output_type": "stream",
     "text": [
      "Testing Accuracy: 77.61%\n",
      "F1-Score: 0.7699\n",
      "Model saved.\n"
     ]
    }
   ],
   "source": [
    "# Validation\n",
    "model.eval()\n",
    "correct = 0\n",
    "total = 0\n",
    "true_labels = []\n",
    "predicted_labels = []\n",
    "with torch.no_grad():\n",
    "    for images, labels in test_loader:\n",
    "        images, labels = images.to(device), labels.to(device)\n",
    "        outputs = model(images)\n",
    "        _, predicted = torch.max(outputs, 1)\n",
    "\n",
    "        total += labels.size(0)\n",
    "        correct += (predicted == labels).sum().item()\n",
    "\n",
    "        true_labels.extend(labels.cpu().numpy())\n",
    "        predicted_labels.extend(predicted.cpu().numpy())\n",
    "\n",
    "accuracy = 100 * correct / total\n",
    "print(f'Testing Accuracy: {accuracy:.2f}%')\n",
    "\n",
    "# Calculate F1-Score (Macro for Multi-class)\n",
    "fscore = f1_score(true_labels, predicted_labels, average='macro')\n",
    "print(f'F1-Score: {fscore:.4f}')\n",
    "\n",
    "# Save model\n",
    "torch.save(model.state_dict(), 'resnet50_model-nobg.pth')\n",
    "print(\"Model saved.\")"
   ]
  }
 ],
 "metadata": {
  "kernelspec": {
   "display_name": "Python 3",
   "language": "python",
   "name": "python3"
  },
  "language_info": {
   "codemirror_mode": {
    "name": "ipython",
    "version": 3
   },
   "file_extension": ".py",
   "mimetype": "text/x-python",
   "name": "python",
   "nbconvert_exporter": "python",
   "pygments_lexer": "ipython3",
   "version": "3.13.2"
  }
 },
 "nbformat": 4,
 "nbformat_minor": 2
}
