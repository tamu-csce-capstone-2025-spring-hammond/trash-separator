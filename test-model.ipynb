{
 "cells": [
  {
   "cell_type": "code",
   "execution_count": null,
   "metadata": {},
   "outputs": [],
   "source": [
    "# testing pretrained model\n",
    "# %pip install torch torchvision matplotlib\n",
    "# %pip install lime\n",
    "# %pip install opencv-python"
   ]
  },
  {
   "cell_type": "code",
   "execution_count": 5,
   "metadata": {},
   "outputs": [],
   "source": [
    "import torch\n",
    "import torchvision\n",
    "import torchvision.transforms as transforms\n",
    "import torch.nn as nn\n",
    "import torch.optim as optim\n",
    "from torchvision import models, datasets\n",
    "from torch.utils.data import random_split, DataLoader, Subset\n",
    "import matplotlib.pyplot as plt\n",
    "from sklearn.metrics import f1_score\n",
    "from sklearn.model_selection import StratifiedShuffleSplit, StratifiedKFold\n",
    "import numpy as np\n",
    "import torchvision.transforms.functional as F\n",
    "import cv2\n",
    "import random\n",
    "import os"
   ]
  },
  {
   "cell_type": "code",
   "execution_count": 6,
   "metadata": {},
   "outputs": [
    {
     "name": "stdout",
     "output_type": "stream",
     "text": [
      "Classes: ['battery', 'cardboard', 'glass', 'metal', 'paper', 'plastic', 'syringe', 'trash']\n"
     ]
    }
   ],
   "source": [
    "class EdgeEnhancementTransform:\n",
    "    def __call__(self, img):\n",
    "        img = np.array(F.to_grayscale(img))  # Convert to grayscale\n",
    "        img = cv2.GaussianBlur(img, (3, 3), 0)  # Reduce noise\n",
    "        edges = cv2.Laplacian(img, cv2.CV_64F)  # Edge detection\n",
    "        edges = np.clip((edges - edges.min()) / (edges.max() - edges.min()) * 255, 0, 255).astype(np.uint8)\n",
    "        return F.to_tensor(np.stack([edges] * 3, axis=-1))  # Stack to 3 channels\n",
    "\n",
    "# image transformations\n",
    "transform = transforms.Compose([\n",
    "    transforms.Resize((224, 224)),\n",
    "    transforms.RandomApply([EdgeEnhancementTransform()], p=0.5),  # Apply edge emphasis randomly\n",
    "    transforms.RandomHorizontalFlip(),\n",
    "    transforms.RandomRotation(10),\n",
    "    transforms.ToTensor(),\n",
    "    transforms.Normalize(mean=[0.5, 0.5, 0.5], std=[0.5, 0.5, 0.5])  # Adjusted normalization\n",
    "])\n",
    "# load the datasets\n",
    "dataset_path = './dataset'\n",
    "full_dataset = datasets.ImageFolder(root=dataset_path, transform=transform)\n",
    "class_names = full_dataset.classes\n",
    "print(f'Classes: {class_names}')"
   ]
  },
  {
   "cell_type": "code",
   "execution_count": 3,
   "metadata": {},
   "outputs": [
    {
     "name": "stderr",
     "output_type": "stream",
     "text": [
      "c:\\Users\\yisye\\AppData\\Local\\Programs\\Python\\Python313\\Lib\\site-packages\\PIL\\Image.py:1045: UserWarning: Palette images with Transparency expressed in bytes should be converted to RGBA images\n",
      "  warnings.warn(\n"
     ]
    },
    {
     "name": "stdout",
     "output_type": "stream",
     "text": [
      "Number of training samples: 2388\n",
      "Number of testing samples: 598\n"
     ]
    }
   ],
   "source": [
    "# split dataset into train and test\n",
    "# train_size = int(0.8 * len(full_dataset))\n",
    "# test_size = len(full_dataset) - train_size\n",
    "# train_dataset, test_dataset = random_split(full_dataset, [train_size, test_size])\n",
    "\n",
    "labels = [label for _, label in full_dataset]\n",
    "labels = np.array(labels)\n",
    "splitter = StratifiedShuffleSplit(n_splits=1, test_size=0.2, random_state=42)\n",
    "for train_idx, test_idx in splitter.split(np.zeros(len(labels)), labels):\n",
    "    train_dataset = Subset(full_dataset, train_idx)\n",
    "    test_dataset = Subset(full_dataset, test_idx)\n",
    "\n",
    "print(f'Number of training samples: {len(train_dataset)}')\n",
    "print(f'Number of testing samples: {len(test_dataset)}')"
   ]
  },
  {
   "cell_type": "code",
   "execution_count": 4,
   "metadata": {},
   "outputs": [],
   "source": [
    "# data loaders\n",
    "batch_size = 32\n",
    "train_loader = DataLoader(train_dataset, batch_size=batch_size, shuffle=True)\n",
    "test_loader = DataLoader(test_dataset, batch_size=batch_size, shuffle=False)"
   ]
  },
  {
   "cell_type": "code",
   "execution_count": 5,
   "metadata": {},
   "outputs": [
    {
     "name": "stdout",
     "output_type": "stream",
     "text": [
      "cuda\n"
     ]
    }
   ],
   "source": [
    "# loading ResNet50 (pretrained model for transfer learning)\n",
    "model = models.resnet50(weights=models.ResNet50_Weights.IMAGENET1K_V2)\n",
    "for param in model.layer4.parameters():\n",
    "    param.requires_grad = True\n",
    "\n",
    "num_classes = len(class_names)\n",
    "model.fc = nn.Sequential(\n",
    "    nn.Dropout(p=0.2),\n",
    "    nn.Linear(model.fc.in_features, num_classes)\n",
    ") \n",
    "device = torch.device(\"cuda\" if torch.cuda.is_available() else \"cpu\")\n",
    "model = model.to(device)\n",
    "print(device)"
   ]
  },
  {
   "cell_type": "code",
   "execution_count": 6,
   "metadata": {},
   "outputs": [],
   "source": [
    "# loss function and optimizer\n",
    "criterion = nn.CrossEntropyLoss()\n",
    "optimizer = optim.Adam(model.parameters(), lr = 0.001)\n",
    "# optimizer = optim.Adam(model.fc.parameters(), lr = 0.001)"
   ]
  },
  {
   "cell_type": "code",
   "execution_count": 7,
   "metadata": {},
   "outputs": [
    {
     "name": "stdout",
     "output_type": "stream",
     "text": [
      "Training started...\n",
      "18:02:10.956360 Epoch 1/50, Loss: 0.9474\n",
      "18:02:54.467363 Epoch 2/50, Loss: 0.6380\n",
      "18:03:44.191747 Epoch 3/50, Loss: 0.4569\n",
      "18:04:28.043814 Epoch 4/50, Loss: 0.2809\n",
      "18:05:10.489095 Epoch 5/50, Loss: 0.2955\n",
      "18:05:54.007685 Epoch 6/50, Loss: 0.2672\n",
      "18:06:36.766634 Epoch 7/50, Loss: 0.2061\n",
      "18:07:20.612774 Epoch 8/50, Loss: 0.1712\n",
      "18:08:04.803268 Epoch 9/50, Loss: 0.1780\n",
      "18:08:48.707009 Epoch 10/50, Loss: 0.1427\n",
      "18:09:31.952172 Epoch 11/50, Loss: 0.1355\n",
      "18:10:18.225690 Epoch 12/50, Loss: 0.1631\n",
      "18:11:05.714850 Epoch 13/50, Loss: 0.1040\n",
      "18:11:43.827081 Epoch 14/50, Loss: 0.1021\n",
      "18:12:21.154994 Epoch 15/50, Loss: 0.0881\n",
      "18:12:58.564967 Epoch 16/50, Loss: 0.0726\n",
      "18:13:53.466400 Epoch 17/50, Loss: 0.0860\n",
      "18:14:35.385071 Epoch 18/50, Loss: 0.1103\n",
      "18:15:13.962927 Epoch 19/50, Loss: 0.1339\n",
      "18:15:56.492067 Epoch 20/50, Loss: 0.0638\n",
      "18:16:52.259521 Epoch 21/50, Loss: 0.0663\n",
      "18:17:36.026158 Epoch 22/50, Loss: 0.0544\n",
      "18:18:14.687437 Epoch 23/50, Loss: 0.0796\n",
      "18:18:56.548595 Epoch 24/50, Loss: 0.0489\n",
      "18:19:40.251404 Epoch 25/50, Loss: 0.0534\n",
      "18:20:23.865748 Epoch 26/50, Loss: 0.0454\n",
      "18:21:05.999338 Epoch 27/50, Loss: 0.0752\n",
      "18:21:47.911375 Epoch 28/50, Loss: 0.1203\n",
      "18:22:30.861165 Epoch 29/50, Loss: 0.0861\n",
      "18:23:14.167331 Epoch 30/50, Loss: 0.0701\n",
      "18:23:57.251172 Epoch 31/50, Loss: 0.0577\n",
      "18:24:41.154012 Epoch 32/50, Loss: 0.0604\n",
      "18:25:23.855359 Epoch 33/50, Loss: 0.0760\n",
      "18:26:07.385650 Epoch 34/50, Loss: 0.0844\n",
      "18:26:50.271231 Epoch 35/50, Loss: 0.1013\n",
      "18:27:33.991062 Epoch 36/50, Loss: 0.0638\n",
      "18:28:16.739506 Epoch 37/50, Loss: 0.0454\n",
      "18:28:59.411666 Epoch 38/50, Loss: 0.0382\n",
      "18:29:42.264565 Epoch 39/50, Loss: 0.0335\n",
      "18:30:25.397615 Epoch 40/50, Loss: 0.0249\n",
      "18:31:07.812358 Epoch 41/50, Loss: 0.0284\n",
      "18:31:49.692165 Epoch 42/50, Loss: 0.0469\n",
      "18:32:31.868816 Epoch 43/50, Loss: 0.0707\n",
      "18:33:15.209086 Epoch 44/50, Loss: 0.0890\n",
      "18:33:58.678579 Epoch 45/50, Loss: 0.0467\n",
      "18:34:41.277925 Epoch 46/50, Loss: 0.0558\n",
      "18:35:23.495204 Epoch 47/50, Loss: 0.0463\n",
      "18:36:05.154202 Epoch 48/50, Loss: 0.0200\n",
      "18:36:47.574701 Epoch 49/50, Loss: 0.0126\n",
      "18:37:31.213274 Epoch 50/50, Loss: 0.0234\n",
      "Training complete.\n"
     ]
    }
   ],
   "source": [
    "# Training loop\n",
    "epochs = 50\n",
    "print(\"Training started...\")\n",
    "\n",
    "loss_train = []\n",
    "for epoch in range(epochs):\n",
    "    model.train()\n",
    "    running_loss = 0.0\n",
    "    epoch_loss = 0.0\n",
    "    \n",
    "    for images, labels in train_loader:\n",
    "        images, labels = images.to(device), labels.to(device)\n",
    "        \n",
    "        optimizer.zero_grad()\n",
    "        outputs = model(images)\n",
    "        loss = criterion(outputs, labels)\n",
    "        loss.backward()\n",
    "        optimizer.step()\n",
    "        \n",
    "        running_loss += loss.item()\n",
    "        epoch_loss = loss.item()\n",
    "    loss_train.append(epoch_loss)\n",
    "    \n",
    "    print(f\"{datetime.datetime.now().time()} Epoch {epoch+1}/{epochs}, Loss: {running_loss/len(train_loader):.4f}\")\n",
    "\n",
    "print(\"Training complete.\")"
   ]
  },
  {
   "cell_type": "code",
   "execution_count": 8,
   "metadata": {},
   "outputs": [
    {
     "data": {
      "text/plain": [
       "Text(0.5, 1.0, 'Training Loss')"
      ]
     },
     "execution_count": 8,
     "metadata": {},
     "output_type": "execute_result"
    },
    {
     "data": {
      "image/png": "[encoded data removed]",
      "text/plain": [
       "<Figure size 640x480 with 1 Axes>"
      ]
     },
     "metadata": {},
     "output_type": "display_data"
    }
   ],
   "source": [
    "plt.plot(loss_train)\n",
    "plt.xlabel('Epochs')\n",
    "plt.ylabel('Loss')\n",
    "plt.title('Training Loss')"
   ]
  },
  {
   "cell_type": "code",
   "execution_count": 8,
   "metadata": {},
   "outputs": [],
   "source": [
    "# # Prepare Stratified K-Fold Cross-Validation\n",
    "# K = 5  # Number of folds\n",
    "# skf = StratifiedKFold(n_splits=K, shuffle=True, random_state=42)\n",
    "# indices = np.arange(len(full_dataset))\n",
    "# targets = np.array([full_dataset.targets[i] for i in range(len(full_dataset))])\n",
    "\n",
    "# # Training parameaters\n",
    "# batch_size = 32\n",
    "# epochs = 5  # Adjust based on training time\n",
    "\n",
    "# # Store performance metrics\n",
    "# fold_accuracies = []\n",
    "# fold_f1_scores = []\n",
    "\n",
    "# # K-Fold Cross-Validation loop\n",
    "# for fold, (train_idx, val_idx) in enumerate(skf.split(indices, targets)):\n",
    "#     print(f\"\\nFold {fold + 1}/{K}\")\n",
    "\n",
    "#     # Create train and validation subsets\n",
    "#     train_subset = Subset(full_dataset, train_idx)\n",
    "#     val_subset = Subset(full_dataset, val_idx)\n",
    "\n",
    "#     # Create data loaders\n",
    "#     train_loader = DataLoader(train_subset, batch_size=batch_size, shuffle=True)\n",
    "#     val_loader = DataLoader(val_subset, batch_size=batch_size, shuffle=False)\n",
    "\n",
    "#     # Load ResNet50 model\n",
    "#     model = models.resnet50(pretrained=True)\n",
    "#     for param in model.parameters():\n",
    "#         param.requires_grad = False  # Freeze pretrained layers\n",
    "\n",
    "#     # Modify fully connected layer with dropout\n",
    "#     model.fc = nn.Sequential(\n",
    "#         nn.Dropout(p=0.1),\n",
    "#         nn.Linear(model.fc.in_features, num_classes)\n",
    "#     )\n",
    "\n",
    "#     model = model.to(device)\n",
    "\n",
    "#     # Loss function and optimizer\n",
    "#     criterion = nn.CrossEntropyLoss()\n",
    "#     optimizer = optim.Adam(model.fc.parameters(), lr=0.001)\n",
    "\n",
    "#     # Training loop\n",
    "#     for epoch in range(epochs):\n",
    "#         model.train()\n",
    "#         running_loss = 0.0\n",
    "#         for images, labels in train_loader:\n",
    "#             images, labels = images.to(device), labels.to(device)\n",
    "\n",
    "#             optimizer.zero_grad()\n",
    "#             outputs = model(images)\n",
    "#             loss = criterion(outputs, labels)\n",
    "#             loss.backward()\n",
    "#             optimizer.step()\n",
    "\n",
    "#             running_loss += loss.item()\n",
    "\n",
    "#         print(f\"Epoch {epoch+1}/{epochs}, Loss: {running_loss/len(train_loader):.4f}\")\n",
    "\n",
    "#     # Validation loop\n",
    "#     model.eval()\n",
    "#     correct, total = 0, 0\n",
    "#     true_labels, predicted_labels = [], []\n",
    "\n",
    "#     with torch.no_grad():\n",
    "#         for images, labels in val_loader:\n",
    "#             images, labels = images.to(device), labels.to(device)\n",
    "#             outputs = model(images)\n",
    "#             _, predicted = torch.max(outputs, 1)\n",
    "\n",
    "#             total += labels.size(0)\n",
    "#             correct += (predicted == labels).sum().item()\n",
    "\n",
    "#             true_labels.extend(labels.cpu().numpy())\n",
    "#             predicted_labels.extend(predicted.cpu().numpy())\n",
    "\n",
    "#     # Calculate metrics\n",
    "#     accuracy = 100 * correct / total\n",
    "#     fscore = f1_score(true_labels, predicted_labels, average='macro')\n",
    "\n",
    "#     fold_accuracies.append(accuracy)\n",
    "#     fold_f1_scores.append(fscore)\n",
    "\n",
    "#     print(f\"Fold {fold + 1} Accuracy: {accuracy:.2f}%\")\n",
    "#     print(f\"Fold {fold + 1} F1-Score: {fscore:.4f}\")\n",
    "\n",
    "# # Print final K-Fold results\n",
    "# print(\"\\nFinal Cross-Validation Results:\")\n",
    "# print(f\"Average Accuracy: {np.mean(fold_accuracies):.2f}% ± {np.std(fold_accuracies):.2f}\")\n",
    "# print(f\"Average F1-Score: {np.mean(fold_f1_scores):.4f} ± {np.std(fold_f1_scores):.4f}\")"
   ]
  },
  {
   "cell_type": "code",
   "execution_count": 9,
   "metadata": {},
   "outputs": [
    {
     "name": "stderr",
     "output_type": "stream",
     "text": [
      "c:\\Users\\yisye\\AppData\\Local\\Programs\\Python\\Python313\\Lib\\site-packages\\PIL\\Image.py:1045: UserWarning: Palette images with Transparency expressed in bytes should be converted to RGBA images\n",
      "  warnings.warn(\n"
     ]
    },
    {
     "name": "stdout",
     "output_type": "stream",
     "text": [
      "Testing Accuracy: 91.30%\n",
      "F1-Score: 0.9130\n",
      "Model saved.\n"
     ]
    }
   ],
   "source": [
    "# Validation\n",
    "model.eval()\n",
    "correct = 0\n",
    "total = 0\n",
    "true_labels = []\n",
    "predicted_labels = []\n",
    "with torch.no_grad():\n",
    "    for images, labels in test_loader:\n",
    "        images, labels = images.to(device), labels.to(device)\n",
    "        outputs = model(images)\n",
    "        _, predicted = torch.max(outputs, 1)\n",
    "\n",
    "        total += labels.size(0)\n",
    "        correct += (predicted == labels).sum().item()\n",
    "\n",
    "        true_labels.extend(labels.cpu().numpy())\n",
    "        predicted_labels.extend(predicted.cpu().numpy())\n",
    "\n",
    "accuracy = 100 * correct / total\n",
    "print(f'Testing Accuracy: {accuracy:.2f}%')\n",
    "\n",
    "# Calculate F1-Score (Macro for Multi-class)\n",
    "fscore = f1_score(true_labels, predicted_labels, average='micro')\n",
    "print(f'F1-Score: {fscore:.4f}')\n",
    "\n",
    "# Save model\n",
    "torch.save(model.state_dict(), 'resnet50_model6.pth')\n",
    "print(\"Model saved.\")"
   ]
  },
  {
   "cell_type": "code",
   "execution_count": 11,
   "metadata": {},
   "outputs": [
    {
     "ename": "ImportError",
     "evalue": "cannot import name 'interp' from 'scipy' (c:\\Users\\yisye\\AppData\\Local\\Programs\\Python\\Python313\\Lib\\site-packages\\scipy\\__init__.py)",
     "output_type": "error",
     "traceback": [
      "\u001b[31m---------------------------------------------------------------------------\u001b[39m",
      "\u001b[31mImportError\u001b[39m                               Traceback (most recent call last)",
      "\u001b[36mCell\u001b[39m\u001b[36m \u001b[39m\u001b[32mIn[11]\u001b[39m\u001b[32m, line 1\u001b[39m\n\u001b[32m----> \u001b[39m\u001b[32m1\u001b[39m \u001b[38;5;28;01mimport\u001b[39;00m\u001b[38;5;250m \u001b[39m\u001b[34;01mscikitplot\u001b[39;00m\u001b[38;5;250m \u001b[39m\u001b[38;5;28;01mas\u001b[39;00m\u001b[38;5;250m \u001b[39m\u001b[34;01mskplt\u001b[39;00m\n\u001b[32m      2\u001b[39m \u001b[38;5;28;01mfrom\u001b[39;00m\u001b[38;5;250m \u001b[39m\u001b[34;01msklearn\u001b[39;00m\u001b[34;01m.\u001b[39;00m\u001b[34;01mmetrics\u001b[39;00m\u001b[38;5;250m \u001b[39m\u001b[38;5;28;01mimport\u001b[39;00m classification_report\n\u001b[32m      4\u001b[39m skplt.metrics.plot_confusion_matrix(true_labels, predicted_labels)\n",
      "\u001b[36mFile \u001b[39m\u001b[32mc:\\Users\\yisye\\AppData\\Local\\Programs\\Python\\Python313\\Lib\\site-packages\\scikitplot\\__init__.py:2\u001b[39m\n\u001b[32m      1\u001b[39m \u001b[38;5;28;01mfrom\u001b[39;00m\u001b[38;5;250m \u001b[39m\u001b[34;01m__future__\u001b[39;00m\u001b[38;5;250m \u001b[39m\u001b[38;5;28;01mimport\u001b[39;00m absolute_import, division, print_function, unicode_literals\n\u001b[32m----> \u001b[39m\u001b[32m2\u001b[39m \u001b[38;5;28;01mfrom\u001b[39;00m\u001b[38;5;250m \u001b[39m\u001b[34;01m.\u001b[39;00m\u001b[38;5;250m \u001b[39m\u001b[38;5;28;01mimport\u001b[39;00m metrics, cluster, decomposition, estimators\n\u001b[32m      3\u001b[39m __version__ = \u001b[33m'\u001b[39m\u001b[33m0.3.7\u001b[39m\u001b[33m'\u001b[39m\n\u001b[32m      6\u001b[39m \u001b[38;5;28;01mfrom\u001b[39;00m\u001b[38;5;250m \u001b[39m\u001b[34;01mscikitplot\u001b[39;00m\u001b[34;01m.\u001b[39;00m\u001b[34;01mclassifiers\u001b[39;00m\u001b[38;5;250m \u001b[39m\u001b[38;5;28;01mimport\u001b[39;00m classifier_factory\n",
      "\u001b[36mFile \u001b[39m\u001b[32mc:\\Users\\yisye\\AppData\\Local\\Programs\\Python\\Python313\\Lib\\site-packages\\scikitplot\\metrics.py:27\u001b[39m\n\u001b[32m     24\u001b[39m \u001b[38;5;28;01mfrom\u001b[39;00m\u001b[38;5;250m \u001b[39m\u001b[34;01msklearn\u001b[39;00m\u001b[34;01m.\u001b[39;00m\u001b[34;01mcalibration\u001b[39;00m\u001b[38;5;250m \u001b[39m\u001b[38;5;28;01mimport\u001b[39;00m calibration_curve\n\u001b[32m     25\u001b[39m \u001b[38;5;28;01mfrom\u001b[39;00m\u001b[38;5;250m \u001b[39m\u001b[34;01msklearn\u001b[39;00m\u001b[34;01m.\u001b[39;00m\u001b[34;01mutils\u001b[39;00m\u001b[38;5;250m \u001b[39m\u001b[38;5;28;01mimport\u001b[39;00m deprecated\n\u001b[32m---> \u001b[39m\u001b[32m27\u001b[39m \u001b[38;5;28;01mfrom\u001b[39;00m\u001b[38;5;250m \u001b[39m\u001b[34;01mscipy\u001b[39;00m\u001b[38;5;250m \u001b[39m\u001b[38;5;28;01mimport\u001b[39;00m interp\n\u001b[32m     29\u001b[39m \u001b[38;5;28;01mfrom\u001b[39;00m\u001b[38;5;250m \u001b[39m\u001b[34;01mscikitplot\u001b[39;00m\u001b[34;01m.\u001b[39;00m\u001b[34;01mhelpers\u001b[39;00m\u001b[38;5;250m \u001b[39m\u001b[38;5;28;01mimport\u001b[39;00m binary_ks_curve, validate_labels\n\u001b[32m     30\u001b[39m \u001b[38;5;28;01mfrom\u001b[39;00m\u001b[38;5;250m \u001b[39m\u001b[34;01mscikitplot\u001b[39;00m\u001b[34;01m.\u001b[39;00m\u001b[34;01mhelpers\u001b[39;00m\u001b[38;5;250m \u001b[39m\u001b[38;5;28;01mimport\u001b[39;00m cumulative_gain_curve\n",
      "\u001b[31mImportError\u001b[39m: cannot import name 'interp' from 'scipy' (c:\\Users\\yisye\\AppData\\Local\\Programs\\Python\\Python313\\Lib\\site-packages\\scipy\\__init__.py)"
     ]
    }
   ],
   "source": [
    "import scikitplot as skplt\n",
    "from sklearn.metrics import classification_report\n",
    "\n",
    "skplt.metrics.plot_confusion_matrix(true_labels, predicted_labels)\n",
    "print(classification_report(true_labels, predicted_labels, target_names=['battery', 'cardboard', 'glass', 'metal', 'paper', 'plastic', 'syringe', 'trash']))"
   ]
  },
  {
   "cell_type": "code",
   "execution_count": 12,
   "metadata": {},
   "outputs": [
    {
     "data": {
      "image/png": "[encoded data removed]",
      "text/plain": [
       "<Figure size 1000x700 with 2 Axes>"
      ]
     },
     "metadata": {},
     "output_type": "display_data"
    },
    {
     "name": "stdout",
     "output_type": "stream",
     "text": [
      "              precision    recall  f1-score   support\n",
      "\n",
      "     battery       0.97      0.90      0.93        71\n",
      "   cardboard       0.90      0.98      0.93        81\n",
      "       glass       0.94      0.82      0.88       100\n",
      "       metal       0.88      0.91      0.90        82\n",
      "       paper       0.92      0.96      0.94       119\n",
      "     plastic       0.89      0.92      0.90        97\n",
      "     syringe       0.95      1.00      0.98        21\n",
      "       trash       0.85      0.81      0.83        27\n",
      "\n",
      "    accuracy                           0.91       598\n",
      "   macro avg       0.91      0.91      0.91       598\n",
      "weighted avg       0.91      0.91      0.91       598\n",
      "\n"
     ]
    }
   ],
   "source": [
    "import matplotlib.pyplot as plt\n",
    "import seaborn as sns\n",
    "from sklearn.metrics import confusion_matrix, classification_report\n",
    "\n",
    "# Compute confusion matrix\n",
    "cm = confusion_matrix(true_labels, predicted_labels)\n",
    "\n",
    "# Plot confusion matrix using seaborn\n",
    "plt.figure(figsize=(10, 7))\n",
    "sns.heatmap(cm, annot=True, fmt='d', cmap='Blues', xticklabels=['battery', 'cardboard', 'glass', 'metal', 'paper', 'plastic', 'syringe', 'trash'], yticklabels=['battery', 'cardboard', 'glass', 'metal', 'paper', 'plastic', 'syringe', 'trash'])\n",
    "plt.xlabel('Predicted')\n",
    "plt.ylabel('True')\n",
    "plt.title('Confusion Matrix')\n",
    "plt.show()\n",
    "\n",
    "# Print classification report\n",
    "print(classification_report(true_labels, predicted_labels, target_names=['battery', 'cardboard', 'glass', 'metal', 'paper', 'plastic', 'syringe', 'trash']))"
   ]
  }
 ],
 "metadata": {
  "kernelspec": {
   "display_name": "base",
   "language": "python",
   "name": "python3"
  },
  "language_info": {
   "codemirror_mode": {
    "name": "ipython",
    "version": 3
   },
   "file_extension": ".py",
   "mimetype": "text/x-python",
   "name": "python",
   "nbconvert_exporter": "python",
   "pygments_lexer": "ipython3",
   "version": "3.11.5"
  }
 },
 "nbformat": 4,
 "nbformat_minor": 2
}
