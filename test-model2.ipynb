{
 "cells": [
  {
   "cell_type": "code",
   "execution_count": 1,
   "metadata": {},
   "outputs": [],
   "source": [
    "# testing pretrained model\n",
    "# %pip install torch torchvision matplotlib\n",
    "# %pip install lime"
   ]
  },
  {
   "cell_type": "code",
   "execution_count": 2,
   "metadata": {},
   "outputs": [],
   "source": [
    "import torch\n",
    "import torchvision\n",
    "import torchvision.transforms as transforms\n",
    "import torch.nn as nn\n",
    "import torch.optim as optim\n",
    "from torchvision import models, datasets\n",
    "from torchvision.models import resnet50, densenet121\n",
    "from torch.utils.data import random_split, DataLoader, Subset\n",
    "import matplotlib.pyplot as plt\n",
    "from sklearn.metrics import f1_score\n",
    "from sklearn.model_selection import StratifiedShuffleSplit, StratifiedKFold\n",
    "import numpy as np\n",
    "import os"
   ]
  },
  {
   "cell_type": "code",
   "execution_count": 3,
   "metadata": {},
   "outputs": [
    {
     "name": "stdout",
     "output_type": "stream",
     "text": [
      "Classes: ['battery', 'cardboard', 'glass', 'metal', 'paper', 'plastic', 'syringe', 'trash']\n"
     ]
    }
   ],
   "source": [
    "# image transformations\n",
    "transform = transforms.Compose([\n",
    "    transforms.Resize((224, 224)),\n",
    "    transforms.RandomHorizontalFlip(),\n",
    "    transforms.RandomRotation(10),\n",
    "    transforms.ToTensor(),\n",
    "    transforms.Normalize(mean=[0.485, 0.456, 0.406], std=[0.229, 0.224, 0.225])\n",
    "])\n",
    "\n",
    "# load the datasets\n",
    "dataset_path = './dataset'\n",
    "full_dataset = datasets.ImageFolder(root=dataset_path, transform=transform)\n",
    "class_names = full_dataset.classes\n",
    "print(f'Classes: {class_names}')"
   ]
  },
  {
   "cell_type": "code",
   "execution_count": 4,
   "metadata": {},
   "outputs": [
    {
     "name": "stderr",
     "output_type": "stream",
     "text": [
      "c:\\Users\\danym\\AppData\\Local\\Programs\\Python\\Python38\\lib\\site-packages\\PIL\\Image.py:981: UserWarning: Palette images with Transparency expressed in bytes should be converted to RGBA images\n",
      "  warnings.warn(\n"
     ]
    },
    {
     "name": "stdout",
     "output_type": "stream",
     "text": [
      "Number of training samples: 2388\n",
      "Number of testing samples: 598\n"
     ]
    }
   ],
   "source": [
    "# split dataset into train and test\n",
    "# train_size = int(0.8 * len(full_dataset))\n",
    "# test_size = len(full_dataset) - train_size\n",
    "# train_dataset, test_dataset = random_split(full_dataset, [train_size, test_size])\n",
    "\n",
    "labels = [label for _, label in full_dataset]\n",
    "labels = np.array(labels)\n",
    "splitter = StratifiedShuffleSplit(n_splits=1, test_size=0.2, random_state=42)\n",
    "for train_idx, test_idx in splitter.split(np.zeros(len(labels)), labels):\n",
    "    train_dataset = Subset(full_dataset, train_idx)\n",
    "    test_dataset = Subset(full_dataset, test_idx)\n",
    "\n",
    "print(f'Number of training samples: {len(train_dataset)}')\n",
    "print(f'Number of testing samples: {len(test_dataset)}')"
   ]
  },
  {
   "cell_type": "code",
   "execution_count": 5,
   "metadata": {},
   "outputs": [],
   "source": [
    "# data loaders\n",
    "batch_size = 32\n",
    "train_loader = DataLoader(train_dataset, batch_size=batch_size, shuffle=True)\n",
    "test_loader = DataLoader(test_dataset, batch_size=batch_size, shuffle=False)"
   ]
  },
  {
   "cell_type": "code",
   "execution_count": 6,
   "metadata": {},
   "outputs": [
    {
     "name": "stderr",
     "output_type": "stream",
     "text": [
      "c:\\Users\\danym\\AppData\\Local\\Programs\\Python\\Python38\\lib\\site-packages\\torchvision\\models\\_utils.py:208: UserWarning: The parameter 'pretrained' is deprecated since 0.13 and may be removed in the future, please use 'weights' instead.\n",
      "  warnings.warn(\n",
      "c:\\Users\\danym\\AppData\\Local\\Programs\\Python\\Python38\\lib\\site-packages\\torchvision\\models\\_utils.py:223: UserWarning: Arguments other than a weight enum or `None` for 'weights' are deprecated since 0.13 and may be removed in the future. The current behavior is equivalent to passing `weights=DenseNet121_Weights.IMAGENET1K_V1`. You can also use `weights=DenseNet121_Weights.DEFAULT` to get the most up-to-date weights.\n",
      "  warnings.warn(msg)\n",
      "Downloading: \"https://download.pytorch.org/models/densenet121-a639ec97.pth\" to C:\\Users\\danym/.cache\\torch\\hub\\checkpoints\\densenet121-a639ec97.pth\n",
      "100%|██████████| 30.8M/30.8M [00:01<00:00, 24.0MB/s]\n"
     ]
    }
   ],
   "source": [
    "# loading Densenet121 (pretrained model for transfer learning)\n",
    "model = models.densenet121(pretrained=True)\n",
    "\n",
    "for param in model.parameters():\n",
    "    param.requires_grad = False\n",
    "\n",
    "# Unfreeze the last dense block\n",
    "for param in model.features.denseblock4.parameters():\n",
    "    param.requires_grad = True\n",
    "\n",
    "num_classes = len(class_names)\n",
    "model.classifier = nn.Sequential(\n",
    "    nn.Dropout(p=0.2),\n",
    "    nn.Linear(model.classifier.in_features, num_classes)\n",
    ")\n",
    "device = torch.device(\"cuda\" if torch.cuda.is_available() else \"cpu\")\n",
    "model = model.to(device)"
   ]
  },
  {
   "cell_type": "code",
   "execution_count": 7,
   "metadata": {},
   "outputs": [],
   "source": [
    "# loss function and optimizer\n",
    "criterion = nn.CrossEntropyLoss()\n",
    "optimizer = optim.Adam(model.classifier.parameters(), lr=0.001)\n"
   ]
  },
  {
   "cell_type": "code",
<<<<<<< HEAD
   "execution_count": 12,
=======
   "execution_count": 8,
>>>>>>> 9d9edcf8e24cde6cab893279736b78d432b0b035
   "metadata": {},
   "outputs": [
    {
     "name": "stdout",
     "output_type": "stream",
     "text": [
<<<<<<< HEAD
      "Training started...\n"
     ]
    },
    {
     "ename": "KeyboardInterrupt",
     "evalue": "",
     "output_type": "error",
     "traceback": [
      "\u001b[1;31m---------------------------------------------------------------------------\u001b[0m",
      "\u001b[1;31mKeyboardInterrupt\u001b[0m                         Traceback (most recent call last)",
      "Cell \u001b[1;32mIn[12], line 9\u001b[0m\n\u001b[0;32m      6\u001b[0m model\u001b[38;5;241m.\u001b[39mtrain()\n\u001b[0;32m      7\u001b[0m running_loss \u001b[38;5;241m=\u001b[39m \u001b[38;5;241m0.0\u001b[39m\n\u001b[1;32m----> 9\u001b[0m \u001b[38;5;28;01mfor\u001b[39;00m images, labels \u001b[38;5;129;01min\u001b[39;00m train_loader:\n\u001b[0;32m     10\u001b[0m     images, labels \u001b[38;5;241m=\u001b[39m images\u001b[38;5;241m.\u001b[39mto(device), labels\u001b[38;5;241m.\u001b[39mto(device)\n\u001b[0;32m     12\u001b[0m     optimizer\u001b[38;5;241m.\u001b[39mzero_grad()\n",
      "File \u001b[1;32mc:\\Users\\civip\\anaconda3\\Lib\\site-packages\\torch\\utils\\data\\dataloader.py:708\u001b[0m, in \u001b[0;36m_BaseDataLoaderIter.__next__\u001b[1;34m(self)\u001b[0m\n\u001b[0;32m    705\u001b[0m \u001b[38;5;28;01mif\u001b[39;00m \u001b[38;5;28mself\u001b[39m\u001b[38;5;241m.\u001b[39m_sampler_iter \u001b[38;5;129;01mis\u001b[39;00m \u001b[38;5;28;01mNone\u001b[39;00m:\n\u001b[0;32m    706\u001b[0m     \u001b[38;5;66;03m# TODO(https://github.com/pytorch/pytorch/issues/76750)\u001b[39;00m\n\u001b[0;32m    707\u001b[0m     \u001b[38;5;28mself\u001b[39m\u001b[38;5;241m.\u001b[39m_reset()  \u001b[38;5;66;03m# type: ignore[call-arg]\u001b[39;00m\n\u001b[1;32m--> 708\u001b[0m data \u001b[38;5;241m=\u001b[39m \u001b[38;5;28mself\u001b[39m\u001b[38;5;241m.\u001b[39m_next_data()\n\u001b[0;32m    709\u001b[0m \u001b[38;5;28mself\u001b[39m\u001b[38;5;241m.\u001b[39m_num_yielded \u001b[38;5;241m+\u001b[39m\u001b[38;5;241m=\u001b[39m \u001b[38;5;241m1\u001b[39m\n\u001b[0;32m    710\u001b[0m \u001b[38;5;28;01mif\u001b[39;00m (\n\u001b[0;32m    711\u001b[0m     \u001b[38;5;28mself\u001b[39m\u001b[38;5;241m.\u001b[39m_dataset_kind \u001b[38;5;241m==\u001b[39m _DatasetKind\u001b[38;5;241m.\u001b[39mIterable\n\u001b[0;32m    712\u001b[0m     \u001b[38;5;129;01mand\u001b[39;00m \u001b[38;5;28mself\u001b[39m\u001b[38;5;241m.\u001b[39m_IterableDataset_len_called \u001b[38;5;129;01mis\u001b[39;00m \u001b[38;5;129;01mnot\u001b[39;00m \u001b[38;5;28;01mNone\u001b[39;00m\n\u001b[0;32m    713\u001b[0m     \u001b[38;5;129;01mand\u001b[39;00m \u001b[38;5;28mself\u001b[39m\u001b[38;5;241m.\u001b[39m_num_yielded \u001b[38;5;241m>\u001b[39m \u001b[38;5;28mself\u001b[39m\u001b[38;5;241m.\u001b[39m_IterableDataset_len_called\n\u001b[0;32m    714\u001b[0m ):\n",
      "File \u001b[1;32mc:\\Users\\civip\\anaconda3\\Lib\\site-packages\\torch\\utils\\data\\dataloader.py:764\u001b[0m, in \u001b[0;36m_SingleProcessDataLoaderIter._next_data\u001b[1;34m(self)\u001b[0m\n\u001b[0;32m    762\u001b[0m \u001b[38;5;28;01mdef\u001b[39;00m \u001b[38;5;21m_next_data\u001b[39m(\u001b[38;5;28mself\u001b[39m):\n\u001b[0;32m    763\u001b[0m     index \u001b[38;5;241m=\u001b[39m \u001b[38;5;28mself\u001b[39m\u001b[38;5;241m.\u001b[39m_next_index()  \u001b[38;5;66;03m# may raise StopIteration\u001b[39;00m\n\u001b[1;32m--> 764\u001b[0m     data \u001b[38;5;241m=\u001b[39m \u001b[38;5;28mself\u001b[39m\u001b[38;5;241m.\u001b[39m_dataset_fetcher\u001b[38;5;241m.\u001b[39mfetch(index)  \u001b[38;5;66;03m# may raise StopIteration\u001b[39;00m\n\u001b[0;32m    765\u001b[0m     \u001b[38;5;28;01mif\u001b[39;00m \u001b[38;5;28mself\u001b[39m\u001b[38;5;241m.\u001b[39m_pin_memory:\n\u001b[0;32m    766\u001b[0m         data \u001b[38;5;241m=\u001b[39m _utils\u001b[38;5;241m.\u001b[39mpin_memory\u001b[38;5;241m.\u001b[39mpin_memory(data, \u001b[38;5;28mself\u001b[39m\u001b[38;5;241m.\u001b[39m_pin_memory_device)\n",
      "File \u001b[1;32mc:\\Users\\civip\\anaconda3\\Lib\\site-packages\\torch\\utils\\data\\_utils\\fetch.py:50\u001b[0m, in \u001b[0;36m_MapDatasetFetcher.fetch\u001b[1;34m(self, possibly_batched_index)\u001b[0m\n\u001b[0;32m     48\u001b[0m \u001b[38;5;28;01mif\u001b[39;00m \u001b[38;5;28mself\u001b[39m\u001b[38;5;241m.\u001b[39mauto_collation:\n\u001b[0;32m     49\u001b[0m     \u001b[38;5;28;01mif\u001b[39;00m \u001b[38;5;28mhasattr\u001b[39m(\u001b[38;5;28mself\u001b[39m\u001b[38;5;241m.\u001b[39mdataset, \u001b[38;5;124m\"\u001b[39m\u001b[38;5;124m__getitems__\u001b[39m\u001b[38;5;124m\"\u001b[39m) \u001b[38;5;129;01mand\u001b[39;00m \u001b[38;5;28mself\u001b[39m\u001b[38;5;241m.\u001b[39mdataset\u001b[38;5;241m.\u001b[39m__getitems__:\n\u001b[1;32m---> 50\u001b[0m         data \u001b[38;5;241m=\u001b[39m \u001b[38;5;28mself\u001b[39m\u001b[38;5;241m.\u001b[39mdataset\u001b[38;5;241m.\u001b[39m__getitems__(possibly_batched_index)\n\u001b[0;32m     51\u001b[0m     \u001b[38;5;28;01melse\u001b[39;00m:\n\u001b[0;32m     52\u001b[0m         data \u001b[38;5;241m=\u001b[39m [\u001b[38;5;28mself\u001b[39m\u001b[38;5;241m.\u001b[39mdataset[idx] \u001b[38;5;28;01mfor\u001b[39;00m idx \u001b[38;5;129;01min\u001b[39;00m possibly_batched_index]\n",
      "File \u001b[1;32mc:\\Users\\civip\\anaconda3\\Lib\\site-packages\\torch\\utils\\data\\dataset.py:420\u001b[0m, in \u001b[0;36mSubset.__getitems__\u001b[1;34m(self, indices)\u001b[0m\n\u001b[0;32m    418\u001b[0m     \u001b[38;5;28;01mreturn\u001b[39;00m \u001b[38;5;28mself\u001b[39m\u001b[38;5;241m.\u001b[39mdataset\u001b[38;5;241m.\u001b[39m__getitems__([\u001b[38;5;28mself\u001b[39m\u001b[38;5;241m.\u001b[39mindices[idx] \u001b[38;5;28;01mfor\u001b[39;00m idx \u001b[38;5;129;01min\u001b[39;00m indices])  \u001b[38;5;66;03m# type: ignore[attr-defined]\u001b[39;00m\n\u001b[0;32m    419\u001b[0m \u001b[38;5;28;01melse\u001b[39;00m:\n\u001b[1;32m--> 420\u001b[0m     \u001b[38;5;28;01mreturn\u001b[39;00m [\u001b[38;5;28mself\u001b[39m\u001b[38;5;241m.\u001b[39mdataset[\u001b[38;5;28mself\u001b[39m\u001b[38;5;241m.\u001b[39mindices[idx]] \u001b[38;5;28;01mfor\u001b[39;00m idx \u001b[38;5;129;01min\u001b[39;00m indices]\n",
      "File \u001b[1;32mc:\\Users\\civip\\anaconda3\\Lib\\site-packages\\torch\\utils\\data\\dataset.py:420\u001b[0m, in \u001b[0;36m<listcomp>\u001b[1;34m(.0)\u001b[0m\n\u001b[0;32m    418\u001b[0m     \u001b[38;5;28;01mreturn\u001b[39;00m \u001b[38;5;28mself\u001b[39m\u001b[38;5;241m.\u001b[39mdataset\u001b[38;5;241m.\u001b[39m__getitems__([\u001b[38;5;28mself\u001b[39m\u001b[38;5;241m.\u001b[39mindices[idx] \u001b[38;5;28;01mfor\u001b[39;00m idx \u001b[38;5;129;01min\u001b[39;00m indices])  \u001b[38;5;66;03m# type: ignore[attr-defined]\u001b[39;00m\n\u001b[0;32m    419\u001b[0m \u001b[38;5;28;01melse\u001b[39;00m:\n\u001b[1;32m--> 420\u001b[0m     \u001b[38;5;28;01mreturn\u001b[39;00m [\u001b[38;5;28mself\u001b[39m\u001b[38;5;241m.\u001b[39mdataset[\u001b[38;5;28mself\u001b[39m\u001b[38;5;241m.\u001b[39mindices[idx]] \u001b[38;5;28;01mfor\u001b[39;00m idx \u001b[38;5;129;01min\u001b[39;00m indices]\n",
      "File \u001b[1;32mc:\\Users\\civip\\anaconda3\\Lib\\site-packages\\torchvision\\datasets\\folder.py:245\u001b[0m, in \u001b[0;36mDatasetFolder.__getitem__\u001b[1;34m(self, index)\u001b[0m\n\u001b[0;32m    237\u001b[0m \u001b[38;5;250m\u001b[39m\u001b[38;5;124;03m\"\"\"\u001b[39;00m\n\u001b[0;32m    238\u001b[0m \u001b[38;5;124;03mArgs:\u001b[39;00m\n\u001b[0;32m    239\u001b[0m \u001b[38;5;124;03m    index (int): Index\u001b[39;00m\n\u001b[1;32m   (...)\u001b[0m\n\u001b[0;32m    242\u001b[0m \u001b[38;5;124;03m    tuple: (sample, target) where target is class_index of the target class.\u001b[39;00m\n\u001b[0;32m    243\u001b[0m \u001b[38;5;124;03m\"\"\"\u001b[39;00m\n\u001b[0;32m    244\u001b[0m path, target \u001b[38;5;241m=\u001b[39m \u001b[38;5;28mself\u001b[39m\u001b[38;5;241m.\u001b[39msamples[index]\n\u001b[1;32m--> 245\u001b[0m sample \u001b[38;5;241m=\u001b[39m \u001b[38;5;28mself\u001b[39m\u001b[38;5;241m.\u001b[39mloader(path)\n\u001b[0;32m    246\u001b[0m \u001b[38;5;28;01mif\u001b[39;00m \u001b[38;5;28mself\u001b[39m\u001b[38;5;241m.\u001b[39mtransform \u001b[38;5;129;01mis\u001b[39;00m \u001b[38;5;129;01mnot\u001b[39;00m \u001b[38;5;28;01mNone\u001b[39;00m:\n\u001b[0;32m    247\u001b[0m     sample \u001b[38;5;241m=\u001b[39m \u001b[38;5;28mself\u001b[39m\u001b[38;5;241m.\u001b[39mtransform(sample)\n",
      "File \u001b[1;32mc:\\Users\\civip\\anaconda3\\Lib\\site-packages\\torchvision\\datasets\\folder.py:284\u001b[0m, in \u001b[0;36mdefault_loader\u001b[1;34m(path)\u001b[0m\n\u001b[0;32m    282\u001b[0m     \u001b[38;5;28;01mreturn\u001b[39;00m accimage_loader(path)\n\u001b[0;32m    283\u001b[0m \u001b[38;5;28;01melse\u001b[39;00m:\n\u001b[1;32m--> 284\u001b[0m     \u001b[38;5;28;01mreturn\u001b[39;00m pil_loader(path)\n",
      "File \u001b[1;32mc:\\Users\\civip\\anaconda3\\Lib\\site-packages\\torchvision\\datasets\\folder.py:264\u001b[0m, in \u001b[0;36mpil_loader\u001b[1;34m(path)\u001b[0m\n\u001b[0;32m    262\u001b[0m \u001b[38;5;28;01mwith\u001b[39;00m \u001b[38;5;28mopen\u001b[39m(path, \u001b[38;5;124m\"\u001b[39m\u001b[38;5;124mrb\u001b[39m\u001b[38;5;124m\"\u001b[39m) \u001b[38;5;28;01mas\u001b[39;00m f:\n\u001b[0;32m    263\u001b[0m     img \u001b[38;5;241m=\u001b[39m Image\u001b[38;5;241m.\u001b[39mopen(f)\n\u001b[1;32m--> 264\u001b[0m     \u001b[38;5;28;01mreturn\u001b[39;00m img\u001b[38;5;241m.\u001b[39mconvert(\u001b[38;5;124m\"\u001b[39m\u001b[38;5;124mRGB\u001b[39m\u001b[38;5;124m\"\u001b[39m)\n",
      "File \u001b[1;32mc:\\Users\\civip\\anaconda3\\Lib\\site-packages\\PIL\\Image.py:937\u001b[0m, in \u001b[0;36mImage.convert\u001b[1;34m(self, mode, matrix, dither, palette, colors)\u001b[0m\n\u001b[0;32m    889\u001b[0m \u001b[38;5;28;01mdef\u001b[39;00m \u001b[38;5;21mconvert\u001b[39m(\n\u001b[0;32m    890\u001b[0m     \u001b[38;5;28mself\u001b[39m, mode\u001b[38;5;241m=\u001b[39m\u001b[38;5;28;01mNone\u001b[39;00m, matrix\u001b[38;5;241m=\u001b[39m\u001b[38;5;28;01mNone\u001b[39;00m, dither\u001b[38;5;241m=\u001b[39m\u001b[38;5;28;01mNone\u001b[39;00m, palette\u001b[38;5;241m=\u001b[39mPalette\u001b[38;5;241m.\u001b[39mWEB, colors\u001b[38;5;241m=\u001b[39m\u001b[38;5;241m256\u001b[39m\n\u001b[0;32m    891\u001b[0m ):\n\u001b[0;32m    892\u001b[0m \u001b[38;5;250m    \u001b[39m\u001b[38;5;124;03m\"\"\"\u001b[39;00m\n\u001b[0;32m    893\u001b[0m \u001b[38;5;124;03m    Returns a converted copy of this image. For the \"P\" mode, this\u001b[39;00m\n\u001b[0;32m    894\u001b[0m \u001b[38;5;124;03m    method translates pixels through the palette.  If mode is\u001b[39;00m\n\u001b[1;32m   (...)\u001b[0m\n\u001b[0;32m    934\u001b[0m \u001b[38;5;124;03m    :returns: An :py:class:`~PIL.Image.Image` object.\u001b[39;00m\n\u001b[0;32m    935\u001b[0m \u001b[38;5;124;03m    \"\"\"\u001b[39;00m\n\u001b[1;32m--> 937\u001b[0m     \u001b[38;5;28mself\u001b[39m\u001b[38;5;241m.\u001b[39mload()\n\u001b[0;32m    939\u001b[0m     has_transparency \u001b[38;5;241m=\u001b[39m \u001b[38;5;28mself\u001b[39m\u001b[38;5;241m.\u001b[39minfo\u001b[38;5;241m.\u001b[39mget(\u001b[38;5;124m\"\u001b[39m\u001b[38;5;124mtransparency\u001b[39m\u001b[38;5;124m\"\u001b[39m) \u001b[38;5;129;01mis\u001b[39;00m \u001b[38;5;129;01mnot\u001b[39;00m \u001b[38;5;28;01mNone\u001b[39;00m\n\u001b[0;32m    940\u001b[0m     \u001b[38;5;28;01mif\u001b[39;00m \u001b[38;5;129;01mnot\u001b[39;00m mode \u001b[38;5;129;01mand\u001b[39;00m \u001b[38;5;28mself\u001b[39m\u001b[38;5;241m.\u001b[39mmode \u001b[38;5;241m==\u001b[39m \u001b[38;5;124m\"\u001b[39m\u001b[38;5;124mP\u001b[39m\u001b[38;5;124m\"\u001b[39m:\n\u001b[0;32m    941\u001b[0m         \u001b[38;5;66;03m# determine default mode\u001b[39;00m\n",
      "File \u001b[1;32mc:\\Users\\civip\\anaconda3\\Lib\\site-packages\\PIL\\ImageFile.py:269\u001b[0m, in \u001b[0;36mImageFile.load\u001b[1;34m(self)\u001b[0m\n\u001b[0;32m    266\u001b[0m         \u001b[38;5;28;01mraise\u001b[39;00m \u001b[38;5;167;01mOSError\u001b[39;00m(msg)\n\u001b[0;32m    268\u001b[0m b \u001b[38;5;241m=\u001b[39m b \u001b[38;5;241m+\u001b[39m s\n\u001b[1;32m--> 269\u001b[0m n, err_code \u001b[38;5;241m=\u001b[39m decoder\u001b[38;5;241m.\u001b[39mdecode(b)\n\u001b[0;32m    270\u001b[0m \u001b[38;5;28;01mif\u001b[39;00m n \u001b[38;5;241m<\u001b[39m \u001b[38;5;241m0\u001b[39m:\n\u001b[0;32m    271\u001b[0m     \u001b[38;5;28;01mbreak\u001b[39;00m\n",
      "\u001b[1;31mKeyboardInterrupt\u001b[0m: "
=======
      "Training started...\n",
      "Epoch 1/10, Loss: 1.3885\n",
      "Epoch 2/10, Loss: 0.8675\n",
      "Epoch 3/10, Loss: 0.7064\n",
      "Epoch 4/10, Loss: 0.6281\n",
      "Epoch 5/10, Loss: 0.5801\n",
      "Epoch 6/10, Loss: 0.5511\n",
      "Epoch 7/10, Loss: 0.5167\n",
      "Epoch 8/10, Loss: 0.5259\n",
      "Epoch 9/10, Loss: 0.5008\n",
      "Epoch 10/10, Loss: 0.4672\n",
      "Training complete.\n"
>>>>>>> 9d9edcf8e24cde6cab893279736b78d432b0b035
     ]
    }
   ],
   "source": [
    "# Training loop\n",
    "epochs = 10\n",
    "print(\"Training started...\")\n",
    "\n",
    "for epoch in range(epochs):\n",
    "    model.train()\n",
    "    running_loss = 0.0\n",
    "    \n",
    "    for images, labels in train_loader:\n",
    "        images, labels = images.to(device), labels.to(device)\n",
    "        \n",
    "        optimizer.zero_grad()\n",
    "        outputs = model(images)\n",
    "        loss = criterion(outputs, labels)\n",
    "        loss.backward()\n",
    "        optimizer.step()\n",
    "        \n",
    "        running_loss += loss.item()\n",
    "    \n",
    "    print(f\"Epoch {epoch+1}/{epochs}, Loss: {running_loss/len(train_loader):.4f}\")\n",
    "\n",
    "print(\"Training complete.\")"
   ]
  },
  {
   "cell_type": "code",
   "execution_count": 9,
   "metadata": {},
   "outputs": [],
   "source": [
    "# # Prepare Stratified K-Fold Cross-Validation\n",
    "# K = 5  # Number of folds\n",
    "# skf = StratifiedKFold(n_splits=K, shuffle=True, random_state=42)\n",
    "# indices = np.arange(len(full_dataset))\n",
    "# targets = np.array([full_dataset.targets[i] for i in range(len(full_dataset))])\n",
    "\n",
    "# # Training parameters\n",
    "# batch_size = 32\n",
    "# epochs = 5  # Adjust based on training time\n",
    "\n",
    "# # Store performance metrics\n",
    "# fold_accuracies = []\n",
    "# fold_f1_scores = []\n",
    "\n",
    "# # K-Fold Cross-Validation loop\n",
    "# for fold, (train_idx, val_idx) in enumerate(skf.split(indices, targets)):\n",
    "#     print(f\"\\nFold {fold + 1}/{K}\")\n",
    "\n",
    "#     # Create train and validation subsets\n",
    "#     train_subset = Subset(full_dataset, train_idx)\n",
    "#     val_subset = Subset(full_dataset, val_idx)\n",
    "\n",
    "#     # Create data loaders\n",
    "#     train_loader = DataLoader(train_subset, batch_size=batch_size, shuffle=True)\n",
    "#     val_loader = DataLoader(val_subset, batch_size=batch_size, shuffle=False)\n",
    "\n",
    "#     # Load ResNet50 model\n",
    "#     model = models.resnet50(pretrained=True)\n",
    "#     for param in model.parameters():\n",
    "#         param.requires_grad = False  # Freeze pretrained layers\n",
    "\n",
    "#     # Modify fully connected layer with dropout\n",
    "#     model.fc = nn.Sequential(\n",
    "#         nn.Dropout(p=0.1),\n",
    "#         nn.Linear(model.fc.in_features, num_classes)\n",
    "#     )\n",
    "\n",
    "#     model = model.to(device)\n",
    "\n",
    "#     # Loss function and optimizer\n",
    "#     criterion = nn.CrossEntropyLoss()\n",
    "#     optimizer = optim.Adam(model.fc.parameters(), lr=0.001)\n",
    "\n",
    "#     # Training loop\n",
    "#     for epoch in range(epochs):\n",
    "#         model.train()\n",
    "#         running_loss = 0.0\n",
    "#         for images, labels in train_loader:\n",
    "#             images, labels = images.to(device), labels.to(device)\n",
    "\n",
    "#             optimizer.zero_grad()\n",
    "#             outputs = model(images)\n",
    "#             loss = criterion(outputs, labels)\n",
    "#             loss.backward()\n",
    "#             optimizer.step()\n",
    "\n",
    "#             running_loss += loss.item()\n",
    "\n",
    "#         print(f\"Epoch {epoch+1}/{epochs}, Loss: {running_loss/len(train_loader):.4f}\")\n",
    "\n",
    "#     # Validation loop\n",
    "#     model.eval()\n",
    "#     correct, total = 0, 0\n",
    "#     true_labels, predicted_labels = [], []\n",
    "\n",
    "#     with torch.no_grad():\n",
    "#         for images, labels in val_loader:\n",
    "#             images, labels = images.to(device), labels.to(device)\n",
    "#             outputs = model(images)\n",
    "#             _, predicted = torch.max(outputs, 1)\n",
    "\n",
    "#             total += labels.size(0)\n",
    "#             correct += (predicted == labels).sum().item()\n",
    "\n",
    "#             true_labels.extend(labels.cpu().numpy())\n",
    "#             predicted_labels.extend(predicted.cpu().numpy())\n",
    "\n",
    "#     # Calculate metrics\n",
    "#     accuracy = 100 * correct / total\n",
    "#     fscore = f1_score(true_labels, predicted_labels, average='macro')\n",
    "\n",
    "#     fold_accuracies.append(accuracy)\n",
    "#     fold_f1_scores.append(fscore)\n",
    "\n",
    "#     print(f\"Fold {fold + 1} Accuracy: {accuracy:.2f}%\")\n",
    "#     print(f\"Fold {fold + 1} F1-Score: {fscore:.4f}\")\n",
    "\n",
    "# # Print final K-Fold results\n",
    "# print(\"\\nFinal Cross-Validation Results:\")\n",
    "# print(f\"Average Accuracy: {np.mean(fold_accuracies):.2f}% ± {np.std(fold_accuracies):.2f}\")\n",
    "# print(f\"Average F1-Score: {np.mean(fold_f1_scores):.4f} ± {np.std(fold_f1_scores):.4f}\")"
   ]
  },
  {
   "cell_type": "code",
   "execution_count": 10,
   "metadata": {},
   "outputs": [
    {
     "name": "stderr",
     "output_type": "stream",
     "text": [
      "c:\\Users\\danym\\AppData\\Local\\Programs\\Python\\Python38\\lib\\site-packages\\PIL\\Image.py:981: UserWarning: Palette images with Transparency expressed in bytes should be converted to RGBA images\n",
      "  warnings.warn(\n"
     ]
    },
    {
     "name": "stdout",
     "output_type": "stream",
     "text": [
      "Testing Accuracy: 85.12%\n",
      "F1-Score: 0.8512\n",
      "Model saved.\n"
     ]
    }
   ],
   "source": [
    "# Validation\n",
    "model.eval()\n",
    "correct = 0\n",
    "total = 0\n",
    "true_labels = []\n",
    "predicted_labels = []\n",
    "with torch.no_grad():\n",
    "    for images, labels in test_loader:\n",
    "        images, labels = images.to(device), labels.to(device)\n",
    "        outputs = model(images)\n",
    "        _, predicted = torch.max(outputs, 1)\n",
    "\n",
    "        total += labels.size(0)\n",
    "        correct += (predicted == labels).sum().item()\n",
    "\n",
    "        true_labels.extend(labels.cpu().numpy())\n",
    "        predicted_labels.extend(predicted.cpu().numpy())\n",
    "\n",
    "accuracy = 100 * correct / total\n",
    "print(f'Testing Accuracy: {accuracy:.2f}%')\n",
    "\n",
    "# Calculate F1-Score (Macro for Multi-class)\n",
    "fscore = f1_score(true_labels, predicted_labels, average='micro')\n",
    "print(f'F1-Score: {fscore:.4f}')\n",
    "\n",
    "# Save model\n",
    "torch.save(model.state_dict(), 'densenet121_model1.pth')\n",
    "print(\"Model saved.\")"
   ]
  },
  {
   "cell_type": "code",
   "execution_count": 12,
   "metadata": {},
   "outputs": [
    {
     "name": "stdout",
     "output_type": "stream",
     "text": [
      "              precision    recall  f1-score   support\n",
      "\n",
      "     battery       0.96      0.96      0.96        71\n",
      "   cardboard       0.94      0.81      0.87        81\n",
      "       glass       0.81      0.87      0.84       100\n",
      "       metal       0.83      0.87      0.85        82\n",
      "       paper       0.79      0.92      0.85       119\n",
      "     plastic       0.88      0.77      0.82        97\n",
      "     syringe       0.91      1.00      0.95        21\n",
      "       trash       0.67      0.44      0.53        27\n",
      "\n",
      "    accuracy                           0.85       598\n",
      "   macro avg       0.85      0.83      0.83       598\n",
      "weighted avg       0.85      0.85      0.85       598\n",
      "\n"
     ]
    },
    {
     "data": {
      "image/png": "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",
      "text/plain": [
       "<Figure size 640x480 with 2 Axes>"
      ]
     },
     "metadata": {},
     "output_type": "display_data"
    }
   ],
   "source": [
    "import scikitplot as skplt\n",
    "from sklearn.metrics import classification_report\n",
    "\n",
    "skplt.metrics.plot_confusion_matrix(true_labels, predicted_labels)\n",
    "print(classification_report(true_labels, predicted_labels, target_names=['battery', 'cardboard', 'glass', 'metal', 'paper', 'plastic', 'syringe', 'trash']))"
   ]
  }
 ],
 "metadata": {
  "kernelspec": {
   "display_name": "Python 3",
   "language": "python",
   "name": "python3"
  },
  "language_info": {
   "codemirror_mode": {
    "name": "ipython",
    "version": 3
   },
   "file_extension": ".py",
   "mimetype": "text/x-python",
   "name": "python",
   "nbconvert_exporter": "python",
   "pygments_lexer": "ipython3",
   "version": "3.8.0"
  }
 },
 "nbformat": 4,
 "nbformat_minor": 2
}
