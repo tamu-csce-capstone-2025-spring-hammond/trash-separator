{
 "cells": [
  {
   "cell_type": "code",
   "execution_count": 1,
   "metadata": {},
   "outputs": [],
   "source": [
    "# testing pretrained model\n",
    "# %pip install torch torchvision matplotlib\n",
    "# %pip install lime"
   ]
  },
  {
   "cell_type": "code",
   "execution_count": 1,
   "metadata": {},
   "outputs": [],
   "source": [
    "import torch\n",
    "import torchvision\n",
    "import torchvision.transforms as transforms\n",
    "import torch.nn as nn\n",
    "import torch.optim as optim\n",
    "from torchvision import models, datasets\n",
    "from torchvision.models import resnet50, densenet121\n",
    "from torch.utils.data import random_split, DataLoader, Subset\n",
    "import matplotlib.pyplot as plt\n",
    "from sklearn.metrics import f1_score\n",
    "from sklearn.model_selection import StratifiedShuffleSplit, StratifiedKFold\n",
    "import numpy as np\n",
    "import os"
   ]
  },
  {
   "cell_type": "code",
   "execution_count": 2,
   "metadata": {},
   "outputs": [
    {
     "name": "stdout",
     "output_type": "stream",
     "text": [
      "Classes: ['battery', 'cardboard', 'compost', 'glass', 'metal', 'paper', 'plastic', 'syringe', 'trash']\n"
     ]
    }
   ],
   "source": [
    "# image transformations\n",
    "transform = transforms.Compose([\n",
    "    transforms.Resize((224, 224)),\n",
    "    transforms.RandomHorizontalFlip(),\n",
    "    transforms.RandomRotation(10),\n",
    "    transforms.ToTensor(),\n",
    "    transforms.Normalize(mean=[0.485, 0.456, 0.406], std=[0.229, 0.224, 0.225])\n",
    "])\n",
    "\n",
    "# load the datasets\n",
    "dataset_path = './dataset'\n",
    "full_dataset = datasets.ImageFolder(root=dataset_path, transform=transform)\n",
    "class_names = full_dataset.classes\n",
    "print(f'Classes: {class_names}')"
   ]
  },
  {
   "cell_type": "code",
   "execution_count": 3,
   "metadata": {},
   "outputs": [
    {
     "name": "stdout",
     "output_type": "stream",
     "text": [
      "Number of training samples: 3410\n",
      "Number of testing samples: 853\n"
     ]
    }
   ],
   "source": [
    "# split dataset into train and test\n",
    "# train_size = int(0.8 * len(full_dataset))\n",
    "# test_size = len(full_dataset) - train_size\n",
    "# train_dataset, test_dataset = random_split(full_dataset, [train_size, test_size])\n",
    "\n",
    "labels = [label for _, label in full_dataset]\n",
    "labels = np.array(labels)\n",
    "splitter = StratifiedShuffleSplit(n_splits=1, test_size=0.2, random_state=42)\n",
    "for train_idx, test_idx in splitter.split(np.zeros(len(labels)), labels):\n",
    "    train_dataset = Subset(full_dataset, train_idx)\n",
    "    test_dataset = Subset(full_dataset, test_idx)\n",
    "\n",
    "print(f'Number of training samples: {len(train_dataset)}')\n",
    "print(f'Number of testing samples: {len(test_dataset)}')"
   ]
  },
  {
   "cell_type": "code",
   "execution_count": 4,
   "metadata": {},
   "outputs": [],
   "source": [
    "# data loaders\n",
    "batch_size = 32\n",
    "train_loader = DataLoader(train_dataset, batch_size=batch_size, shuffle=True)\n",
    "test_loader = DataLoader(test_dataset, batch_size=batch_size, shuffle=False)"
   ]
  },
  {
   "cell_type": "code",
   "execution_count": 5,
   "metadata": {},
   "outputs": [],
   "source": [
    "# loading Densenet121 (pretrained model for transfer learning)\n",
    "model = models.densenet121(weights=\"DEFAULT\")\n",
    "\n",
    "for param in model.parameters():\n",
    "    param.requires_grad = False\n",
    "\n",
    "# Unfreeze the last dense block\n",
    "for param in model.features.denseblock4.parameters():\n",
    "    param.requires_grad = True\n",
    "\n",
    "num_classes = len(class_names)\n",
    "model.classifier = nn.Sequential(\n",
    "    nn.Dropout(p=0.2),\n",
    "    nn.Linear(model.classifier.in_features, num_classes)\n",
    ")\n",
    "device = torch.device(\"cuda\" if torch.cuda.is_available() else \"cpu\")\n",
    "model = model.to(device)"
   ]
  },
  {
   "cell_type": "code",
   "execution_count": 7,
   "metadata": {},
   "outputs": [],
   "source": [
    "# loss function and optimizer\n",
    "criterion = nn.CrossEntropyLoss()\n",
    "optimizer = optim.Adam(model.classifier.parameters(), lr=0.001)"
   ]
  },
  {
   "cell_type": "code",
   "execution_count": null,
   "metadata": {},
   "outputs": [
    {
     "name": "stdout",
     "output_type": "stream",
     "text": [
      "Training started...\n",
      "17:55:07.529506 Epoch 1/50, Loss: 1.3689\n",
      "17:55:59.701461 Epoch 2/50, Loss: 0.8970\n",
      "17:56:56.569371 Epoch 3/50, Loss: 0.7641\n",
      "17:57:54.781890 Epoch 4/50, Loss: 0.6918\n",
      "17:58:52.049547 Epoch 5/50, Loss: 0.6674\n",
      "17:59:49.171612 Epoch 6/50, Loss: 0.6267\n",
      "18:00:47.442358 Epoch 7/50, Loss: 0.6291\n",
      "18:01:43.593750 Epoch 8/50, Loss: 0.5899\n",
      "18:02:40.766708 Epoch 9/50, Loss: 0.6002\n",
      "18:03:37.479502 Epoch 10/50, Loss: 0.5847\n",
      "18:04:38.438610 Epoch 11/50, Loss: 0.5739\n",
      "18:05:40.799268 Epoch 12/50, Loss: 0.5611\n",
      "18:06:39.021950 Epoch 13/50, Loss: 0.5664\n",
      "18:07:24.874595 Epoch 14/50, Loss: 0.5503\n",
      "18:08:16.625574 Epoch 15/50, Loss: 0.5491\n",
      "18:09:17.087110 Epoch 16/50, Loss: 0.5249\n",
      "18:10:16.687858 Epoch 17/50, Loss: 0.5333\n",
      "18:11:02.353259 Epoch 18/50, Loss: 0.5239\n",
      "18:11:47.334060 Epoch 19/50, Loss: 0.5373\n",
      "18:12:31.386959 Epoch 20/50, Loss: 0.5480\n",
      "18:13:29.508591 Epoch 21/50, Loss: 0.5257\n",
      "18:14:29.056876 Epoch 22/50, Loss: 0.5476\n",
      "18:15:30.159935 Epoch 23/50, Loss: 0.5337\n",
      "18:16:31.823049 Epoch 24/50, Loss: 0.5255\n",
      "18:17:32.744340 Epoch 25/50, Loss: 0.5450\n",
      "18:18:33.707704 Epoch 26/50, Loss: 0.5253\n",
      "18:19:35.201379 Epoch 27/50, Loss: 0.5188\n",
      "18:20:36.858016 Epoch 28/50, Loss: 0.5265\n",
      "18:21:38.243722 Epoch 29/50, Loss: 0.5220\n",
      "18:22:40.010712 Epoch 30/50, Loss: 0.5257\n",
      "18:23:41.343260 Epoch 31/50, Loss: 0.5038\n",
      "18:24:42.835198 Epoch 32/50, Loss: 0.5308\n",
      "18:25:41.580184 Epoch 33/50, Loss: 0.4970\n",
      "18:26:41.294583 Epoch 34/50, Loss: 0.5123\n",
      "18:27:40.271219 Epoch 35/50, Loss: 0.5169\n",
      "18:28:38.860856 Epoch 36/50, Loss: 0.4983\n",
      "18:29:37.407693 Epoch 37/50, Loss: 0.5047\n",
      "18:30:36.664217 Epoch 38/50, Loss: 0.5255\n",
      "18:31:35.175494 Epoch 39/50, Loss: 0.5260\n",
      "18:32:34.843691 Epoch 40/50, Loss: 0.5023\n",
      "18:33:34.978180 Epoch 41/50, Loss: 0.5229\n",
      "18:34:27.785468 Epoch 42/50, Loss: 0.5204\n",
      "18:35:15.583055 Epoch 43/50, Loss: 0.5265\n",
      "18:36:03.911411 Epoch 44/50, Loss: 0.5039\n",
      "18:36:52.228822 Epoch 45/50, Loss: 0.5390\n",
      "18:37:41.620102 Epoch 46/50, Loss: 0.5091\n",
      "18:38:30.074659 Epoch 47/50, Loss: 0.5112\n",
      "18:39:20.248932 Epoch 48/50, Loss: 0.5114\n",
      "18:40:09.457204 Epoch 49/50, Loss: 0.5032\n",
      "18:40:58.666448 Epoch 50/50, Loss: 0.4866\n",
      "Training complete.\n"
     ]
    }
   ],
   "source": [
    "# Training loop\n",
    "import datetime\n",
    "epochs = 50\n",
    "print(\"Training started...\")\n",
    "\n",
    "loss_trace = []\n",
    "for epoch in range(epochs):\n",
    "    model.train()\n",
    "    running_loss = 0.0\n",
    "    \n",
    "    for images, labels in train_loader:\n",
    "        images, labels = images.to(device), labels.to(device)\n",
    "        \n",
    "        optimizer.zero_grad()\n",
    "        outputs = model(images)\n",
    "        loss = criterion(outputs, labels)\n",
    "        loss.backward()\n",
    "        optimizer.step()\n",
    "        \n",
    "        running_loss += loss.item()\n",
    "    \n",
    "    print(f\"{datetime.datetime.now().time()} Epoch {epoch+1}/{epochs}, Loss: {running_loss/len(train_loader):.4f}\")\n",
    "    loss_trace.append(running_loss/len(train_loader))\n",
    "\n",
    "print(\"Training complete.\")"
   ]
  },
  {
   "cell_type": "code",
   "execution_count": 9,
   "metadata": {},
   "outputs": [],
   "source": [
    "# # Prepare Stratified K-Fold Cross-Validation\n",
    "# K = 5  # Number of folds\n",
    "# skf = StratifiedKFold(n_splits=K, shuffle=True, random_state=42)\n",
    "# indices = np.arange(len(full_dataset))\n",
    "# targets = np.array([full_dataset.targets[i] for i in range(len(full_dataset))])\n",
    "\n",
    "# # Training parameters\n",
    "# batch_size = 32\n",
    "# epochs = 5  # Adjust based on training time\n",
    "\n",
    "# # Store performance metrics\n",
    "# fold_accuracies = []\n",
    "# fold_f1_scores = []\n",
    "\n",
    "# # K-Fold Cross-Validation loop\n",
    "# for fold, (train_idx, val_idx) in enumerate(skf.split(indices, targets)):\n",
    "#     print(f\"\\nFold {fold + 1}/{K}\")\n",
    "\n",
    "#     # Create train and validation subsets\n",
    "#     train_subset = Subset(full_dataset, train_idx)\n",
    "#     val_subset = Subset(full_dataset, val_idx)\n",
    "\n",
    "#     # Create data loaders\n",
    "#     train_loader = DataLoader(train_subset, batch_size=batch_size, shuffle=True)\n",
    "#     val_loader = DataLoader(val_subset, batch_size=batch_size, shuffle=False)\n",
    "\n",
    "#     # Load ResNet50 model\n",
    "#     model = models.resnet50(pretrained=True)\n",
    "#     for param in model.parameters():\n",
    "#         param.requires_grad = False  # Freeze pretrained layers\n",
    "\n",
    "#     # Modify fully connected layer with dropout\n",
    "#     model.fc = nn.Sequential(\n",
    "#         nn.Dropout(p=0.1),\n",
    "#         nn.Linear(model.fc.in_features, num_classes)\n",
    "#     )\n",
    "\n",
    "#     model = model.to(device)\n",
    "\n",
    "#     # Loss function and optimizer\n",
    "#     criterion = nn.CrossEntropyLoss()\n",
    "#     optimizer = optim.Adam(model.fc.parameters(), lr=0.001)\n",
    "\n",
    "#     # Training loop\n",
    "#     for epoch in range(epochs):\n",
    "#         model.train()\n",
    "#         running_loss = 0.0\n",
    "#         for images, labels in train_loader:\n",
    "#             images, labels = images.to(device), labels.to(device)\n",
    "\n",
    "#             optimizer.zero_grad()\n",
    "#             outputs = model(images)\n",
    "#             loss = criterion(outputs, labels)\n",
    "#             loss.backward()\n",
    "#             optimizer.step()\n",
    "\n",
    "#             running_loss += loss.item()\n",
    "\n",
    "#         print(f\"Epoch {epoch+1}/{epochs}, Loss: {running_loss/len(train_loader):.4f}\")\n",
    "\n",
    "#     # Validation loop\n",
    "#     model.eval()\n",
    "#     correct, total = 0, 0\n",
    "#     true_labels, predicted_labels = [], []\n",
    "\n",
    "#     with torch.no_grad():\n",
    "#         for images, labels in val_loader:\n",
    "#             images, labels = images.to(device), labels.to(device)\n",
    "#             outputs = model(images)\n",
    "#             _, predicted = torch.max(outputs, 1)\n",
    "\n",
    "#             total += labels.size(0)\n",
    "#             correct += (predicted == labels).sum().item()\n",
    "\n",
    "#             true_labels.extend(labels.cpu().numpy())\n",
    "#             predicted_labels.extend(predicted.cpu().numpy())\n",
    "\n",
    "#     # Calculate metrics\n",
    "#     accuracy = 100 * correct / total\n",
    "#     fscore = f1_score(true_labels, predicted_labels, average='macro')\n",
    "\n",
    "#     fold_accuracies.append(accuracy)\n",
    "#     fold_f1_scores.append(fscore)\n",
    "\n",
    "#     print(f\"Fold {fold + 1} Accuracy: {accuracy:.2f}%\")\n",
    "#     print(f\"Fold {fold + 1} F1-Score: {fscore:.4f}\")\n",
    "\n",
    "# # Print final K-Fold results\n",
    "# print(\"\\nFinal Cross-Validation Results:\")\n",
    "# print(f\"Average Accuracy: {np.mean(fold_accuracies):.2f}% ± {np.std(fold_accuracies):.2f}\")\n",
    "# print(f\"Average F1-Score: {np.mean(fold_f1_scores):.4f} ± {np.std(fold_f1_scores):.4f}\")"
   ]
  },
  {
   "cell_type": "code",
   "execution_count": 10,
   "metadata": {},
   "outputs": [
    {
     "data": {
      "text/plain": [
       "[<matplotlib.lines.Line2D at 0x1fbc6035950>]"
      ]
     },
     "execution_count": 10,
     "metadata": {},
     "output_type": "execute_result"
    },
    {
     "data": {
      "image/png": "[encoded data removed]",
      "text/plain": [
       "<Figure size 640x480 with 1 Axes>"
      ]
     },
     "metadata": {},
     "output_type": "display_data"
    }
   ],
   "source": [
    "plt.plot(loss_trace)"
   ]
  },
  {
   "cell_type": "code",
   "execution_count": 9,
   "metadata": {},
   "outputs": [
    {
     "name": "stdout",
     "output_type": "stream",
     "text": [
      "Testing Accuracy: 82.30%\n",
      "F1-Score: 0.8230\n",
      "Model saved.\n"
     ]
    }
   ],
   "source": [
    "# Validation\n",
    "model.eval()\n",
    "correct = 0\n",
    "total = 0\n",
    "true_labels = []\n",
    "predicted_labels = []\n",
    "with torch.no_grad():\n",
    "    for images, labels in test_loader:\n",
    "        images, labels = images.to(device), labels.to(device)\n",
    "        outputs = model(images)\n",
    "        _, predicted = torch.max(outputs, 1)\n",
    "\n",
    "        total += labels.size(0)\n",
    "        correct += (predicted == labels).sum().item()\n",
    "\n",
    "        true_labels.extend(labels.cpu().numpy())\n",
    "        predicted_labels.extend(predicted.cpu().numpy())\n",
    "\n",
    "accuracy = 100 * correct / total\n",
    "print(f'Testing Accuracy: {accuracy:.2f}%')\n",
    "\n",
    "# Calculate F1-Score (Macro for Multi-class)\n",
    "fscore = f1_score(true_labels, predicted_labels, average='micro')\n",
    "print(f'F1-Score: {fscore:.4f}')\n",
    "\n",
    "# Save model\n",
    "torch.save(model.state_dict(), 'densenet121_model1-nobg.pth')\n",
    "print(\"Model saved.\")"
   ]
  },
  {
   "cell_type": "code",
   "execution_count": 11,
   "metadata": {},
   "outputs": [
    {
     "ename": "ImportError",
     "evalue": "cannot import name 'interp' from 'scipy' (c:\\Users\\yisye\\AppData\\Local\\Programs\\Python\\Python313\\Lib\\site-packages\\scipy\\__init__.py)",
     "output_type": "error",
     "traceback": [
      "\u001b[31m---------------------------------------------------------------------------\u001b[39m",
      "\u001b[31mImportError\u001b[39m                               Traceback (most recent call last)",
      "\u001b[36mCell\u001b[39m\u001b[36m \u001b[39m\u001b[32mIn[11]\u001b[39m\u001b[32m, line 1\u001b[39m\n\u001b[32m----> \u001b[39m\u001b[32m1\u001b[39m \u001b[38;5;28;01mimport\u001b[39;00m\u001b[38;5;250m \u001b[39m\u001b[34;01mscikitplot\u001b[39;00m\u001b[38;5;250m \u001b[39m\u001b[38;5;28;01mas\u001b[39;00m\u001b[38;5;250m \u001b[39m\u001b[34;01mskplt\u001b[39;00m\n\u001b[32m      2\u001b[39m \u001b[38;5;28;01mfrom\u001b[39;00m\u001b[38;5;250m \u001b[39m\u001b[34;01msklearn\u001b[39;00m\u001b[34;01m.\u001b[39;00m\u001b[34;01mmetrics\u001b[39;00m\u001b[38;5;250m \u001b[39m\u001b[38;5;28;01mimport\u001b[39;00m classification_report\n\u001b[32m      4\u001b[39m skplt.metrics.plot_confusion_matrix(true_labels, predicted_labels)\n",
      "\u001b[36mFile \u001b[39m\u001b[32mc:\\Users\\yisye\\AppData\\Local\\Programs\\Python\\Python313\\Lib\\site-packages\\scikitplot\\__init__.py:2\u001b[39m\n\u001b[32m      1\u001b[39m \u001b[38;5;28;01mfrom\u001b[39;00m\u001b[38;5;250m \u001b[39m\u001b[34;01m__future__\u001b[39;00m\u001b[38;5;250m \u001b[39m\u001b[38;5;28;01mimport\u001b[39;00m absolute_import, division, print_function, unicode_literals\n\u001b[32m----> \u001b[39m\u001b[32m2\u001b[39m \u001b[38;5;28;01mfrom\u001b[39;00m\u001b[38;5;250m \u001b[39m\u001b[34;01m.\u001b[39;00m\u001b[38;5;250m \u001b[39m\u001b[38;5;28;01mimport\u001b[39;00m metrics, cluster, decomposition, estimators\n\u001b[32m      3\u001b[39m __version__ = \u001b[33m'\u001b[39m\u001b[33m0.3.7\u001b[39m\u001b[33m'\u001b[39m\n\u001b[32m      6\u001b[39m \u001b[38;5;28;01mfrom\u001b[39;00m\u001b[38;5;250m \u001b[39m\u001b[34;01mscikitplot\u001b[39;00m\u001b[34;01m.\u001b[39;00m\u001b[34;01mclassifiers\u001b[39;00m\u001b[38;5;250m \u001b[39m\u001b[38;5;28;01mimport\u001b[39;00m classifier_factory\n",
      "\u001b[36mFile \u001b[39m\u001b[32mc:\\Users\\yisye\\AppData\\Local\\Programs\\Python\\Python313\\Lib\\site-packages\\scikitplot\\metrics.py:27\u001b[39m\n\u001b[32m     24\u001b[39m \u001b[38;5;28;01mfrom\u001b[39;00m\u001b[38;5;250m \u001b[39m\u001b[34;01msklearn\u001b[39;00m\u001b[34;01m.\u001b[39;00m\u001b[34;01mcalibration\u001b[39;00m\u001b[38;5;250m \u001b[39m\u001b[38;5;28;01mimport\u001b[39;00m calibration_curve\n\u001b[32m     25\u001b[39m \u001b[38;5;28;01mfrom\u001b[39;00m\u001b[38;5;250m \u001b[39m\u001b[34;01msklearn\u001b[39;00m\u001b[34;01m.\u001b[39;00m\u001b[34;01mutils\u001b[39;00m\u001b[38;5;250m \u001b[39m\u001b[38;5;28;01mimport\u001b[39;00m deprecated\n\u001b[32m---> \u001b[39m\u001b[32m27\u001b[39m \u001b[38;5;28;01mfrom\u001b[39;00m\u001b[38;5;250m \u001b[39m\u001b[34;01mscipy\u001b[39;00m\u001b[38;5;250m \u001b[39m\u001b[38;5;28;01mimport\u001b[39;00m interp\n\u001b[32m     29\u001b[39m \u001b[38;5;28;01mfrom\u001b[39;00m\u001b[38;5;250m \u001b[39m\u001b[34;01mscikitplot\u001b[39;00m\u001b[34;01m.\u001b[39;00m\u001b[34;01mhelpers\u001b[39;00m\u001b[38;5;250m \u001b[39m\u001b[38;5;28;01mimport\u001b[39;00m binary_ks_curve, validate_labels\n\u001b[32m     30\u001b[39m \u001b[38;5;28;01mfrom\u001b[39;00m\u001b[38;5;250m \u001b[39m\u001b[34;01mscikitplot\u001b[39;00m\u001b[34;01m.\u001b[39;00m\u001b[34;01mhelpers\u001b[39;00m\u001b[38;5;250m \u001b[39m\u001b[38;5;28;01mimport\u001b[39;00m cumulative_gain_curve\n",
      "\u001b[31mImportError\u001b[39m: cannot import name 'interp' from 'scipy' (c:\\Users\\yisye\\AppData\\Local\\Programs\\Python\\Python313\\Lib\\site-packages\\scipy\\__init__.py)"
     ]
    }
   ],
   "source": [
    "import scikitplot as skplt\n",
    "from sklearn.metrics import classification_report\n",
    "\n",
    "skplt.metrics.plot_confusion_matrix(true_labels, predicted_labels)\n",
    "print(classification_report(true_labels, predicted_labels, target_names=['battery', 'cardboard', 'glass', 'metal', 'paper', 'plastic', 'syringe', 'trash']))"
   ]
  }
 ],
 "metadata": {
  "kernelspec": {
   "display_name": "Python 3",
   "language": "python",
   "name": "python3"
  },
  "language_info": {
   "codemirror_mode": {
    "name": "ipython",
    "version": 3
   },
   "file_extension": ".py",
   "mimetype": "text/x-python",
   "name": "python",
   "nbconvert_exporter": "python",
   "pygments_lexer": "ipython3",
   "version": "3.13.2"
  }
 },
 "nbformat": 4,
 "nbformat_minor": 2
}
