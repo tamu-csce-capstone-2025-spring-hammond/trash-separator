{
 "cells": [
  {
   "cell_type": "code",
   "execution_count": null,
   "metadata": {},
   "outputs": [],
   "source": [
    "# testing pretrained model\n",
    "# %pip install torch torchvision matplotlib\n",
    "# %pip install lime"
   ]
  },
  {
   "cell_type": "code",
   "execution_count": 1,
   "metadata": {},
   "outputs": [],
   "source": [
    "import torch\n",
    "import torchvision\n",
    "import torchvision.transforms as transforms\n",
    "import torch.nn as nn\n",
    "import torch.optim as optim\n",
    "from torchvision import models, datasets\n",
    "from torchvision.models import resnet50, densenet121\n",
    "from torch.utils.data import random_split, DataLoader, Subset\n",
    "import matplotlib.pyplot as plt\n",
    "from sklearn.metrics import f1_score\n",
    "from sklearn.model_selection import StratifiedShuffleSplit, StratifiedKFold\n",
    "import numpy as np\n",
    "import os"
   ]
  },
  {
   "cell_type": "code",
   "execution_count": 2,
   "metadata": {},
   "outputs": [
    {
     "name": "stdout",
     "output_type": "stream",
     "text": [
      "Classes: ['battery', 'cardboard', 'compost', 'glass', 'metal', 'paper', 'plastic', 'syringe', 'trash']\n"
     ]
    }
   ],
   "source": [
    "# image transformations\n",
    "transform = transforms.Compose([\n",
    "    transforms.Resize((224, 224)),\n",
    "    transforms.RandomHorizontalFlip(),\n",
    "    transforms.RandomRotation(10),\n",
    "    transforms.ToTensor(),\n",
    "    transforms.Normalize(mean=[0.485, 0.456, 0.406], std=[0.229, 0.224, 0.225])\n",
    "])\n",
    "\n",
    "# load the datasets\n",
    "dataset_path = './dataset'\n",
    "full_dataset = datasets.ImageFolder(root=dataset_path, transform=transform)\n",
    "class_names = full_dataset.classes\n",
    "print(f'Classes: {class_names}')"
   ]
  },
  {
   "cell_type": "code",
   "execution_count": 3,
   "metadata": {},
   "outputs": [
    {
     "name": "stdout",
     "output_type": "stream",
     "text": [
      "Number of training samples: 3410\n",
      "Number of testing samples: 853\n"
     ]
    }
   ],
   "source": [
    "# split dataset into train and test\n",
    "# train_size = int(0.8 * len(full_dataset))\n",
    "# test_size = len(full_dataset) - train_size\n",
    "# train_dataset, test_dataset = random_split(full_dataset, [train_size, test_size])\n",
    "\n",
    "labels = [label for _, label in full_dataset]\n",
    "labels = np.array(labels)\n",
    "splitter = StratifiedShuffleSplit(n_splits=1, test_size=0.2, random_state=42)\n",
    "for train_idx, test_idx in splitter.split(np.zeros(len(labels)), labels):\n",
    "    train_dataset = Subset(full_dataset, train_idx)\n",
    "    test_dataset = Subset(full_dataset, test_idx)\n",
    "\n",
    "print(f'Number of training samples: {len(train_dataset)}')\n",
    "print(f'Number of testing samples: {len(test_dataset)}')"
   ]
  },
  {
   "cell_type": "code",
   "execution_count": 4,
   "metadata": {},
   "outputs": [],
   "source": [
    "# data loaders\n",
    "batch_size = 32\n",
    "train_loader = DataLoader(train_dataset, batch_size=batch_size, shuffle=True)\n",
    "test_loader = DataLoader(test_dataset, batch_size=batch_size, shuffle=False)"
   ]
  },
  {
   "cell_type": "code",
   "execution_count": 5,
   "metadata": {},
   "outputs": [
    {
     "name": "stdout",
     "output_type": "stream",
     "text": [
      "cuda\n"
     ]
    }
   ],
   "source": [
    "# loading Densenet121 (pretrained model for transfer learning)\n",
    "model = models.densenet121(weights=\"DEFAULT\")\n",
    "\n",
    "for param in model.parameters():\n",
    "    param.requires_grad = False\n",
    "\n",
    "# Unfreeze the last dense block\n",
    "for param in model.features.denseblock4.parameters():\n",
    "    param.requires_grad = True\n",
    "\n",
    "num_classes = len(class_names)\n",
    "model.classifier = nn.Sequential(\n",
    "    nn.Dropout(p=0.2),\n",
    "    nn.Linear(model.classifier.in_features, num_classes)\n",
    ")\n",
    "device = torch.device(\"cuda\" if torch.cuda.is_available() else \"cpu\")\n",
    "model = model.to(device)\n",
    "print(device)"
   ]
  },
  {
   "cell_type": "code",
   "execution_count": 6,
   "metadata": {},
   "outputs": [],
   "source": [
    "# loss function and optimizer\n",
    "criterion = nn.CrossEntropyLoss()\n",
    "optimizer = optim.Adam(model.parameters(), lr=0.001)\n",
    "# optimizer = optim.Adam(model.classifier.parameters(), lr=0.001)"
   ]
  },
  {
   "cell_type": "code",
   "execution_count": 7,
   "metadata": {},
   "outputs": [
    {
     "name": "stdout",
     "output_type": "stream",
     "text": [
      "Training started...\n",
      "17:30:18.924103 Epoch 1/50, Loss: 0.7503\n",
      "17:30:57.522325 Epoch 2/50, Loss: 0.4139\n",
      "17:31:35.785078 Epoch 3/50, Loss: 0.3243\n",
      "17:32:14.078292 Epoch 4/50, Loss: 0.2358\n",
      "17:32:52.524251 Epoch 5/50, Loss: 0.1895\n",
      "17:33:30.946375 Epoch 6/50, Loss: 0.1553\n",
      "17:34:09.445863 Epoch 7/50, Loss: 0.1241\n",
      "17:34:47.647537 Epoch 8/50, Loss: 0.1314\n",
      "17:35:25.873807 Epoch 9/50, Loss: 0.1032\n",
      "17:36:04.345401 Epoch 10/50, Loss: 0.1097\n",
      "17:36:42.543906 Epoch 11/50, Loss: 0.0858\n",
      "17:37:21.051525 Epoch 12/50, Loss: 0.0745\n",
      "17:37:59.071724 Epoch 13/50, Loss: 0.0866\n",
      "17:38:37.603838 Epoch 14/50, Loss: 0.0517\n",
      "17:39:16.206175 Epoch 15/50, Loss: 0.0483\n",
      "17:39:54.515930 Epoch 16/50, Loss: 0.0530\n",
      "17:40:33.061647 Epoch 17/50, Loss: 0.0966\n",
      "17:41:11.580964 Epoch 18/50, Loss: 0.0719\n",
      "17:41:50.185703 Epoch 19/50, Loss: 0.0574\n",
      "17:42:28.947722 Epoch 20/50, Loss: 0.0345\n",
      "17:43:07.539385 Epoch 21/50, Loss: 0.0460\n",
      "17:43:45.655643 Epoch 22/50, Loss: 0.0532\n",
      "17:44:24.327717 Epoch 23/50, Loss: 0.0630\n",
      "17:45:02.699111 Epoch 24/50, Loss: 0.0531\n",
      "17:45:41.200871 Epoch 25/50, Loss: 0.0497\n",
      "17:46:19.760534 Epoch 26/50, Loss: 0.0579\n",
      "17:46:58.166226 Epoch 27/50, Loss: 0.0392\n",
      "17:47:36.462277 Epoch 28/50, Loss: 0.0477\n",
      "17:48:14.631721 Epoch 29/50, Loss: 0.0282\n",
      "17:48:53.158630 Epoch 30/50, Loss: 0.0337\n",
      "17:49:31.478936 Epoch 31/50, Loss: 0.0526\n",
      "17:50:09.459234 Epoch 32/50, Loss: 0.0594\n",
      "17:50:47.683857 Epoch 33/50, Loss: 0.0365\n",
      "17:51:26.132919 Epoch 34/50, Loss: 0.0342\n",
      "17:52:04.391241 Epoch 35/50, Loss: 0.0439\n",
      "17:52:42.829159 Epoch 36/50, Loss: 0.0523\n",
      "17:53:20.881307 Epoch 37/50, Loss: 0.0377\n",
      "17:53:59.158447 Epoch 38/50, Loss: 0.0387\n",
      "17:54:37.432503 Epoch 39/50, Loss: 0.0344\n",
      "17:55:15.689431 Epoch 40/50, Loss: 0.0598\n",
      "17:55:53.793713 Epoch 41/50, Loss: 0.0428\n",
      "17:56:32.127346 Epoch 42/50, Loss: 0.0378\n",
      "17:57:10.612488 Epoch 43/50, Loss: 0.0382\n",
      "17:57:48.800336 Epoch 44/50, Loss: 0.0185\n",
      "17:58:26.948822 Epoch 45/50, Loss: 0.0146\n",
      "17:59:05.168330 Epoch 46/50, Loss: 0.0277\n",
      "17:59:43.284683 Epoch 47/50, Loss: 0.0176\n",
      "18:00:21.608009 Epoch 48/50, Loss: 0.0253\n",
      "18:01:00.123824 Epoch 49/50, Loss: 0.0317\n",
      "18:01:38.473696 Epoch 50/50, Loss: 0.0354\n",
      "Training complete.\n"
     ]
    }
   ],
   "source": [
    "# Training loop\n",
    "import datetime\n",
    "epochs = 50\n",
    "print(\"Training started...\")\n",
    "\n",
    "loss_trace = []\n",
    "for epoch in range(epochs):\n",
    "    model.train()\n",
    "    running_loss = 0.0\n",
    "    \n",
    "    for images, labels in train_loader:\n",
    "        images, labels = images.to(device), labels.to(device)\n",
    "        \n",
    "        optimizer.zero_grad()\n",
    "        outputs = model(images)\n",
    "        loss = criterion(outputs, labels)\n",
    "        loss.backward()\n",
    "        optimizer.step()\n",
    "        \n",
    "        running_loss += loss.item()\n",
    "    \n",
    "    print(f\"{datetime.datetime.now().time()} Epoch {epoch+1}/{epochs}, Loss: {running_loss/len(train_loader):.4f}\")\n",
    "    loss_trace.append(running_loss/len(train_loader))\n",
    "\n",
    "print(\"Training complete.\")"
   ]
  },
  {
   "cell_type": "code",
   "execution_count": null,
   "metadata": {},
   "outputs": [],
   "source": [
    "# # Prepare Stratified K-Fold Cross-Validation\n",
    "# K = 5  # Number of folds\n",
    "# skf = StratifiedKFold(n_splits=K, shuffle=True, random_state=42)\n",
    "# indices = np.arange(len(full_dataset))\n",
    "# targets = np.array([full_dataset.targets[i] for i in range(len(full_dataset))])\n",
    "\n",
    "# # Training parameters\n",
    "# batch_size = 32\n",
    "# epochs = 5  # Adjust based on training time\n",
    "\n",
    "# # Store performance metrics\n",
    "# fold_accuracies = []\n",
    "# fold_f1_scores = []\n",
    "\n",
    "# # K-Fold Cross-Validation loop\n",
    "# for fold, (train_idx, val_idx) in enumerate(skf.split(indices, targets)):\n",
    "#     print(f\"\\nFold {fold + 1}/{K}\")\n",
    "\n",
    "#     # Create train and validation subsets\n",
    "#     train_subset = Subset(full_dataset, train_idx)\n",
    "#     val_subset = Subset(full_dataset, val_idx)\n",
    "\n",
    "#     # Create data loaders\n",
    "#     train_loader = DataLoader(train_subset, batch_size=batch_size, shuffle=True)\n",
    "#     val_loader = DataLoader(val_subset, batch_size=batch_size, shuffle=False)\n",
    "\n",
    "#     # Load ResNet50 model\n",
    "#     model = models.resnet50(pretrained=True)\n",
    "#     for param in model.parameters():\n",
    "#         param.requires_grad = False  # Freeze pretrained layers\n",
    "\n",
    "#     # Modify fully connected layer with dropout\n",
    "#     model.fc = nn.Sequential(\n",
    "#         nn.Dropout(p=0.1),\n",
    "#         nn.Linear(model.fc.in_features, num_classes)\n",
    "#     )\n",
    "\n",
    "#     model = model.to(device)\n",
    "\n",
    "#     # Loss function and optimizer\n",
    "#     criterion = nn.CrossEntropyLoss()\n",
    "#     optimizer = optim.Adam(model.fc.parameters(), lr=0.001)\n",
    "\n",
    "#     # Training loop\n",
    "#     for epoch in range(epochs):\n",
    "#         model.train()\n",
    "#         running_loss = 0.0\n",
    "#         for images, labels in train_loader:\n",
    "#             images, labels = images.to(device), labels.to(device)\n",
    "\n",
    "#             optimizer.zero_grad()\n",
    "#             outputs = model(images)\n",
    "#             loss = criterion(outputs, labels)\n",
    "#             loss.backward()\n",
    "#             optimizer.step()\n",
    "\n",
    "#             running_loss += loss.item()\n",
    "\n",
    "#         print(f\"Epoch {epoch+1}/{epochs}, Loss: {running_loss/len(train_loader):.4f}\")\n",
    "\n",
    "#     # Validation loop\n",
    "#     model.eval()\n",
    "#     correct, total = 0, 0\n",
    "#     true_labels, predicted_labels = [], []\n",
    "\n",
    "#     with torch.no_grad():\n",
    "#         for images, labels in val_loader:\n",
    "#             images, labels = images.to(device), labels.to(device)\n",
    "#             outputs = model(images)\n",
    "#             _, predicted = torch.max(outputs, 1)\n",
    "\n",
    "#             total += labels.size(0)\n",
    "#             correct += (predicted == labels).sum().item()\n",
    "\n",
    "#             true_labels.extend(labels.cpu().numpy())\n",
    "#             predicted_labels.extend(predicted.cpu().numpy())\n",
    "\n",
    "#     # Calculate metrics\n",
    "#     accuracy = 100 * correct / total\n",
    "#     fscore = f1_score(true_labels, predicted_labels, average='macro')\n",
    "\n",
    "#     fold_accuracies.append(accuracy)\n",
    "#     fold_f1_scores.append(fscore)\n",
    "\n",
    "#     print(f\"Fold {fold + 1} Accuracy: {accuracy:.2f}%\")\n",
    "#     print(f\"Fold {fold + 1} F1-Score: {fscore:.4f}\")\n",
    "\n",
    "# # Print final K-Fold results\n",
    "# print(\"\\nFinal Cross-Validation Results:\")\n",
    "# print(f\"Average Accuracy: {np.mean(fold_accuracies):.2f}% ± {np.std(fold_accuracies):.2f}\")\n",
    "# print(f\"Average F1-Score: {np.mean(fold_f1_scores):.4f} ± {np.std(fold_f1_scores):.4f}\")"
   ]
  },
  {
   "cell_type": "code",
   "execution_count": 8,
   "metadata": {},
   "outputs": [
    {
     "data": {
      "text/plain": [
       "[<matplotlib.lines.Line2D at 0x23ca74afb10>]"
      ]
     },
     "execution_count": 8,
     "metadata": {},
     "output_type": "execute_result"
    },
    {
     "data": {
      "image/png": "[encoded data removed]",
      "text/plain": [
       "<Figure size 640x480 with 1 Axes>"
      ]
     },
     "metadata": {},
     "output_type": "display_data"
    }
   ],
   "source": [
    "plt.plot(loss_trace)"
   ]
  },
  {
   "cell_type": "code",
   "execution_count": 9,
   "metadata": {},
   "outputs": [
    {
     "name": "stdout",
     "output_type": "stream",
     "text": [
      "Testing Accuracy: 90.15%\n",
      "F1-Score: 0.9015\n",
      "Model saved.\n"
     ]
    }
   ],
   "source": [
    "# Validation\n",
    "model.eval()\n",
    "correct = 0\n",
    "total = 0\n",
    "true_labels = []\n",
    "predicted_labels = []\n",
    "with torch.no_grad():\n",
    "    for images, labels in test_loader:\n",
    "        images, labels = images.to(device), labels.to(device)\n",
    "        outputs = model(images)\n",
    "        _, predicted = torch.max(outputs, 1)\n",
    "\n",
    "        total += labels.size(0)\n",
    "        correct += (predicted == labels).sum().item()\n",
    "\n",
    "        true_labels.extend(labels.cpu().numpy())\n",
    "        predicted_labels.extend(predicted.cpu().numpy())\n",
    "\n",
    "accuracy = 100 * correct / total\n",
    "print(f'Testing Accuracy: {accuracy:.2f}%')\n",
    "\n",
    "# Calculate F1-Score (Macro for Multi-class)\n",
    "fscore = f1_score(true_labels, predicted_labels, average='micro')\n",
    "print(f'F1-Score: {fscore:.4f}')\n",
    "\n",
    "# Save model\n",
    "torch.save(model.state_dict(), 'densenet121_model2-nobg.pth')\n",
    "print(\"Model saved.\")"
   ]
  },
  {
   "cell_type": "code",
   "execution_count": null,
   "metadata": {},
   "outputs": [],
   "source": [
    "import scikitplot as skplt\n",
    "from sklearn.metrics import classification_report\n",
    "\n",
    "skplt.metrics.plot_confusion_matrix(true_labels, predicted_labels)\n",
    "print(classification_report(true_labels, predicted_labels, target_names=['battery', 'cardboard', 'glass', 'metal', 'paper', 'plastic', 'syringe', 'trash']))"
   ]
  }
 ],
 "metadata": {
  "kernelspec": {
   "display_name": "Python 3",
   "language": "python",
   "name": "python3"
  },
  "language_info": {
   "codemirror_mode": {
    "name": "ipython",
    "version": 3
   },
   "file_extension": ".py",
   "mimetype": "text/x-python",
   "name": "python",
   "nbconvert_exporter": "python",
   "pygments_lexer": "ipython3",
   "version": "3.13.2"
  }
 },
 "nbformat": 4,
 "nbformat_minor": 2
}
